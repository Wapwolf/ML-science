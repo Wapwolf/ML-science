{
 "cells": [
  {
   "cell_type": "code",
   "execution_count": 20,
   "metadata": {},
   "outputs": [],
   "source": [
    "def normalize(column):\n",
    "    \"\"\"\n",
    "    Normalize column\n",
    "\n",
    "    Parameters\n",
    "    ----------\n",
    "    column : pandas.Series\n",
    "        column to normalize\n",
    "\n",
    "    Returns\n",
    "    -------\n",
    "    columnNorm : pandas.Series\n",
    "        normalized column\n",
    "    column_mean : float\n",
    "        normalized column\n",
    "    column_range : float\n",
    "        normalized column\n",
    "    \"\"\"\n",
    "    column_mean = float(column.mean())\n",
    "    column_range = float(column.max() - column.min())\n",
    "    columnNorm = (column - column_mean) / column_range\n",
    "    return columnNorm, column_mean, column_range\n",
    "\n",
    "\n",
    "def _plot(x, y, y_pred = None,\n",
    "          title = None, \n",
    "          loss_graph = False, x_label = 'Hour', y_label = 'ConsumptionMWtH'):\n",
    "    \"\"\"\n",
    "    Plots data  (Captain, where is my boat?)\n",
    "\n",
    "    Parameters\n",
    "    ----------\n",
    "    x : numpy array\n",
    "        features\n",
    "    y : numpy array\n",
    "        vector of dependent values\n",
    "    y_pred : numpy array\n",
    "        vector of predicted values\n",
    "    title : string\n",
    "        plot name\n",
    "    plot_label : string\n",
    "        name of the line that will be shown in legend\n",
    "    x_label : string\n",
    "    y_label : string\n",
    "\n",
    "    Returns\n",
    "    -------\n",
    "    None\n",
    "    \"\"\"\n",
    "    fig, ax = plt.subplots(figsize=(10,10))\n",
    "    if y_pred is not None:\n",
    "        ax.scatter(x, y, label='', s = 15)\n",
    "        ax.plot(x, y, color='tab:grey', linewidth=2, label = 'Real')\n",
    "        ax.plot(x, y_pred, color='k', linewidth=2, label='Predicted')\n",
    "        std = np.std(y_pred, axis=0)\n",
    "        ax.fill_between(x,y_pred - std, y_pred + std, label='std')\n",
    "        ax.legend()\n",
    "    else:\n",
    "        ax.plot(x, y, color='tab:grey', linewidth=2, label = 'Real')\n",
    "        \n",
    "    if title:\n",
    "        ax.set_title(title, size = 26)\n",
    "        \n",
    "    ax.set_xlabel(x_label, size=16)\n",
    "    ax.set_ylabel(y_label, size=16)\n",
    "    ax.grid()\n",
    "    \n",
    "\n",
    "def _plot_loss(x, y,\n",
    "          title = None, \n",
    "          x_label = 'Час', y_label = 'функция ошибки S'):\n",
    "    \"\"\"\n",
    "    Plots loss\n",
    "\n",
    "    Parameters\n",
    "    ----------\n",
    "    x : numpy array\n",
    "        x values\n",
    "    y : numpy array\n",
    "        y values\n",
    "    title : string\n",
    "        plot name\n",
    "    label : string\n",
    "        name of the line that will be shown in legend\n",
    "    x_label : string\n",
    "    y_label : string\n",
    "\n",
    "    Returns\n",
    "    -------\n",
    "    None\n",
    "    \"\"\"\n",
    "    fig, ax = plt.subplots(figsize=(10,10))\n",
    "\n",
    "    ax.plot(x, y, color='k', linewidth=2)\n",
    "    std = np.std(y, axis=0)\n",
    "    \n",
    "    try:\n",
    "        ax.fill_between(x,y - std, y + std)\n",
    "    except:\n",
    "        pass\n",
    "        \n",
    "    ax.legend()\n",
    "    if title:\n",
    "        ax.set_title(title, size = 26)\n",
    "        \n",
    "    ax.set_xlabel(x_label, size=16)\n",
    "    ax.set_ylabel(y_label, size=16)\n",
    "    ax.grid()"
   ]
  },
  {
   "cell_type": "markdown",
   "metadata": {},
   "source": [
    "# Неделя 2: Выбор признаков на основе генетического алгоритма  "
   ]
  },
  {
   "cell_type": "markdown",
   "metadata": {},
   "source": [
    "## Блок часто используемых функций:\n",
    "*Описание:* Здесь объявлены часто вызываемые функции, которые я часто использую в этом ноутбуке"
   ]
  },
  {
   "cell_type": "code",
   "execution_count": 3,
   "metadata": {},
   "outputs": [],
   "source": [
    "def normalize(column):\n",
    "    \"\"\"\n",
    "    Normalize column\n",
    "\n",
    "    Parameters\n",
    "    ----------\n",
    "    column : pandas.Series\n",
    "        column to normalize\n",
    "\n",
    "    Returns\n",
    "    -------\n",
    "    columnNorm : pandas.Series\n",
    "        normalized column\n",
    "    column_mean : float\n",
    "        normalized column\n",
    "    column_range : float\n",
    "        normalized column\n",
    "    \"\"\"\n",
    "    column_mean = float(column.mean())\n",
    "    column_range = float(column.max() - column.min())\n",
    "    columnNorm = (column - column_mean) / column_range\n",
    "    return columnNorm, column_mean, column_range\n",
    "\n",
    "\n",
    "def _plot(x, y, y_pred = None,\n",
    "          title = None, \n",
    "          plot_label = None, x_label = 'Day', y_label = 'ConsumptionMWtH'):\n",
    "    \"\"\"\n",
    "    Plots data  (Captain, where is my boat?)\n",
    "\n",
    "    Parameters\n",
    "    ----------\n",
    "    x : numpy array\n",
    "        features\n",
    "    y : numpy array\n",
    "        vector of dependent values\n",
    "    y_pred : numpy array\n",
    "        vector of predicted values\n",
    "    title : string\n",
    "        plot name\n",
    "    plot_label : string\n",
    "        name of the line that will be shown in legend\n",
    "    x_label : string\n",
    "    y_label : string\n",
    "\n",
    "    Returns\n",
    "    -------\n",
    "    None\n",
    "    \"\"\"\n",
    "    fig, ax = plt.subplots(figsize=(10,10))\n",
    "    if y_pred:\n",
    "        ax.scatter(x, y, label='', s = 10)    \n",
    "        ax.plot(x, y_pred, color='b', linewidth=2, label=plot_label)\n",
    "        std = np.std(y_pred, axis=0)\n",
    "        ax.fill_between(x,y_pred - std, y_pred + std, label='std')\n",
    "        ax.legend()\n",
    "    else:\n",
    "        ax.plot(x, y, color='tab:grey', linewidth=2, label=plot_label)\n",
    "        \n",
    "    if title:\n",
    "        ax.title(title, size = 26)\n",
    "        \n",
    "    ax.set_xlabel(x_label, size=16)\n",
    "    ax.set_ylabel(y_label, size=16)\n",
    "    ax.grid()"
   ]
  },
  {
   "cell_type": "markdown",
   "metadata": {},
   "source": [
    "## Цель вычислительного эксперимента\n",
    "\n",
    "*Цель*: при помощи генетического алгоритма выбрать признаки и решить задачу регрессии.  \n",
    "\n",
    "*Описание задачи*: предсказать потребление электричества в последний день в году на основе предыдущей недели.  \n",
    "\n",
    "**Метрика качества:** В качестве метрики качества модели будем использовать COD - coefficient of determination:\n",
    "\n",
    "$$COD = 1 - \\frac{SSR}{SST},$$\n",
    "\n",
    "где $SSR = \\sum_{i=0}^n (\\hat{y} - y)^2$ - sum of squared residuals, $SST = \\sum_{i=0}^n (\\hat{y} - \\bar{y})^2$ - sum of all deviations squared  \n",
    "  \n",
    "**Причина:** удобно выставлять трэшхолд для генетического алгоритма"
   ]
  },
  {
   "cell_type": "markdown",
   "metadata": {},
   "source": [
    "## Описание выборки \n",
    " - использован датасет EnergyConsumption  \n",
    " (ссылка на датасет: https://sourceforge.net/p/mvr/code/HEAD/tree/data/EnergyConsumption.xls?format=raw)  "
   ]
  },
  {
   "cell_type": "markdown",
   "metadata": {},
   "source": [
    "#### Шаг 1: Загрузим выборку"
   ]
  },
  {
   "cell_type": "markdown",
   "metadata": {},
   "source": [
    "**Note:** При попытке загрузки датасета по ссылке возникает ошибка. В этой версии ноутбука датасет был вручную загружен с ссылки и сохранён в ту же директорию, что и этот ноубук"
   ]
  },
  {
   "cell_type": "code",
   "execution_count": 4,
   "metadata": {},
   "outputs": [
    {
     "data": {
      "text/html": [
       "<div>\n",
       "<style scoped>\n",
       "    .dataframe tbody tr th:only-of-type {\n",
       "        vertical-align: middle;\n",
       "    }\n",
       "\n",
       "    .dataframe tbody tr th {\n",
       "        vertical-align: top;\n",
       "    }\n",
       "\n",
       "    .dataframe thead th {\n",
       "        text-align: right;\n",
       "    }\n",
       "</style>\n",
       "<table border=\"1\" class=\"dataframe\">\n",
       "  <thead>\n",
       "    <tr style=\"text-align: right;\">\n",
       "      <th></th>\n",
       "      <th>Date</th>\n",
       "      <th>WeekDay</th>\n",
       "      <th>Hour</th>\n",
       "      <th>ConsumprionMWtH</th>\n",
       "      <th>TemperatureC</th>\n",
       "    </tr>\n",
       "  </thead>\n",
       "  <tbody>\n",
       "    <tr>\n",
       "      <th>0</th>\n",
       "      <td>2005-01-01 00:00:00</td>\n",
       "      <td>6</td>\n",
       "      <td>00:00:00</td>\n",
       "      <td>1289.617859</td>\n",
       "      <td>-10.676569</td>\n",
       "    </tr>\n",
       "    <tr>\n",
       "      <th>1</th>\n",
       "      <td>2005-01-01 01:00:00</td>\n",
       "      <td>6</td>\n",
       "      <td>01:00:00</td>\n",
       "      <td>1265.573853</td>\n",
       "      <td>-12.041959</td>\n",
       "    </tr>\n",
       "    <tr>\n",
       "      <th>2</th>\n",
       "      <td>2005-01-01 02:00:00</td>\n",
       "      <td>6</td>\n",
       "      <td>02:00:00</td>\n",
       "      <td>1273.188232</td>\n",
       "      <td>-13.198006</td>\n",
       "    </tr>\n",
       "    <tr>\n",
       "      <th>3</th>\n",
       "      <td>2005-01-01 03:00:00</td>\n",
       "      <td>6</td>\n",
       "      <td>03:00:00</td>\n",
       "      <td>1279.703979</td>\n",
       "      <td>-13.999279</td>\n",
       "    </tr>\n",
       "    <tr>\n",
       "      <th>4</th>\n",
       "      <td>2005-01-01 04:00:00</td>\n",
       "      <td>6</td>\n",
       "      <td>04:00:00</td>\n",
       "      <td>1292.839539</td>\n",
       "      <td>-14.782819</td>\n",
       "    </tr>\n",
       "  </tbody>\n",
       "</table>\n",
       "</div>"
      ],
      "text/plain": [
       "                 Date  WeekDay      Hour  ConsumprionMWtH  TemperatureC\n",
       "0 2005-01-01 00:00:00        6  00:00:00      1289.617859    -10.676569\n",
       "1 2005-01-01 01:00:00        6  01:00:00      1265.573853    -12.041959\n",
       "2 2005-01-01 02:00:00        6  02:00:00      1273.188232    -13.198006\n",
       "3 2005-01-01 03:00:00        6  03:00:00      1279.703979    -13.999279\n",
       "4 2005-01-01 04:00:00        6  04:00:00      1292.839539    -14.782819"
      ]
     },
     "execution_count": 4,
     "metadata": {},
     "output_type": "execute_result"
    }
   ],
   "source": [
    "name = 'EnergyConsumption.xls'\n",
    "df = pd.read_excel(name, parse_dates=[\"Date\"])\n",
    "df.head()"
   ]
  },
  {
   "cell_type": "code",
   "execution_count": 5,
   "metadata": {},
   "outputs": [
    {
     "name": "stdout",
     "output_type": "stream",
     "text": [
      "Dataset has:\n",
      "  8760 rows, 4 feature\n",
      "  8760 unique feature values\n",
      "\n",
      "Is there any missing values?\n",
      "Feature name | Number of Nan values\n",
      "Date               0\n",
      "WeekDay            0\n",
      "Hour               0\n",
      "ConsumprionMWtH    0\n",
      "TemperatureC       0\n",
      "dtype: int64\n",
      "\n",
      "Is there any Null values?\n",
      "Feature name | Number of Null values\n",
      "Date               0\n",
      "WeekDay            0\n",
      "Hour               0\n",
      "ConsumprionMWtH    0\n",
      "TemperatureC       0\n",
      "dtype: int64\n"
     ]
    }
   ],
   "source": [
    "print(\"Dataset has:\")\n",
    "print(\"  %s rows, %s feature\" % (df.shape[0], int(df.shape[1] - 1)))\n",
    "print(\"  %s unique feature values\" % len(df['Date'].unique()))\n",
    "print(\"\\nIs there any missing values?\")\n",
    "print(\"Feature name | Number of Nan values\")\n",
    "print(df.isna().sum())\n",
    "print(\"\\nIs there any Null values?\")\n",
    "print(\"Feature name | Number of Null values\")\n",
    "print(df.isnull().sum())"
   ]
  },
  {
   "cell_type": "markdown",
   "metadata": {},
   "source": [
    "Датасет в порядке, данные по порядковому числу дня в неделе, часу, потреблению электричества и температуре есть для 365-ти дней 2005 года"
   ]
  },
  {
   "cell_type": "markdown",
   "metadata": {},
   "source": [
    "#### Шаг 2: Преобразуем выборку"
   ]
  },
  {
   "cell_type": "markdown",
   "metadata": {},
   "source": [
    "Далее представлены идеи автора по предобработке данных."
   ]
  },
  {
   "cell_type": "markdown",
   "metadata": {},
   "source": [
    "**Идея 1:** Добавим в данные колонку с номером месяца (тем самым добавим информацию о цикличности):"
   ]
  },
  {
   "cell_type": "code",
   "execution_count": 6,
   "metadata": {},
   "outputs": [
    {
     "data": {
      "text/html": [
       "<div>\n",
       "<style scoped>\n",
       "    .dataframe tbody tr th:only-of-type {\n",
       "        vertical-align: middle;\n",
       "    }\n",
       "\n",
       "    .dataframe tbody tr th {\n",
       "        vertical-align: top;\n",
       "    }\n",
       "\n",
       "    .dataframe thead th {\n",
       "        text-align: right;\n",
       "    }\n",
       "</style>\n",
       "<table border=\"1\" class=\"dataframe\">\n",
       "  <thead>\n",
       "    <tr style=\"text-align: right;\">\n",
       "      <th></th>\n",
       "      <th>Date</th>\n",
       "      <th>Month</th>\n",
       "      <th>WeekDay</th>\n",
       "      <th>Hour</th>\n",
       "      <th>ConsumprionMWtH</th>\n",
       "      <th>TemperatureC</th>\n",
       "    </tr>\n",
       "  </thead>\n",
       "  <tbody>\n",
       "    <tr>\n",
       "      <th>0</th>\n",
       "      <td>2005-01-01 00:00:00</td>\n",
       "      <td>1</td>\n",
       "      <td>6</td>\n",
       "      <td>00:00:00</td>\n",
       "      <td>1289.617859</td>\n",
       "      <td>-10.676569</td>\n",
       "    </tr>\n",
       "    <tr>\n",
       "      <th>1</th>\n",
       "      <td>2005-01-01 01:00:00</td>\n",
       "      <td>1</td>\n",
       "      <td>6</td>\n",
       "      <td>01:00:00</td>\n",
       "      <td>1265.573853</td>\n",
       "      <td>-12.041959</td>\n",
       "    </tr>\n",
       "    <tr>\n",
       "      <th>2</th>\n",
       "      <td>2005-01-01 02:00:00</td>\n",
       "      <td>1</td>\n",
       "      <td>6</td>\n",
       "      <td>02:00:00</td>\n",
       "      <td>1273.188232</td>\n",
       "      <td>-13.198006</td>\n",
       "    </tr>\n",
       "    <tr>\n",
       "      <th>3</th>\n",
       "      <td>2005-01-01 03:00:00</td>\n",
       "      <td>1</td>\n",
       "      <td>6</td>\n",
       "      <td>03:00:00</td>\n",
       "      <td>1279.703979</td>\n",
       "      <td>-13.999279</td>\n",
       "    </tr>\n",
       "    <tr>\n",
       "      <th>4</th>\n",
       "      <td>2005-01-01 04:00:00</td>\n",
       "      <td>1</td>\n",
       "      <td>6</td>\n",
       "      <td>04:00:00</td>\n",
       "      <td>1292.839539</td>\n",
       "      <td>-14.782819</td>\n",
       "    </tr>\n",
       "  </tbody>\n",
       "</table>\n",
       "</div>"
      ],
      "text/plain": [
       "                 Date  Month  WeekDay      Hour  ConsumprionMWtH  TemperatureC\n",
       "0 2005-01-01 00:00:00      1        6  00:00:00      1289.617859    -10.676569\n",
       "1 2005-01-01 01:00:00      1        6  01:00:00      1265.573853    -12.041959\n",
       "2 2005-01-01 02:00:00      1        6  02:00:00      1273.188232    -13.198006\n",
       "3 2005-01-01 03:00:00      1        6  03:00:00      1279.703979    -13.999279\n",
       "4 2005-01-01 04:00:00      1        6  04:00:00      1292.839539    -14.782819"
      ]
     },
     "execution_count": 6,
     "metadata": {},
     "output_type": "execute_result"
    }
   ],
   "source": [
    "df.insert (1, 'Month', df['Date'].apply(lambda x: x.month))\n",
    "df.head()"
   ]
  },
  {
   "cell_type": "markdown",
   "metadata": {},
   "source": [
    "Преобразуем первый столбец из \"год/месяц/день/время\" в \"порядковый номер дня в году\":"
   ]
  },
  {
   "cell_type": "code",
   "execution_count": 7,
   "metadata": {},
   "outputs": [
    {
     "data": {
      "text/html": [
       "<div>\n",
       "<style scoped>\n",
       "    .dataframe tbody tr th:only-of-type {\n",
       "        vertical-align: middle;\n",
       "    }\n",
       "\n",
       "    .dataframe tbody tr th {\n",
       "        vertical-align: top;\n",
       "    }\n",
       "\n",
       "    .dataframe thead th {\n",
       "        text-align: right;\n",
       "    }\n",
       "</style>\n",
       "<table border=\"1\" class=\"dataframe\">\n",
       "  <thead>\n",
       "    <tr style=\"text-align: right;\">\n",
       "      <th></th>\n",
       "      <th>Date</th>\n",
       "      <th>Month</th>\n",
       "      <th>WeekDay</th>\n",
       "      <th>Hour</th>\n",
       "      <th>ConsumprionMWtH</th>\n",
       "      <th>TemperatureC</th>\n",
       "    </tr>\n",
       "  </thead>\n",
       "  <tbody>\n",
       "    <tr>\n",
       "      <th>0</th>\n",
       "      <td>1</td>\n",
       "      <td>1</td>\n",
       "      <td>6</td>\n",
       "      <td>00:00:00</td>\n",
       "      <td>1289.617859</td>\n",
       "      <td>-10.676569</td>\n",
       "    </tr>\n",
       "    <tr>\n",
       "      <th>1</th>\n",
       "      <td>1</td>\n",
       "      <td>1</td>\n",
       "      <td>6</td>\n",
       "      <td>01:00:00</td>\n",
       "      <td>1265.573853</td>\n",
       "      <td>-12.041959</td>\n",
       "    </tr>\n",
       "    <tr>\n",
       "      <th>2</th>\n",
       "      <td>1</td>\n",
       "      <td>1</td>\n",
       "      <td>6</td>\n",
       "      <td>02:00:00</td>\n",
       "      <td>1273.188232</td>\n",
       "      <td>-13.198006</td>\n",
       "    </tr>\n",
       "    <tr>\n",
       "      <th>3</th>\n",
       "      <td>1</td>\n",
       "      <td>1</td>\n",
       "      <td>6</td>\n",
       "      <td>03:00:00</td>\n",
       "      <td>1279.703979</td>\n",
       "      <td>-13.999279</td>\n",
       "    </tr>\n",
       "    <tr>\n",
       "      <th>4</th>\n",
       "      <td>1</td>\n",
       "      <td>1</td>\n",
       "      <td>6</td>\n",
       "      <td>04:00:00</td>\n",
       "      <td>1292.839539</td>\n",
       "      <td>-14.782819</td>\n",
       "    </tr>\n",
       "  </tbody>\n",
       "</table>\n",
       "</div>"
      ],
      "text/plain": [
       "   Date  Month  WeekDay      Hour  ConsumprionMWtH  TemperatureC\n",
       "0     1      1        6  00:00:00      1289.617859    -10.676569\n",
       "1     1      1        6  01:00:00      1265.573853    -12.041959\n",
       "2     1      1        6  02:00:00      1273.188232    -13.198006\n",
       "3     1      1        6  03:00:00      1279.703979    -13.999279\n",
       "4     1      1        6  04:00:00      1292.839539    -14.782819"
      ]
     },
     "execution_count": 7,
     "metadata": {},
     "output_type": "execute_result"
    }
   ],
   "source": [
    "df['Date'] = df['Date'].dt.dayofyear\n",
    "df.head()"
   ]
  },
  {
   "cell_type": "markdown",
   "metadata": {},
   "source": [
    "Также преобразуем часы в более приятный вид (т.к кроме часов в данных не оказалось нет ни минут, ни секунд)"
   ]
  },
  {
   "cell_type": "code",
   "execution_count": 8,
   "metadata": {
    "scrolled": true
   },
   "outputs": [
    {
     "data": {
      "text/html": [
       "<div>\n",
       "<style scoped>\n",
       "    .dataframe tbody tr th:only-of-type {\n",
       "        vertical-align: middle;\n",
       "    }\n",
       "\n",
       "    .dataframe tbody tr th {\n",
       "        vertical-align: top;\n",
       "    }\n",
       "\n",
       "    .dataframe thead th {\n",
       "        text-align: right;\n",
       "    }\n",
       "</style>\n",
       "<table border=\"1\" class=\"dataframe\">\n",
       "  <thead>\n",
       "    <tr style=\"text-align: right;\">\n",
       "      <th></th>\n",
       "      <th>Date</th>\n",
       "      <th>Month</th>\n",
       "      <th>WeekDay</th>\n",
       "      <th>Hour</th>\n",
       "      <th>ConsumprionMWtH</th>\n",
       "      <th>TemperatureC</th>\n",
       "    </tr>\n",
       "  </thead>\n",
       "  <tbody>\n",
       "    <tr>\n",
       "      <th>0</th>\n",
       "      <td>1</td>\n",
       "      <td>1</td>\n",
       "      <td>6</td>\n",
       "      <td>0</td>\n",
       "      <td>1289.617859</td>\n",
       "      <td>-10.676569</td>\n",
       "    </tr>\n",
       "    <tr>\n",
       "      <th>1</th>\n",
       "      <td>1</td>\n",
       "      <td>1</td>\n",
       "      <td>6</td>\n",
       "      <td>1</td>\n",
       "      <td>1265.573853</td>\n",
       "      <td>-12.041959</td>\n",
       "    </tr>\n",
       "    <tr>\n",
       "      <th>2</th>\n",
       "      <td>1</td>\n",
       "      <td>1</td>\n",
       "      <td>6</td>\n",
       "      <td>2</td>\n",
       "      <td>1273.188232</td>\n",
       "      <td>-13.198006</td>\n",
       "    </tr>\n",
       "    <tr>\n",
       "      <th>3</th>\n",
       "      <td>1</td>\n",
       "      <td>1</td>\n",
       "      <td>6</td>\n",
       "      <td>3</td>\n",
       "      <td>1279.703979</td>\n",
       "      <td>-13.999279</td>\n",
       "    </tr>\n",
       "    <tr>\n",
       "      <th>4</th>\n",
       "      <td>1</td>\n",
       "      <td>1</td>\n",
       "      <td>6</td>\n",
       "      <td>4</td>\n",
       "      <td>1292.839539</td>\n",
       "      <td>-14.782819</td>\n",
       "    </tr>\n",
       "  </tbody>\n",
       "</table>\n",
       "</div>"
      ],
      "text/plain": [
       "   Date  Month  WeekDay  Hour  ConsumprionMWtH  TemperatureC\n",
       "0     1      1        6     0      1289.617859    -10.676569\n",
       "1     1      1        6     1      1265.573853    -12.041959\n",
       "2     1      1        6     2      1273.188232    -13.198006\n",
       "3     1      1        6     3      1279.703979    -13.999279\n",
       "4     1      1        6     4      1292.839539    -14.782819"
      ]
     },
     "execution_count": 8,
     "metadata": {},
     "output_type": "execute_result"
    }
   ],
   "source": [
    "df['Hour'] = df['Hour'].apply(lambda x: x.hour)\n",
    "df.head()"
   ]
  },
  {
   "cell_type": "markdown",
   "metadata": {},
   "source": [
    "Как мы видим, в данных есть признаки, принимающие циклично повторяющиеся значения - месяцы, дни недели, часы и даты"
   ]
  },
  {
   "cell_type": "code",
   "execution_count": 9,
   "metadata": {},
   "outputs": [
    {
     "name": "stdout",
     "output_type": "stream",
     "text": [
      "Unique values of days: [6 7 1 2 3 4 5], total: 7 values \n",
      "Unique values of months: [ 1  2  3  4  5  6  7  8  9 10 11 12], total: 12 values \n",
      "Unique values of hours: [ 0  1  2  3  4  5  6  7  8  9 10 11 12 13 14 15 16 17 18 19 20 21 22 23], total: 24 values \n",
      "Unique values of date: <loooong list>, total: 365 values \n"
     ]
    }
   ],
   "source": [
    "print(f'Unique values of days: {df.WeekDay.unique()}, total: {len(df.WeekDay.unique())} values ')\n",
    "print(f'Unique values of months: {df.Month.unique()}, total: {len(df.Month.unique())} values ')\n",
    "print(f'Unique values of hours: {df.Hour.unique()}, total: {len(df.Hour.unique())} values ')\n",
    "print(f'Unique values of date: <loooong list>, total: {len(df.Date.unique())} values ')"
   ]
  },
  {
   "cell_type": "markdown",
   "metadata": {},
   "source": [
    "**Идея 2:** Согласно http://blog.davidkaleko.com/feature-engineering-cyclical-features.html полезно (для обобщающей способности будущей модели) обработать циклично повторяющиеся фичи при помощи синуса и косинуса (мы заодно увеличчим на 50% колличество фичей)"
   ]
  },
  {
   "cell_type": "code",
   "execution_count": 10,
   "metadata": {},
   "outputs": [
    {
     "data": {
      "text/html": [
       "<div>\n",
       "<style scoped>\n",
       "    .dataframe tbody tr th:only-of-type {\n",
       "        vertical-align: middle;\n",
       "    }\n",
       "\n",
       "    .dataframe tbody tr th {\n",
       "        vertical-align: top;\n",
       "    }\n",
       "\n",
       "    .dataframe thead th {\n",
       "        text-align: right;\n",
       "    }\n",
       "</style>\n",
       "<table border=\"1\" class=\"dataframe\">\n",
       "  <thead>\n",
       "    <tr style=\"text-align: right;\">\n",
       "      <th></th>\n",
       "      <th>Date</th>\n",
       "      <th>Month</th>\n",
       "      <th>WeekDay</th>\n",
       "      <th>Hour</th>\n",
       "      <th>ConsumprionMWtH</th>\n",
       "      <th>TemperatureC</th>\n",
       "      <th>date_sin</th>\n",
       "      <th>date_cos</th>\n",
       "      <th>mnth_sin</th>\n",
       "      <th>mnth_cos</th>\n",
       "      <th>day_sin</th>\n",
       "      <th>day_cos</th>\n",
       "      <th>hr_sin</th>\n",
       "      <th>hr_cos</th>\n",
       "    </tr>\n",
       "  </thead>\n",
       "  <tbody>\n",
       "    <tr>\n",
       "      <th>0</th>\n",
       "      <td>1</td>\n",
       "      <td>1</td>\n",
       "      <td>6</td>\n",
       "      <td>0</td>\n",
       "      <td>1289.617859</td>\n",
       "      <td>-10.676569</td>\n",
       "      <td>0.0</td>\n",
       "      <td>1.0</td>\n",
       "      <td>0.0</td>\n",
       "      <td>1.0</td>\n",
       "      <td>-0.974928</td>\n",
       "      <td>-0.222521</td>\n",
       "      <td>0.000000</td>\n",
       "      <td>1.000000</td>\n",
       "    </tr>\n",
       "    <tr>\n",
       "      <th>1</th>\n",
       "      <td>1</td>\n",
       "      <td>1</td>\n",
       "      <td>6</td>\n",
       "      <td>1</td>\n",
       "      <td>1265.573853</td>\n",
       "      <td>-12.041959</td>\n",
       "      <td>0.0</td>\n",
       "      <td>1.0</td>\n",
       "      <td>0.0</td>\n",
       "      <td>1.0</td>\n",
       "      <td>-0.974928</td>\n",
       "      <td>-0.222521</td>\n",
       "      <td>0.258819</td>\n",
       "      <td>0.965926</td>\n",
       "    </tr>\n",
       "    <tr>\n",
       "      <th>2</th>\n",
       "      <td>1</td>\n",
       "      <td>1</td>\n",
       "      <td>6</td>\n",
       "      <td>2</td>\n",
       "      <td>1273.188232</td>\n",
       "      <td>-13.198006</td>\n",
       "      <td>0.0</td>\n",
       "      <td>1.0</td>\n",
       "      <td>0.0</td>\n",
       "      <td>1.0</td>\n",
       "      <td>-0.974928</td>\n",
       "      <td>-0.222521</td>\n",
       "      <td>0.500000</td>\n",
       "      <td>0.866025</td>\n",
       "    </tr>\n",
       "    <tr>\n",
       "      <th>3</th>\n",
       "      <td>1</td>\n",
       "      <td>1</td>\n",
       "      <td>6</td>\n",
       "      <td>3</td>\n",
       "      <td>1279.703979</td>\n",
       "      <td>-13.999279</td>\n",
       "      <td>0.0</td>\n",
       "      <td>1.0</td>\n",
       "      <td>0.0</td>\n",
       "      <td>1.0</td>\n",
       "      <td>-0.974928</td>\n",
       "      <td>-0.222521</td>\n",
       "      <td>0.707107</td>\n",
       "      <td>0.707107</td>\n",
       "    </tr>\n",
       "    <tr>\n",
       "      <th>4</th>\n",
       "      <td>1</td>\n",
       "      <td>1</td>\n",
       "      <td>6</td>\n",
       "      <td>4</td>\n",
       "      <td>1292.839539</td>\n",
       "      <td>-14.782819</td>\n",
       "      <td>0.0</td>\n",
       "      <td>1.0</td>\n",
       "      <td>0.0</td>\n",
       "      <td>1.0</td>\n",
       "      <td>-0.974928</td>\n",
       "      <td>-0.222521</td>\n",
       "      <td>0.866025</td>\n",
       "      <td>0.500000</td>\n",
       "    </tr>\n",
       "  </tbody>\n",
       "</table>\n",
       "</div>"
      ],
      "text/plain": [
       "   Date  Month  WeekDay  Hour  ConsumprionMWtH  TemperatureC  date_sin  \\\n",
       "0     1      1        6     0      1289.617859    -10.676569       0.0   \n",
       "1     1      1        6     1      1265.573853    -12.041959       0.0   \n",
       "2     1      1        6     2      1273.188232    -13.198006       0.0   \n",
       "3     1      1        6     3      1279.703979    -13.999279       0.0   \n",
       "4     1      1        6     4      1292.839539    -14.782819       0.0   \n",
       "\n",
       "   date_cos  mnth_sin  mnth_cos   day_sin   day_cos    hr_sin    hr_cos  \n",
       "0       1.0       0.0       1.0 -0.974928 -0.222521  0.000000  1.000000  \n",
       "1       1.0       0.0       1.0 -0.974928 -0.222521  0.258819  0.965926  \n",
       "2       1.0       0.0       1.0 -0.974928 -0.222521  0.500000  0.866025  \n",
       "3       1.0       0.0       1.0 -0.974928 -0.222521  0.707107  0.707107  \n",
       "4       1.0       0.0       1.0 -0.974928 -0.222521  0.866025  0.500000  "
      ]
     },
     "execution_count": 10,
     "metadata": {},
     "output_type": "execute_result"
    }
   ],
   "source": [
    "df['date_sin'] = np.sin((df.Date-1)*(2.*np.pi/365))\n",
    "df['date_cos'] = np.cos((df.Date-1)*(2.*np.pi/365))\n",
    "df['mnth_sin'] = np.sin((df.Month-1)*(2.*np.pi/7))\n",
    "df['mnth_cos'] = np.cos((df.Month-1)*(2.*np.pi/7))\n",
    "df['day_sin'] = np.sin((df.WeekDay-1)*(2.*np.pi/7))\n",
    "df['day_cos'] = np.cos((df.WeekDay-1)*(2.*np.pi/7))\n",
    "df['hr_sin'] = np.sin(df.Hour*(2.*np.pi/24))\n",
    "df['hr_cos'] = np.cos(df.Hour*(2.*np.pi/24))\n",
    "\n",
    "df.head()"
   ]
  },
  {
   "cell_type": "markdown",
   "metadata": {},
   "source": [
    "**Идея 3:** Нормализация?"
   ]
  },
  {
   "cell_type": "code",
   "execution_count": 11,
   "metadata": {},
   "outputs": [
    {
     "data": {
      "image/png": "[encoded data removed]",
      "text/plain": [
       "<Figure size 720x720 with 1 Axes>"
      ]
     },
     "metadata": {
      "needs_background": "light"
     },
     "output_type": "display_data"
    }
   ],
   "source": [
    "ax = df.ConsumprionMWtH.plot(figsize=(10,10), title = 'Electrical consumption per hour')\n",
    "ax.set_xlabel(\"Hour (of year)\")\n",
    "ax.set_ylabel(\"Consumption [MWtH]\")\n",
    "ax.grid()"
   ]
  },
  {
   "cell_type": "markdown",
   "metadata": {},
   "source": [
    "Как мы видим, особенных выбросов в данных нет - можно спокойно нормализовать"
   ]
  },
  {
   "cell_type": "code",
   "execution_count": 12,
   "metadata": {},
   "outputs": [
    {
     "data": {
      "image/png": "[encoded data removed]",
      "text/plain": [
       "<Figure size 720x720 with 1 Axes>"
      ]
     },
     "metadata": {
      "needs_background": "light"
     },
     "output_type": "display_data"
    }
   ],
   "source": [
    "df.ConsumprionMWtH, consumption_mean, consamtion_range = normalize(df.ConsumprionMWtH)\n",
    "ax = df.ConsumprionMWtH.plot(figsize=(10,10), title = 'Electrical consumption per hour (Normalized)')\n",
    "ax.set_xlabel(\"Hour (of year)\")\n",
    "ax.set_ylabel(\"Consumption normalized\")\n",
    "ax.grid()"
   ]
  },
  {
   "cell_type": "markdown",
   "metadata": {},
   "source": [
    "Повторим исследование с температурой"
   ]
  },
  {
   "cell_type": "code",
   "execution_count": 13,
   "metadata": {},
   "outputs": [
    {
     "data": {
      "image/png": "[encoded data removed]",
      "text/plain": [
       "<Figure size 720x720 with 1 Axes>"
      ]
     },
     "metadata": {
      "needs_background": "light"
     },
     "output_type": "display_data"
    }
   ],
   "source": [
    "ax = df.TemperatureC.plot(figsize=(10,10), title = 'Temperature per hour', color = 'tab:grey')\n",
    "ax.set_xlabel(\"Hour (of year)\")\n",
    "ax.set_ylabel(\"Temperature [C]\")\n",
    "ax.grid()"
   ]
  },
  {
   "cell_type": "markdown",
   "metadata": {},
   "source": [
    "Сильных выбросов нет, проведём нормализацию"
   ]
  },
  {
   "cell_type": "code",
   "execution_count": 14,
   "metadata": {},
   "outputs": [
    {
     "data": {
      "image/png": "[encoded data removed]",
      "text/plain": [
       "<Figure size 720x720 with 1 Axes>"
      ]
     },
     "metadata": {
      "needs_background": "light"
     },
     "output_type": "display_data"
    }
   ],
   "source": [
    "df.TemperatureC, temperature_mean, temperature = normalize(df.TemperatureC)\n",
    "ax = df.TemperatureC.plot(figsize=(10,10), title = 'Temperature per hour (Normalized)', color = 'tab:grey')\n",
    "ax.set_xlabel(\"Hour (of year)\")\n",
    "ax.set_ylabel(\"Temperature normalized\")\n",
    "ax.grid()"
   ]
  },
  {
   "cell_type": "code",
   "execution_count": 15,
   "metadata": {},
   "outputs": [
    {
     "data": {
      "text/html": [
       "<div>\n",
       "<style scoped>\n",
       "    .dataframe tbody tr th:only-of-type {\n",
       "        vertical-align: middle;\n",
       "    }\n",
       "\n",
       "    .dataframe tbody tr th {\n",
       "        vertical-align: top;\n",
       "    }\n",
       "\n",
       "    .dataframe thead th {\n",
       "        text-align: right;\n",
       "    }\n",
       "</style>\n",
       "<table border=\"1\" class=\"dataframe\">\n",
       "  <thead>\n",
       "    <tr style=\"text-align: right;\">\n",
       "      <th></th>\n",
       "      <th>Date</th>\n",
       "      <th>Month</th>\n",
       "      <th>WeekDay</th>\n",
       "      <th>Hour</th>\n",
       "      <th>ConsumprionMWtH</th>\n",
       "      <th>TemperatureC</th>\n",
       "      <th>date_sin</th>\n",
       "      <th>date_cos</th>\n",
       "      <th>mnth_sin</th>\n",
       "      <th>mnth_cos</th>\n",
       "      <th>day_sin</th>\n",
       "      <th>day_cos</th>\n",
       "      <th>hr_sin</th>\n",
       "      <th>hr_cos</th>\n",
       "    </tr>\n",
       "  </thead>\n",
       "  <tbody>\n",
       "    <tr>\n",
       "      <th>0</th>\n",
       "      <td>1</td>\n",
       "      <td>1</td>\n",
       "      <td>6</td>\n",
       "      <td>0</td>\n",
       "      <td>0.033132</td>\n",
       "      <td>-0.211427</td>\n",
       "      <td>0.0</td>\n",
       "      <td>1.0</td>\n",
       "      <td>0.0</td>\n",
       "      <td>1.0</td>\n",
       "      <td>-0.974928</td>\n",
       "      <td>-0.222521</td>\n",
       "      <td>0.000000</td>\n",
       "      <td>1.000000</td>\n",
       "    </tr>\n",
       "    <tr>\n",
       "      <th>1</th>\n",
       "      <td>1</td>\n",
       "      <td>1</td>\n",
       "      <td>6</td>\n",
       "      <td>1</td>\n",
       "      <td>0.018586</td>\n",
       "      <td>-0.232475</td>\n",
       "      <td>0.0</td>\n",
       "      <td>1.0</td>\n",
       "      <td>0.0</td>\n",
       "      <td>1.0</td>\n",
       "      <td>-0.974928</td>\n",
       "      <td>-0.222521</td>\n",
       "      <td>0.258819</td>\n",
       "      <td>0.965926</td>\n",
       "    </tr>\n",
       "    <tr>\n",
       "      <th>2</th>\n",
       "      <td>1</td>\n",
       "      <td>1</td>\n",
       "      <td>6</td>\n",
       "      <td>2</td>\n",
       "      <td>0.023192</td>\n",
       "      <td>-0.250297</td>\n",
       "      <td>0.0</td>\n",
       "      <td>1.0</td>\n",
       "      <td>0.0</td>\n",
       "      <td>1.0</td>\n",
       "      <td>-0.974928</td>\n",
       "      <td>-0.222521</td>\n",
       "      <td>0.500000</td>\n",
       "      <td>0.866025</td>\n",
       "    </tr>\n",
       "    <tr>\n",
       "      <th>3</th>\n",
       "      <td>1</td>\n",
       "      <td>1</td>\n",
       "      <td>6</td>\n",
       "      <td>3</td>\n",
       "      <td>0.027134</td>\n",
       "      <td>-0.262649</td>\n",
       "      <td>0.0</td>\n",
       "      <td>1.0</td>\n",
       "      <td>0.0</td>\n",
       "      <td>1.0</td>\n",
       "      <td>-0.974928</td>\n",
       "      <td>-0.222521</td>\n",
       "      <td>0.707107</td>\n",
       "      <td>0.707107</td>\n",
       "    </tr>\n",
       "    <tr>\n",
       "      <th>4</th>\n",
       "      <td>1</td>\n",
       "      <td>1</td>\n",
       "      <td>6</td>\n",
       "      <td>4</td>\n",
       "      <td>0.035081</td>\n",
       "      <td>-0.274728</td>\n",
       "      <td>0.0</td>\n",
       "      <td>1.0</td>\n",
       "      <td>0.0</td>\n",
       "      <td>1.0</td>\n",
       "      <td>-0.974928</td>\n",
       "      <td>-0.222521</td>\n",
       "      <td>0.866025</td>\n",
       "      <td>0.500000</td>\n",
       "    </tr>\n",
       "  </tbody>\n",
       "</table>\n",
       "</div>"
      ],
      "text/plain": [
       "   Date  Month  WeekDay  Hour  ConsumprionMWtH  TemperatureC  date_sin  \\\n",
       "0     1      1        6     0         0.033132     -0.211427       0.0   \n",
       "1     1      1        6     1         0.018586     -0.232475       0.0   \n",
       "2     1      1        6     2         0.023192     -0.250297       0.0   \n",
       "3     1      1        6     3         0.027134     -0.262649       0.0   \n",
       "4     1      1        6     4         0.035081     -0.274728       0.0   \n",
       "\n",
       "   date_cos  mnth_sin  mnth_cos   day_sin   day_cos    hr_sin    hr_cos  \n",
       "0       1.0       0.0       1.0 -0.974928 -0.222521  0.000000  1.000000  \n",
       "1       1.0       0.0       1.0 -0.974928 -0.222521  0.258819  0.965926  \n",
       "2       1.0       0.0       1.0 -0.974928 -0.222521  0.500000  0.866025  \n",
       "3       1.0       0.0       1.0 -0.974928 -0.222521  0.707107  0.707107  \n",
       "4       1.0       0.0       1.0 -0.974928 -0.222521  0.866025  0.500000  "
      ]
     },
     "execution_count": 15,
     "metadata": {},
     "output_type": "execute_result"
    }
   ],
   "source": [
    "df.head()"
   ]
  },
  {
   "cell_type": "markdown",
   "metadata": {},
   "source": [
    "Передвинем столбец, с целевой переменной в конец для удобства (и исправим опечатку в названии целевого столбца)"
   ]
  },
  {
   "cell_type": "code",
   "execution_count": 16,
   "metadata": {},
   "outputs": [
    {
     "data": {
      "text/html": [
       "<div>\n",
       "<style scoped>\n",
       "    .dataframe tbody tr th:only-of-type {\n",
       "        vertical-align: middle;\n",
       "    }\n",
       "\n",
       "    .dataframe tbody tr th {\n",
       "        vertical-align: top;\n",
       "    }\n",
       "\n",
       "    .dataframe thead th {\n",
       "        text-align: right;\n",
       "    }\n",
       "</style>\n",
       "<table border=\"1\" class=\"dataframe\">\n",
       "  <thead>\n",
       "    <tr style=\"text-align: right;\">\n",
       "      <th></th>\n",
       "      <th>Date</th>\n",
       "      <th>Month</th>\n",
       "      <th>WeekDay</th>\n",
       "      <th>Hour</th>\n",
       "      <th>TemperatureC</th>\n",
       "      <th>mnth_sin</th>\n",
       "      <th>mnth_cos</th>\n",
       "      <th>day_sin</th>\n",
       "      <th>day_cos</th>\n",
       "      <th>hr_sin</th>\n",
       "      <th>hr_cos</th>\n",
       "      <th>ConsumptionMWtH</th>\n",
       "    </tr>\n",
       "  </thead>\n",
       "  <tbody>\n",
       "    <tr>\n",
       "      <th>0</th>\n",
       "      <td>1</td>\n",
       "      <td>1</td>\n",
       "      <td>6</td>\n",
       "      <td>0</td>\n",
       "      <td>-0.211427</td>\n",
       "      <td>0.0</td>\n",
       "      <td>1.0</td>\n",
       "      <td>-0.974928</td>\n",
       "      <td>-0.222521</td>\n",
       "      <td>0.000000</td>\n",
       "      <td>1.000000</td>\n",
       "      <td>0.033132</td>\n",
       "    </tr>\n",
       "    <tr>\n",
       "      <th>1</th>\n",
       "      <td>1</td>\n",
       "      <td>1</td>\n",
       "      <td>6</td>\n",
       "      <td>1</td>\n",
       "      <td>-0.232475</td>\n",
       "      <td>0.0</td>\n",
       "      <td>1.0</td>\n",
       "      <td>-0.974928</td>\n",
       "      <td>-0.222521</td>\n",
       "      <td>0.258819</td>\n",
       "      <td>0.965926</td>\n",
       "      <td>0.018586</td>\n",
       "    </tr>\n",
       "    <tr>\n",
       "      <th>2</th>\n",
       "      <td>1</td>\n",
       "      <td>1</td>\n",
       "      <td>6</td>\n",
       "      <td>2</td>\n",
       "      <td>-0.250297</td>\n",
       "      <td>0.0</td>\n",
       "      <td>1.0</td>\n",
       "      <td>-0.974928</td>\n",
       "      <td>-0.222521</td>\n",
       "      <td>0.500000</td>\n",
       "      <td>0.866025</td>\n",
       "      <td>0.023192</td>\n",
       "    </tr>\n",
       "    <tr>\n",
       "      <th>3</th>\n",
       "      <td>1</td>\n",
       "      <td>1</td>\n",
       "      <td>6</td>\n",
       "      <td>3</td>\n",
       "      <td>-0.262649</td>\n",
       "      <td>0.0</td>\n",
       "      <td>1.0</td>\n",
       "      <td>-0.974928</td>\n",
       "      <td>-0.222521</td>\n",
       "      <td>0.707107</td>\n",
       "      <td>0.707107</td>\n",
       "      <td>0.027134</td>\n",
       "    </tr>\n",
       "    <tr>\n",
       "      <th>4</th>\n",
       "      <td>1</td>\n",
       "      <td>1</td>\n",
       "      <td>6</td>\n",
       "      <td>4</td>\n",
       "      <td>-0.274728</td>\n",
       "      <td>0.0</td>\n",
       "      <td>1.0</td>\n",
       "      <td>-0.974928</td>\n",
       "      <td>-0.222521</td>\n",
       "      <td>0.866025</td>\n",
       "      <td>0.500000</td>\n",
       "      <td>0.035081</td>\n",
       "    </tr>\n",
       "  </tbody>\n",
       "</table>\n",
       "</div>"
      ],
      "text/plain": [
       "   Date  Month  WeekDay  Hour  TemperatureC  mnth_sin  mnth_cos   day_sin  \\\n",
       "0     1      1        6     0     -0.211427       0.0       1.0 -0.974928   \n",
       "1     1      1        6     1     -0.232475       0.0       1.0 -0.974928   \n",
       "2     1      1        6     2     -0.250297       0.0       1.0 -0.974928   \n",
       "3     1      1        6     3     -0.262649       0.0       1.0 -0.974928   \n",
       "4     1      1        6     4     -0.274728       0.0       1.0 -0.974928   \n",
       "\n",
       "    day_cos    hr_sin    hr_cos  ConsumptionMWtH  \n",
       "0 -0.222521  0.000000  1.000000         0.033132  \n",
       "1 -0.222521  0.258819  0.965926         0.018586  \n",
       "2 -0.222521  0.500000  0.866025         0.023192  \n",
       "3 -0.222521  0.707107  0.707107         0.027134  \n",
       "4 -0.222521  0.866025  0.500000         0.035081  "
      ]
     },
     "execution_count": 16,
     "metadata": {},
     "output_type": "execute_result"
    }
   ],
   "source": [
    "df = df[['Date','Month','WeekDay','Hour','TemperatureC', 'mnth_sin', \n",
    "         'mnth_cos', 'day_sin', 'day_cos', 'hr_sin', 'hr_cos', \n",
    "         'ConsumprionMWtH']].rename(columns={'ConsumprionMWtH': 'ConsumptionMWtH'})\n",
    "df.head()"
   ]
  },
  {
   "cell_type": "markdown",
   "metadata": {},
   "source": [
    "Так гораздо лучше!"
   ]
  },
  {
   "cell_type": "markdown",
   "metadata": {},
   "source": [
    "### Генетический алгоритм"
   ]
  },
  {
   "cell_type": "markdown",
   "metadata": {},
   "source": [
    "В GA_utils.py лежит сам код генетического алгоритма, а ниже - основные результаты"
   ]
  },
  {
   "cell_type": "code",
   "execution_count": 17,
   "metadata": {
    "scrolled": true
   },
   "outputs": [
    {
     "name": "stdout",
     "output_type": "stream",
     "text": [
      "\n",
      "Generation:  0\n"
     ]
    },
    {
     "name": "stderr",
     "output_type": "stream",
     "text": [
      "100%|██████████| 100/100 [00:01<00:00, 91.40it/s]\n"
     ]
    },
    {
     "name": "stdout",
     "output_type": "stream",
     "text": [
      "Error (Train):  122.41130159386343 COD (Train):  -2526.300678104116\n",
      "Error (Test):  241.82148777079968 COD (Test):  -21725.536297297946\n",
      "\n",
      "Generation:  1\n"
     ]
    },
    {
     "name": "stderr",
     "output_type": "stream",
     "text": [
      "100%|██████████| 1000/1000 [00:10<00:00, 91.70it/s]\n"
     ]
    },
    {
     "name": "stdout",
     "output_type": "stream",
     "text": [
      "Error (Train):  76.93410669538672 COD (Train):  -1587.3796470499458\n",
      "Error (Test):  167.71085141496556 COD (Test):  -15067.040207293701\n",
      "\n",
      "Generation:  2\n"
     ]
    },
    {
     "name": "stderr",
     "output_type": "stream",
     "text": [
      "100%|██████████| 1000/1000 [00:10<00:00, 91.17it/s]\n"
     ]
    },
    {
     "name": "stdout",
     "output_type": "stream",
     "text": [
      "Error (Train):  4.948988880433182 COD (Train):  -101.17670093032918\n",
      "Error (Test):  0.3713530825968247 COD (Test):  -32.36434781924968\n",
      "\n",
      "Generation:  3\n"
     ]
    },
    {
     "name": "stderr",
     "output_type": "stream",
     "text": [
      "100%|██████████| 1000/1000 [00:10<00:00, 91.59it/s]\n"
     ]
    },
    {
     "name": "stdout",
     "output_type": "stream",
     "text": [
      "Error (Train):  2.9859839570966473 COD (Train):  -60.64855026716487\n",
      "Error (Test):  11.58508548910111 COD (Test):  -1039.8660649082672\n",
      "\n",
      "Generation:  4\n"
     ]
    },
    {
     "name": "stderr",
     "output_type": "stream",
     "text": [
      "100%|██████████| 1000/1000 [00:11<00:00, 85.81it/s]\n"
     ]
    },
    {
     "name": "stdout",
     "output_type": "stream",
     "text": [
      "Error (Train):  1.9173118269718747 COD (Train):  -38.58477213582684\n",
      "Error (Test):  0.8712660462257907 COD (Test):  -77.27920319417409\n",
      "\n",
      "Generation:  5\n"
     ]
    },
    {
     "name": "stderr",
     "output_type": "stream",
     "text": [
      "100%|██████████| 1000/1000 [00:11<00:00, 89.84it/s]\n"
     ]
    },
    {
     "name": "stdout",
     "output_type": "stream",
     "text": [
      "Error (Train):  1.0151120613379507 COD (Train):  -19.957978287681897\n",
      "Error (Test):  3.174270879630791 COD (Test):  -284.19347936987583\n",
      "\n",
      "Generation:  6\n"
     ]
    },
    {
     "name": "stderr",
     "output_type": "stream",
     "text": [
      "100%|██████████| 1000/1000 [00:11<00:00, 92.86it/s]\n"
     ]
    },
    {
     "name": "stdout",
     "output_type": "stream",
     "text": [
      "Error (Train):  0.4036999374058449 COD (Train):  -7.334778833913878\n",
      "Error (Test):  0.4184335318865689 COD (Test):  -36.59430728156277\n",
      "\n",
      "Generation:  7\n"
     ]
    },
    {
     "name": "stderr",
     "output_type": "stream",
     "text": [
      "100%|██████████| 1000/1000 [00:11<00:00, 88.73it/s]\n"
     ]
    },
    {
     "name": "stdout",
     "output_type": "stream",
     "text": [
      "Error (Train):  0.33547076922041086 COD (Train):  -5.926121130120851\n",
      "Error (Test):  0.12493471974390104 COD (Test):  -10.22480366956199\n",
      "\n",
      "Generation:  8\n"
     ]
    },
    {
     "name": "stderr",
     "output_type": "stream",
     "text": [
      "100%|██████████| 1000/1000 [00:11<00:00, 90.31it/s]\n"
     ]
    },
    {
     "name": "stdout",
     "output_type": "stream",
     "text": [
      "Error (Train):  0.31141883076826615 COD (Train):  -5.429545409020349\n",
      "Error (Test):  0.255780272983777 COD (Test):  -21.980668245586113\n",
      "\n",
      "Generation:  9\n"
     ]
    },
    {
     "name": "stderr",
     "output_type": "stream",
     "text": [
      "100%|██████████| 1000/1000 [00:10<00:00, 91.69it/s]\n"
     ]
    },
    {
     "name": "stdout",
     "output_type": "stream",
     "text": [
      "Error (Train):  0.26648642583191856 COD (Train):  -4.501872097929825\n",
      "Error (Test):  0.09188115303341915 COD (Test):  -7.255094387270656\n",
      "\n",
      "Generation:  10\n"
     ]
    },
    {
     "name": "stderr",
     "output_type": "stream",
     "text": [
      "100%|██████████| 1000/1000 [00:10<00:00, 91.94it/s]\n"
     ]
    },
    {
     "name": "stdout",
     "output_type": "stream",
     "text": [
      "Error (Train):  0.19518451562266706 COD (Train):  -3.0297746389890436\n",
      "Error (Test):  0.04248031042163947 COD (Test):  -2.8166583739283473\n",
      "\n",
      "Generation:  11\n"
     ]
    },
    {
     "name": "stderr",
     "output_type": "stream",
     "text": [
      "100%|██████████| 1000/1000 [00:11<00:00, 89.54it/s]\n"
     ]
    },
    {
     "name": "stdout",
     "output_type": "stream",
     "text": [
      "Error (Train):  0.1549344140793765 COD (Train):  -2.1987720469112437\n",
      "Error (Test):  0.09392219951728081 COD (Test):  -7.438472923747627\n",
      "\n",
      "Generation:  12\n"
     ]
    },
    {
     "name": "stderr",
     "output_type": "stream",
     "text": [
      "100%|██████████| 1000/1000 [00:11<00:00, 79.35it/s]\n"
     ]
    },
    {
     "name": "stdout",
     "output_type": "stream",
     "text": [
      "Error (Train):  0.1344519860670442 COD (Train):  -1.775892349278969\n",
      "Error (Test):  0.04617456017052896 COD (Test):  -3.14856953699507\n",
      "\n",
      "Generation:  13\n"
     ]
    },
    {
     "name": "stderr",
     "output_type": "stream",
     "text": [
      "100%|██████████| 1000/1000 [00:11<00:00, 89.13it/s]\n"
     ]
    },
    {
     "name": "stdout",
     "output_type": "stream",
     "text": [
      "Error (Train):  0.10817100533544977 COD (Train):  -1.2332958768995796\n",
      "Error (Test):  0.07976871285914759 COD (Test):  -6.16684795590064\n",
      "\n",
      "Generation:  14\n"
     ]
    },
    {
     "name": "stderr",
     "output_type": "stream",
     "text": [
      "100%|██████████| 1000/1000 [00:11<00:00, 88.26it/s]\n"
     ]
    },
    {
     "name": "stdout",
     "output_type": "stream",
     "text": [
      "Error (Train):  0.10180199109386377 COD (Train):  -1.101801367797636\n",
      "Error (Test):  0.06116858394480568 COD (Test):  -4.495712856546296\n",
      "\n",
      "Generation:  15\n"
     ]
    },
    {
     "name": "stderr",
     "output_type": "stream",
     "text": [
      "100%|██████████| 1000/1000 [00:11<00:00, 88.67it/s]\n"
     ]
    },
    {
     "name": "stdout",
     "output_type": "stream",
     "text": [
      "Error (Train):  0.09319013445967604 COD (Train):  -0.9240011906250312\n",
      "Error (Test):  0.08981657165715891 COD (Test):  -7.069601350140067\n",
      "\n",
      "Generation:  16\n"
     ]
    },
    {
     "name": "stderr",
     "output_type": "stream",
     "text": [
      "100%|██████████| 1000/1000 [00:11<00:00, 87.84it/s]\n"
     ]
    },
    {
     "name": "stdout",
     "output_type": "stream",
     "text": [
      "Error (Train):  0.09319013445967604 COD (Train):  -0.9240011906250312\n",
      "Error (Test):  0.08981657165715891 COD (Test):  -7.069601350140067\n",
      "\n",
      "Generation:  17\n"
     ]
    },
    {
     "name": "stderr",
     "output_type": "stream",
     "text": [
      "100%|██████████| 1000/1000 [00:11<00:00, 88.21it/s]\n"
     ]
    },
    {
     "name": "stdout",
     "output_type": "stream",
     "text": [
      "Error (Train):  0.09319013445967604 COD (Train):  -0.9240011906250312\n",
      "Error (Test):  0.08981657165715891 COD (Test):  -7.069601350140067\n",
      "\n",
      "Generation:  18\n"
     ]
    },
    {
     "name": "stderr",
     "output_type": "stream",
     "text": [
      "100%|██████████| 1000/1000 [00:11<00:00, 89.82it/s]\n"
     ]
    },
    {
     "name": "stdout",
     "output_type": "stream",
     "text": [
      "Error (Train):  0.09319013445967604 COD (Train):  -0.9240011906250312\n",
      "Error (Test):  0.08981657165715891 COD (Test):  -7.069601350140067\n",
      "\n",
      "Generation:  19\n"
     ]
    },
    {
     "name": "stderr",
     "output_type": "stream",
     "text": [
      "100%|██████████| 1000/1000 [00:11<00:00, 90.44it/s]\n"
     ]
    },
    {
     "name": "stdout",
     "output_type": "stream",
     "text": [
      "Error (Train):  0.09319013445967604 COD (Train):  -0.9240011906250312\n",
      "Error (Test):  0.08981657165715891 COD (Test):  -7.069601350140067\n",
      "\n",
      "Generation:  20\n"
     ]
    },
    {
     "name": "stderr",
     "output_type": "stream",
     "text": [
      "100%|██████████| 1000/1000 [00:10<00:00, 93.40it/s]\n"
     ]
    },
    {
     "name": "stdout",
     "output_type": "stream",
     "text": [
      "Error (Train):  0.09319013445967604 COD (Train):  -0.9240011906250312\n",
      "Error (Test):  0.08981657165715891 COD (Test):  -7.069601350140067\n",
      "\n",
      "Generation:  21\n"
     ]
    },
    {
     "name": "stderr",
     "output_type": "stream",
     "text": [
      "100%|██████████| 1000/1000 [00:10<00:00, 92.31it/s]\n"
     ]
    },
    {
     "name": "stdout",
     "output_type": "stream",
     "text": [
      "Error (Train):  0.09319013445967604 COD (Train):  -0.9240011906250312\n",
      "Error (Test):  0.08981657165715891 COD (Test):  -7.069601350140067\n",
      "\n",
      "Generation:  22\n"
     ]
    },
    {
     "name": "stderr",
     "output_type": "stream",
     "text": [
      "100%|██████████| 1000/1000 [00:10<00:00, 91.64it/s]\n"
     ]
    },
    {
     "name": "stdout",
     "output_type": "stream",
     "text": [
      "Error (Train):  0.09319013445967604 COD (Train):  -0.9240011906250312\n",
      "Error (Test):  0.08981657165715891 COD (Test):  -7.069601350140067\n",
      "\n",
      "Generation:  23\n"
     ]
    },
    {
     "name": "stderr",
     "output_type": "stream",
     "text": [
      "100%|██████████| 1000/1000 [00:10<00:00, 92.85it/s]\n"
     ]
    },
    {
     "name": "stdout",
     "output_type": "stream",
     "text": [
      "Error (Train):  0.09319013445967604 COD (Train):  -0.9240011906250312\n",
      "Error (Test):  0.08981657165715891 COD (Test):  -7.069601350140067\n",
      "\n",
      "Generation:  24\n"
     ]
    },
    {
     "name": "stderr",
     "output_type": "stream",
     "text": [
      "100%|██████████| 1000/1000 [00:10<00:00, 92.42it/s]\n"
     ]
    },
    {
     "name": "stdout",
     "output_type": "stream",
     "text": [
      "Error (Train):  0.09172201562875673 COD (Train):  -0.8936904458767225\n",
      "Error (Test):  0.13087168452034678 COD (Test):  -10.75821235007381\n",
      "\n",
      "Generation:  25\n"
     ]
    },
    {
     "name": "stderr",
     "output_type": "stream",
     "text": [
      "100%|██████████| 1000/1000 [00:11<00:00, 90.50it/s]\n"
     ]
    },
    {
     "name": "stdout",
     "output_type": "stream",
     "text": [
      "Error (Train):  0.09107862205810965 COD (Train):  -0.8804069582721297\n",
      "Error (Test):  0.15060451320426474 COD (Test):  -12.531115257096927\n",
      "\n",
      "Generation:  26\n"
     ]
    },
    {
     "name": "stderr",
     "output_type": "stream",
     "text": [
      "100%|██████████| 1000/1000 [00:10<00:00, 92.33it/s]\n"
     ]
    },
    {
     "name": "stdout",
     "output_type": "stream",
     "text": [
      "Error (Train):  0.09107862205810965 COD (Train):  -0.8804069582721297\n",
      "Error (Test):  0.15060451320426474 COD (Test):  -12.531115257096927\n",
      "\n",
      "Generation:  27\n"
     ]
    },
    {
     "name": "stderr",
     "output_type": "stream",
     "text": [
      "100%|██████████| 1000/1000 [00:10<00:00, 91.00it/s]\n"
     ]
    },
    {
     "name": "stdout",
     "output_type": "stream",
     "text": [
      "Error (Train):  0.09107862205810965 COD (Train):  -0.8804069582721297\n",
      "Error (Test):  0.15060451320426474 COD (Test):  -12.531115257096927\n",
      "\n",
      "Generation:  28\n"
     ]
    },
    {
     "name": "stderr",
     "output_type": "stream",
     "text": [
      "100%|██████████| 1000/1000 [00:10<00:00, 91.68it/s]\n"
     ]
    },
    {
     "name": "stdout",
     "output_type": "stream",
     "text": [
      "Error (Train):  0.09107862205810965 COD (Train):  -0.8804069582721297\n",
      "Error (Test):  0.15060451320426474 COD (Test):  -12.531115257096927\n",
      "\n",
      "Generation:  29\n"
     ]
    },
    {
     "name": "stderr",
     "output_type": "stream",
     "text": [
      "100%|██████████| 1000/1000 [00:10<00:00, 91.38it/s]\n"
     ]
    },
    {
     "name": "stdout",
     "output_type": "stream",
     "text": [
      "Error (Train):  0.09107862205810965 COD (Train):  -0.8804069582721297\n",
      "Error (Test):  0.15060451320426474 COD (Test):  -12.531115257096927\n",
      "\n",
      "Generation:  30\n"
     ]
    },
    {
     "name": "stderr",
     "output_type": "stream",
     "text": [
      "100%|██████████| 1000/1000 [00:11<00:00, 88.99it/s]\n"
     ]
    },
    {
     "name": "stdout",
     "output_type": "stream",
     "text": [
      "Error (Train):  0.09107862205810965 COD (Train):  -0.8804069582721297\n",
      "Error (Test):  0.15060451320426474 COD (Test):  -12.531115257096927\n",
      "\n",
      "Generation:  31\n"
     ]
    },
    {
     "name": "stderr",
     "output_type": "stream",
     "text": [
      "100%|██████████| 1000/1000 [00:10<00:00, 92.23it/s]\n"
     ]
    },
    {
     "name": "stdout",
     "output_type": "stream",
     "text": [
      "Error (Train):  0.09107862205810965 COD (Train):  -0.8804069582721297\n",
      "Error (Test):  0.15060451320426474 COD (Test):  -12.531115257096927\n",
      "\n",
      "Generation:  32\n"
     ]
    },
    {
     "name": "stderr",
     "output_type": "stream",
     "text": [
      "100%|██████████| 1000/1000 [00:10<00:00, 92.32it/s]\n"
     ]
    },
    {
     "name": "stdout",
     "output_type": "stream",
     "text": [
      "Error (Train):  0.09107862205810965 COD (Train):  -0.8804069582721297\n",
      "Error (Test):  0.15060451320426474 COD (Test):  -12.531115257096927\n",
      "\n",
      "Generation:  33\n"
     ]
    },
    {
     "name": "stderr",
     "output_type": "stream",
     "text": [
      "100%|██████████| 1000/1000 [00:10<00:00, 93.00it/s]\n"
     ]
    },
    {
     "name": "stdout",
     "output_type": "stream",
     "text": [
      "Error (Train):  0.09107862205810965 COD (Train):  -0.8804069582721297\n",
      "Error (Test):  0.15060451320426474 COD (Test):  -12.531115257096927\n",
      "\n",
      "Generation:  34\n"
     ]
    },
    {
     "name": "stderr",
     "output_type": "stream",
     "text": [
      "100%|██████████| 1000/1000 [00:10<00:00, 92.20it/s]\n"
     ]
    },
    {
     "name": "stdout",
     "output_type": "stream",
     "text": [
      "Error (Train):  0.09107862205810965 COD (Train):  -0.8804069582721297\n",
      "Error (Test):  0.15060451320426474 COD (Test):  -12.531115257096927\n",
      "\n",
      "Generation:  35\n"
     ]
    },
    {
     "name": "stderr",
     "output_type": "stream",
     "text": [
      "100%|██████████| 1000/1000 [00:10<00:00, 91.64it/s]\n"
     ]
    },
    {
     "name": "stdout",
     "output_type": "stream",
     "text": [
      "Error (Train):  0.09107862205810965 COD (Train):  -0.8804069582721297\n",
      "Error (Test):  0.15060451320426474 COD (Test):  -12.531115257096927\n",
      "\n",
      "Generation:  36\n"
     ]
    },
    {
     "name": "stderr",
     "output_type": "stream",
     "text": [
      "100%|██████████| 1000/1000 [00:11<00:00, 90.87it/s]\n"
     ]
    },
    {
     "name": "stdout",
     "output_type": "stream",
     "text": [
      "Error (Train):  0.09107862205810965 COD (Train):  -0.8804069582721297\n",
      "Error (Test):  0.15060451320426474 COD (Test):  -12.531115257096927\n",
      "\n",
      "Generation:  37\n"
     ]
    },
    {
     "name": "stderr",
     "output_type": "stream",
     "text": [
      "100%|██████████| 1000/1000 [00:11<00:00, 89.84it/s]\n"
     ]
    },
    {
     "name": "stdout",
     "output_type": "stream",
     "text": [
      "Error (Train):  0.09107862205810965 COD (Train):  -0.8804069582721297\n",
      "Error (Test):  0.15060451320426474 COD (Test):  -12.531115257096927\n",
      "\n",
      "Generation:  38\n"
     ]
    },
    {
     "name": "stderr",
     "output_type": "stream",
     "text": [
      "100%|██████████| 1000/1000 [00:11<00:00, 92.82it/s]\n"
     ]
    },
    {
     "name": "stdout",
     "output_type": "stream",
     "text": [
      "Error (Train):  0.09107862205810965 COD (Train):  -0.8804069582721297\n",
      "Error (Test):  0.15060451320426474 COD (Test):  -12.531115257096927\n",
      "\n",
      "Generation:  39\n"
     ]
    },
    {
     "name": "stderr",
     "output_type": "stream",
     "text": [
      "100%|██████████| 1000/1000 [00:11<00:00, 90.84it/s]\n"
     ]
    },
    {
     "name": "stdout",
     "output_type": "stream",
     "text": [
      "Error (Train):  0.09107862205810965 COD (Train):  -0.8804069582721297\n",
      "Error (Test):  0.15060451320426474 COD (Test):  -12.531115257096927\n",
      "\n",
      "Generation:  40\n"
     ]
    },
    {
     "name": "stderr",
     "output_type": "stream",
     "text": [
      "100%|██████████| 1000/1000 [00:10<00:00, 91.21it/s]\n"
     ]
    },
    {
     "name": "stdout",
     "output_type": "stream",
     "text": [
      "Error (Train):  0.09107862205810965 COD (Train):  -0.8804069582721297\n",
      "Error (Test):  0.15060451320426474 COD (Test):  -12.531115257096927\n",
      "\n",
      "Generation:  41\n"
     ]
    },
    {
     "name": "stderr",
     "output_type": "stream",
     "text": [
      "100%|██████████| 1000/1000 [00:10<00:00, 92.40it/s]\n"
     ]
    },
    {
     "name": "stdout",
     "output_type": "stream",
     "text": [
      "Error (Train):  0.09107862205810965 COD (Train):  -0.8804069582721297\n",
      "Error (Test):  0.15060451320426474 COD (Test):  -12.531115257096927\n",
      "\n",
      "Generation:  42\n"
     ]
    },
    {
     "name": "stderr",
     "output_type": "stream",
     "text": [
      "100%|██████████| 1000/1000 [00:10<00:00, 93.52it/s]\n"
     ]
    },
    {
     "name": "stdout",
     "output_type": "stream",
     "text": [
      "Error (Train):  0.09107862205810965 COD (Train):  -0.8804069582721297\n",
      "Error (Test):  0.15060451320426474 COD (Test):  -12.531115257096927\n",
      "\n",
      "Generation:  43\n"
     ]
    },
    {
     "name": "stderr",
     "output_type": "stream",
     "text": [
      "100%|██████████| 1000/1000 [00:10<00:00, 91.23it/s]\n"
     ]
    },
    {
     "name": "stdout",
     "output_type": "stream",
     "text": [
      "Error (Train):  0.09107862205810965 COD (Train):  -0.8804069582721297\n",
      "Error (Test):  0.15060451320426474 COD (Test):  -12.531115257096927\n",
      "\n",
      "Generation:  44\n"
     ]
    },
    {
     "name": "stderr",
     "output_type": "stream",
     "text": [
      "100%|██████████| 1000/1000 [00:10<00:00, 92.52it/s]\n"
     ]
    },
    {
     "name": "stdout",
     "output_type": "stream",
     "text": [
      "Error (Train):  0.09107862205810965 COD (Train):  -0.8804069582721297\n",
      "Error (Test):  0.15060451320426474 COD (Test):  -12.531115257096927\n",
      "\n",
      "Generation:  45\n"
     ]
    },
    {
     "name": "stderr",
     "output_type": "stream",
     "text": [
      "100%|██████████| 1000/1000 [00:10<00:00, 92.63it/s]\n"
     ]
    },
    {
     "name": "stdout",
     "output_type": "stream",
     "text": [
      "Error (Train):  0.09107862205810965 COD (Train):  -0.8804069582721297\n",
      "Error (Test):  0.15060451320426474 COD (Test):  -12.531115257096927\n",
      "\n",
      "Generation:  46\n"
     ]
    },
    {
     "name": "stderr",
     "output_type": "stream",
     "text": [
      "100%|██████████| 1000/1000 [00:10<00:00, 92.26it/s]\n"
     ]
    },
    {
     "name": "stdout",
     "output_type": "stream",
     "text": [
      "Error (Train):  0.09107862205810965 COD (Train):  -0.8804069582721297\n",
      "Error (Test):  0.15060451320426474 COD (Test):  -12.531115257096927\n",
      "\n",
      "Generation:  47\n"
     ]
    },
    {
     "name": "stderr",
     "output_type": "stream",
     "text": [
      "100%|██████████| 1000/1000 [00:10<00:00, 92.82it/s]\n"
     ]
    },
    {
     "name": "stdout",
     "output_type": "stream",
     "text": [
      "Error (Train):  0.09063190850693487 COD (Train):  -0.8711841214416869\n",
      "Error (Test):  0.09353521048995424 COD (Test):  -7.403703758995668\n",
      "\n",
      "Generation:  48\n"
     ]
    },
    {
     "name": "stderr",
     "output_type": "stream",
     "text": [
      "100%|██████████| 1000/1000 [00:10<00:00, 89.18it/s]\n"
     ]
    },
    {
     "name": "stdout",
     "output_type": "stream",
     "text": [
      "Error (Train):  0.09063190850693487 COD (Train):  -0.8711841214416869\n",
      "Error (Test):  0.09353521048995424 COD (Test):  -7.403703758995668\n",
      "\n",
      "Generation:  49\n"
     ]
    },
    {
     "name": "stderr",
     "output_type": "stream",
     "text": [
      "100%|██████████| 1000/1000 [00:10<00:00, 91.94it/s]\n"
     ]
    },
    {
     "name": "stdout",
     "output_type": "stream",
     "text": [
      "Error (Train):  0.09063190850693487 COD (Train):  -0.8711841214416869\n",
      "Error (Test):  0.09353521048995424 COD (Test):  -7.403703758995668\n",
      "\n",
      "Generation:  50\n"
     ]
    },
    {
     "name": "stderr",
     "output_type": "stream",
     "text": [
      "100%|██████████| 1000/1000 [00:11<00:00, 89.81it/s]\n"
     ]
    },
    {
     "name": "stdout",
     "output_type": "stream",
     "text": [
      "Error (Train):  0.09063190850693487 COD (Train):  -0.8711841214416869\n",
      "Error (Test):  0.09353521048995424 COD (Test):  -7.403703758995668\n",
      "\n",
      "Generation:  51\n"
     ]
    },
    {
     "name": "stderr",
     "output_type": "stream",
     "text": [
      "100%|██████████| 1000/1000 [00:10<00:00, 91.12it/s]\n"
     ]
    },
    {
     "name": "stdout",
     "output_type": "stream",
     "text": [
      "Error (Train):  0.09063190850693487 COD (Train):  -0.8711841214416869\n",
      "Error (Test):  0.09353521048995424 COD (Test):  -7.403703758995668\n",
      "\n",
      "Generation:  52\n"
     ]
    },
    {
     "name": "stderr",
     "output_type": "stream",
     "text": [
      "100%|██████████| 1000/1000 [00:10<00:00, 92.06it/s]\n"
     ]
    },
    {
     "name": "stdout",
     "output_type": "stream",
     "text": [
      "Error (Train):  0.09063190850693487 COD (Train):  -0.8711841214416869\n",
      "Error (Test):  0.09353521048995424 COD (Test):  -7.403703758995668\n",
      "\n",
      "Generation:  53\n"
     ]
    },
    {
     "name": "stderr",
     "output_type": "stream",
     "text": [
      "100%|██████████| 1000/1000 [00:10<00:00, 92.45it/s]\n"
     ]
    },
    {
     "name": "stdout",
     "output_type": "stream",
     "text": [
      "Error (Train):  0.09063190850693487 COD (Train):  -0.8711841214416869\n",
      "Error (Test):  0.09353521048995424 COD (Test):  -7.403703758995668\n",
      "\n",
      "Generation:  54\n"
     ]
    },
    {
     "name": "stderr",
     "output_type": "stream",
     "text": [
      "100%|██████████| 1000/1000 [00:10<00:00, 92.27it/s]\n"
     ]
    },
    {
     "name": "stdout",
     "output_type": "stream",
     "text": [
      "Error (Train):  0.09063190850693487 COD (Train):  -0.8711841214416869\n",
      "Error (Test):  0.09353521048995424 COD (Test):  -7.403703758995668\n",
      "\n",
      "Generation:  55\n"
     ]
    },
    {
     "name": "stderr",
     "output_type": "stream",
     "text": [
      "100%|██████████| 1000/1000 [00:10<00:00, 92.54it/s]\n"
     ]
    },
    {
     "name": "stdout",
     "output_type": "stream",
     "text": [
      "Error (Train):  0.09063190850693487 COD (Train):  -0.8711841214416869\n",
      "Error (Test):  0.09353521048995424 COD (Test):  -7.403703758995668\n",
      "\n",
      "Generation:  56\n"
     ]
    },
    {
     "name": "stderr",
     "output_type": "stream",
     "text": [
      "100%|██████████| 1000/1000 [00:10<00:00, 92.47it/s]\n"
     ]
    },
    {
     "name": "stdout",
     "output_type": "stream",
     "text": [
      "Error (Train):  0.09063190850693487 COD (Train):  -0.8711841214416869\n",
      "Error (Test):  0.09353521048995424 COD (Test):  -7.403703758995668\n",
      "\n",
      "Generation:  57\n"
     ]
    },
    {
     "name": "stderr",
     "output_type": "stream",
     "text": [
      "100%|██████████| 1000/1000 [00:10<00:00, 92.66it/s]\n"
     ]
    },
    {
     "name": "stdout",
     "output_type": "stream",
     "text": [
      "Error (Train):  0.09063190850693487 COD (Train):  -0.8711841214416869\n",
      "Error (Test):  0.09353521048995424 COD (Test):  -7.403703758995668\n",
      "\n",
      "Generation:  58\n"
     ]
    },
    {
     "name": "stderr",
     "output_type": "stream",
     "text": [
      "100%|██████████| 1000/1000 [00:10<00:00, 93.50it/s]\n"
     ]
    },
    {
     "name": "stdout",
     "output_type": "stream",
     "text": [
      "Error (Train):  0.09063190850693487 COD (Train):  -0.8711841214416869\n",
      "Error (Test):  0.09353521048995424 COD (Test):  -7.403703758995668\n",
      "\n",
      "Generation:  59\n"
     ]
    },
    {
     "name": "stderr",
     "output_type": "stream",
     "text": [
      "100%|██████████| 1000/1000 [00:10<00:00, 92.80it/s]\n"
     ]
    },
    {
     "name": "stdout",
     "output_type": "stream",
     "text": [
      "Error (Train):  0.09063190850693487 COD (Train):  -0.8711841214416869\n",
      "Error (Test):  0.09353521048995424 COD (Test):  -7.403703758995668\n",
      "\n",
      "Generation:  60\n"
     ]
    },
    {
     "name": "stderr",
     "output_type": "stream",
     "text": [
      "100%|██████████| 1000/1000 [00:10<00:00, 93.02it/s]\n"
     ]
    },
    {
     "name": "stdout",
     "output_type": "stream",
     "text": [
      "Error (Train):  0.09063190850693487 COD (Train):  -0.8711841214416869\n",
      "Error (Test):  0.09353521048995424 COD (Test):  -7.403703758995668\n",
      "\n",
      "Generation:  61\n"
     ]
    },
    {
     "name": "stderr",
     "output_type": "stream",
     "text": [
      "100%|██████████| 1000/1000 [00:10<00:00, 91.66it/s]\n"
     ]
    },
    {
     "name": "stdout",
     "output_type": "stream",
     "text": [
      "Error (Train):  0.09063190850693487 COD (Train):  -0.8711841214416869\n",
      "Error (Test):  0.09353521048995424 COD (Test):  -7.403703758995668\n",
      "\n",
      "Generation:  62\n"
     ]
    },
    {
     "name": "stderr",
     "output_type": "stream",
     "text": [
      "100%|██████████| 1000/1000 [00:10<00:00, 93.42it/s]\n"
     ]
    },
    {
     "name": "stdout",
     "output_type": "stream",
     "text": [
      "Error (Train):  0.09063190850693487 COD (Train):  -0.8711841214416869\n",
      "Error (Test):  0.09353521048995424 COD (Test):  -7.403703758995668\n",
      "\n",
      "Generation:  63\n"
     ]
    },
    {
     "name": "stderr",
     "output_type": "stream",
     "text": [
      "100%|██████████| 1000/1000 [00:10<00:00, 92.50it/s]\n"
     ]
    },
    {
     "name": "stdout",
     "output_type": "stream",
     "text": [
      "Error (Train):  0.09063190850693487 COD (Train):  -0.8711841214416869\n",
      "Error (Test):  0.09353521048995424 COD (Test):  -7.403703758995668\n",
      "\n",
      "Generation:  64\n"
     ]
    },
    {
     "name": "stderr",
     "output_type": "stream",
     "text": [
      "100%|██████████| 1000/1000 [00:10<00:00, 92.27it/s]\n"
     ]
    },
    {
     "name": "stdout",
     "output_type": "stream",
     "text": [
      "Error (Train):  0.09063190850693487 COD (Train):  -0.8711841214416869\n",
      "Error (Test):  0.09353521048995424 COD (Test):  -7.403703758995668\n",
      "\n",
      "Generation:  65\n"
     ]
    },
    {
     "name": "stderr",
     "output_type": "stream",
     "text": [
      "100%|██████████| 1000/1000 [00:10<00:00, 92.71it/s]\n"
     ]
    },
    {
     "name": "stdout",
     "output_type": "stream",
     "text": [
      "Error (Train):  0.09063190850693487 COD (Train):  -0.8711841214416869\n",
      "Error (Test):  0.09353521048995424 COD (Test):  -7.403703758995668\n",
      "\n",
      "Generation:  66\n"
     ]
    },
    {
     "name": "stderr",
     "output_type": "stream",
     "text": [
      "100%|██████████| 1000/1000 [00:10<00:00, 92.62it/s]\n"
     ]
    },
    {
     "name": "stdout",
     "output_type": "stream",
     "text": [
      "Error (Train):  0.09063190850693487 COD (Train):  -0.8711841214416869\n",
      "Error (Test):  0.09353521048995424 COD (Test):  -7.403703758995668\n",
      "\n",
      "Generation:  67\n"
     ]
    },
    {
     "name": "stderr",
     "output_type": "stream",
     "text": [
      "100%|██████████| 1000/1000 [00:10<00:00, 91.30it/s]\n"
     ]
    },
    {
     "name": "stdout",
     "output_type": "stream",
     "text": [
      "Error (Train):  0.09063190850693487 COD (Train):  -0.8711841214416869\n",
      "Error (Test):  0.09353521048995424 COD (Test):  -7.403703758995668\n",
      "\n",
      "Generation:  68\n"
     ]
    },
    {
     "name": "stderr",
     "output_type": "stream",
     "text": [
      "100%|██████████| 1000/1000 [00:10<00:00, 91.93it/s]\n"
     ]
    },
    {
     "name": "stdout",
     "output_type": "stream",
     "text": [
      "Error (Train):  0.09063190850693487 COD (Train):  -0.8711841214416869\n",
      "Error (Test):  0.09353521048995424 COD (Test):  -7.403703758995668\n",
      "\n",
      "Generation:  69\n"
     ]
    },
    {
     "name": "stderr",
     "output_type": "stream",
     "text": [
      "100%|██████████| 1000/1000 [00:11<00:00, 89.16it/s]\n"
     ]
    },
    {
     "name": "stdout",
     "output_type": "stream",
     "text": [
      "Error (Train):  0.09063190850693487 COD (Train):  -0.8711841214416869\n",
      "Error (Test):  0.09353521048995424 COD (Test):  -7.403703758995668\n",
      "\n",
      "Generation:  70\n"
     ]
    },
    {
     "name": "stderr",
     "output_type": "stream",
     "text": [
      "100%|██████████| 1000/1000 [00:11<00:00, 90.59it/s]\n"
     ]
    },
    {
     "name": "stdout",
     "output_type": "stream",
     "text": [
      "Error (Train):  0.09063190850693487 COD (Train):  -0.8711841214416869\n",
      "Error (Test):  0.09353521048995424 COD (Test):  -7.403703758995668\n",
      "\n",
      "Generation:  71\n"
     ]
    },
    {
     "name": "stderr",
     "output_type": "stream",
     "text": [
      "100%|██████████| 1000/1000 [00:10<00:00, 92.27it/s]\n"
     ]
    },
    {
     "name": "stdout",
     "output_type": "stream",
     "text": [
      "Error (Train):  0.09063190850693487 COD (Train):  -0.8711841214416869\n",
      "Error (Test):  0.09353521048995424 COD (Test):  -7.403703758995668\n",
      "\n",
      "Generation:  72\n"
     ]
    },
    {
     "name": "stderr",
     "output_type": "stream",
     "text": [
      "100%|██████████| 1000/1000 [00:10<00:00, 93.39it/s]\n"
     ]
    },
    {
     "name": "stdout",
     "output_type": "stream",
     "text": [
      "Error (Train):  0.09063190850693487 COD (Train):  -0.8711841214416869\n",
      "Error (Test):  0.09353521048995424 COD (Test):  -7.403703758995668\n",
      "\n",
      "Generation:  73\n"
     ]
    },
    {
     "name": "stderr",
     "output_type": "stream",
     "text": [
      "100%|██████████| 1000/1000 [00:10<00:00, 92.73it/s]\n"
     ]
    },
    {
     "name": "stdout",
     "output_type": "stream",
     "text": [
      "Error (Train):  0.09063190850693487 COD (Train):  -0.8711841214416869\n",
      "Error (Test):  0.09353521048995424 COD (Test):  -7.403703758995668\n",
      "\n",
      "Generation:  74\n"
     ]
    },
    {
     "name": "stderr",
     "output_type": "stream",
     "text": [
      "100%|██████████| 1000/1000 [00:10<00:00, 91.53it/s]\n"
     ]
    },
    {
     "name": "stdout",
     "output_type": "stream",
     "text": [
      "Error (Train):  0.09063190850693487 COD (Train):  -0.8711841214416869\n",
      "Error (Test):  0.09353521048995424 COD (Test):  -7.403703758995668\n",
      "\n",
      "Generation:  75\n"
     ]
    },
    {
     "name": "stderr",
     "output_type": "stream",
     "text": [
      "100%|██████████| 1000/1000 [00:10<00:00, 92.39it/s]\n"
     ]
    },
    {
     "name": "stdout",
     "output_type": "stream",
     "text": [
      "Error (Train):  0.09063190850693487 COD (Train):  -0.8711841214416869\n",
      "Error (Test):  0.09353521048995424 COD (Test):  -7.403703758995668\n",
      "\n",
      "Generation:  76\n"
     ]
    },
    {
     "name": "stderr",
     "output_type": "stream",
     "text": [
      "100%|██████████| 1000/1000 [00:10<00:00, 92.64it/s]\n"
     ]
    },
    {
     "name": "stdout",
     "output_type": "stream",
     "text": [
      "Error (Train):  0.09063190850693487 COD (Train):  -0.8711841214416869\n",
      "Error (Test):  0.09353521048995424 COD (Test):  -7.403703758995668\n",
      "\n",
      "Generation:  77\n"
     ]
    },
    {
     "name": "stderr",
     "output_type": "stream",
     "text": [
      "100%|██████████| 1000/1000 [00:10<00:00, 93.63it/s]\n"
     ]
    },
    {
     "name": "stdout",
     "output_type": "stream",
     "text": [
      "Error (Train):  0.09063190850693487 COD (Train):  -0.8711841214416869\n",
      "Error (Test):  0.09353521048995424 COD (Test):  -7.403703758995668\n",
      "\n",
      "Generation:  78\n"
     ]
    },
    {
     "name": "stderr",
     "output_type": "stream",
     "text": [
      "100%|██████████| 1000/1000 [00:10<00:00, 92.01it/s]\n"
     ]
    },
    {
     "name": "stdout",
     "output_type": "stream",
     "text": [
      "Error (Train):  0.09063190850693487 COD (Train):  -0.8711841214416869\n",
      "Error (Test):  0.09353521048995424 COD (Test):  -7.403703758995668\n",
      "\n",
      "Generation:  79\n"
     ]
    },
    {
     "name": "stderr",
     "output_type": "stream",
     "text": [
      "100%|██████████| 1000/1000 [00:10<00:00, 90.47it/s]\n"
     ]
    },
    {
     "name": "stdout",
     "output_type": "stream",
     "text": [
      "Error (Train):  0.09063190850693487 COD (Train):  -0.8711841214416869\n",
      "Error (Test):  0.09353521048995424 COD (Test):  -7.403703758995668\n",
      "\n",
      "Generation:  80\n"
     ]
    },
    {
     "name": "stderr",
     "output_type": "stream",
     "text": [
      "100%|██████████| 1000/1000 [00:10<00:00, 91.49it/s]\n"
     ]
    },
    {
     "name": "stdout",
     "output_type": "stream",
     "text": [
      "Error (Train):  0.09063190850693487 COD (Train):  -0.8711841214416869\n",
      "Error (Test):  0.09353521048995424 COD (Test):  -7.403703758995668\n",
      "\n",
      "Generation:  81\n"
     ]
    },
    {
     "name": "stderr",
     "output_type": "stream",
     "text": [
      "100%|██████████| 1000/1000 [00:10<00:00, 92.71it/s]\n"
     ]
    },
    {
     "name": "stdout",
     "output_type": "stream",
     "text": [
      "Error (Train):  0.09063190850693487 COD (Train):  -0.8711841214416869\n",
      "Error (Test):  0.09353521048995424 COD (Test):  -7.403703758995668\n",
      "\n",
      "Generation:  82\n"
     ]
    },
    {
     "name": "stderr",
     "output_type": "stream",
     "text": [
      "100%|██████████| 1000/1000 [00:10<00:00, 91.52it/s]\n"
     ]
    },
    {
     "name": "stdout",
     "output_type": "stream",
     "text": [
      "Error (Train):  0.09063190850693487 COD (Train):  -0.8711841214416869\n",
      "Error (Test):  0.09353521048995424 COD (Test):  -7.403703758995668\n",
      "\n",
      "Generation:  83\n"
     ]
    },
    {
     "name": "stderr",
     "output_type": "stream",
     "text": [
      "100%|██████████| 1000/1000 [00:10<00:00, 92.62it/s]\n"
     ]
    },
    {
     "name": "stdout",
     "output_type": "stream",
     "text": [
      "Error (Train):  0.09063190850693487 COD (Train):  -0.8711841214416869\n",
      "Error (Test):  0.09353521048995424 COD (Test):  -7.403703758995668\n",
      "\n",
      "Generation:  84\n"
     ]
    },
    {
     "name": "stderr",
     "output_type": "stream",
     "text": [
      "100%|██████████| 1000/1000 [00:10<00:00, 92.91it/s]\n"
     ]
    },
    {
     "name": "stdout",
     "output_type": "stream",
     "text": [
      "Error (Train):  0.09063190850693487 COD (Train):  -0.8711841214416869\n",
      "Error (Test):  0.09353521048995424 COD (Test):  -7.403703758995668\n",
      "\n",
      "Generation:  85\n"
     ]
    },
    {
     "name": "stderr",
     "output_type": "stream",
     "text": [
      "100%|██████████| 1000/1000 [00:10<00:00, 92.47it/s]\n"
     ]
    },
    {
     "name": "stdout",
     "output_type": "stream",
     "text": [
      "Error (Train):  0.09063190850693487 COD (Train):  -0.8711841214416869\n",
      "Error (Test):  0.09353521048995424 COD (Test):  -7.403703758995668\n",
      "\n",
      "Generation:  86\n"
     ]
    },
    {
     "name": "stderr",
     "output_type": "stream",
     "text": [
      "100%|██████████| 1000/1000 [00:10<00:00, 92.47it/s]\n"
     ]
    },
    {
     "name": "stdout",
     "output_type": "stream",
     "text": [
      "Error (Train):  0.09063190850693487 COD (Train):  -0.8711841214416869\n",
      "Error (Test):  0.09353521048995424 COD (Test):  -7.403703758995668\n",
      "\n",
      "Generation:  87\n"
     ]
    },
    {
     "name": "stderr",
     "output_type": "stream",
     "text": [
      "100%|██████████| 1000/1000 [00:10<00:00, 92.70it/s]\n"
     ]
    },
    {
     "name": "stdout",
     "output_type": "stream",
     "text": [
      "Error (Train):  0.09063190850693487 COD (Train):  -0.8711841214416869\n",
      "Error (Test):  0.09353521048995424 COD (Test):  -7.403703758995668\n",
      "\n",
      "Generation:  88\n"
     ]
    },
    {
     "name": "stderr",
     "output_type": "stream",
     "text": [
      "100%|██████████| 1000/1000 [00:10<00:00, 92.53it/s]\n"
     ]
    },
    {
     "name": "stdout",
     "output_type": "stream",
     "text": [
      "Error (Train):  0.09063190850693487 COD (Train):  -0.8711841214416869\n",
      "Error (Test):  0.09353521048995424 COD (Test):  -7.403703758995668\n",
      "\n",
      "Generation:  89\n"
     ]
    },
    {
     "name": "stderr",
     "output_type": "stream",
     "text": [
      "100%|██████████| 1000/1000 [00:10<00:00, 92.37it/s]\n"
     ]
    },
    {
     "name": "stdout",
     "output_type": "stream",
     "text": [
      "Error (Train):  0.09063190850693487 COD (Train):  -0.8711841214416869\n",
      "Error (Test):  0.09353521048995424 COD (Test):  -7.403703758995668\n",
      "\n",
      "Generation:  90\n"
     ]
    },
    {
     "name": "stderr",
     "output_type": "stream",
     "text": [
      "100%|██████████| 1000/1000 [00:10<00:00, 92.00it/s]\n"
     ]
    },
    {
     "name": "stdout",
     "output_type": "stream",
     "text": [
      "Error (Train):  0.09063190850693487 COD (Train):  -0.8711841214416869\n",
      "Error (Test):  0.09353521048995424 COD (Test):  -7.403703758995668\n",
      "\n",
      "Generation:  91\n"
     ]
    },
    {
     "name": "stderr",
     "output_type": "stream",
     "text": [
      "100%|██████████| 1000/1000 [00:10<00:00, 92.27it/s]\n"
     ]
    },
    {
     "name": "stdout",
     "output_type": "stream",
     "text": [
      "Error (Train):  0.09063190850693487 COD (Train):  -0.8711841214416869\n",
      "Error (Test):  0.09353521048995424 COD (Test):  -7.403703758995668\n",
      "\n",
      "Generation:  92\n"
     ]
    },
    {
     "name": "stderr",
     "output_type": "stream",
     "text": [
      "100%|██████████| 1000/1000 [00:10<00:00, 92.61it/s]\n"
     ]
    },
    {
     "name": "stdout",
     "output_type": "stream",
     "text": [
      "Error (Train):  0.09063190850693487 COD (Train):  -0.8711841214416869\n",
      "Error (Test):  0.09353521048995424 COD (Test):  -7.403703758995668\n",
      "\n",
      "Generation:  93\n"
     ]
    },
    {
     "name": "stderr",
     "output_type": "stream",
     "text": [
      "100%|██████████| 1000/1000 [00:10<00:00, 91.61it/s]\n"
     ]
    },
    {
     "name": "stdout",
     "output_type": "stream",
     "text": [
      "Error (Train):  0.09063190850693487 COD (Train):  -0.8711841214416869\n",
      "Error (Test):  0.09353521048995424 COD (Test):  -7.403703758995668\n",
      "\n",
      "Generation:  94\n"
     ]
    },
    {
     "name": "stderr",
     "output_type": "stream",
     "text": [
      "100%|██████████| 1000/1000 [00:10<00:00, 91.97it/s]\n"
     ]
    },
    {
     "name": "stdout",
     "output_type": "stream",
     "text": [
      "Error (Train):  0.09063190850693487 COD (Train):  -0.8711841214416869\n",
      "Error (Test):  0.09353521048995424 COD (Test):  -7.403703758995668\n",
      "\n",
      "Generation:  95\n"
     ]
    },
    {
     "name": "stderr",
     "output_type": "stream",
     "text": [
      "100%|██████████| 1000/1000 [00:10<00:00, 92.08it/s]\n"
     ]
    },
    {
     "name": "stdout",
     "output_type": "stream",
     "text": [
      "Error (Train):  0.09063190850693487 COD (Train):  -0.8711841214416869\n",
      "Error (Test):  0.09353521048995424 COD (Test):  -7.403703758995668\n",
      "\n",
      "Generation:  96\n"
     ]
    },
    {
     "name": "stderr",
     "output_type": "stream",
     "text": [
      "100%|██████████| 1000/1000 [00:10<00:00, 91.54it/s]\n"
     ]
    },
    {
     "name": "stdout",
     "output_type": "stream",
     "text": [
      "Error (Train):  0.09063190850693487 COD (Train):  -0.8711841214416869\n",
      "Error (Test):  0.09353521048995424 COD (Test):  -7.403703758995668\n",
      "\n",
      "Generation:  97\n"
     ]
    },
    {
     "name": "stderr",
     "output_type": "stream",
     "text": [
      "100%|██████████| 1000/1000 [00:10<00:00, 91.47it/s]\n"
     ]
    },
    {
     "name": "stdout",
     "output_type": "stream",
     "text": [
      "Error (Train):  0.09063190850693487 COD (Train):  -0.8711841214416869\n",
      "Error (Test):  0.09353521048995424 COD (Test):  -7.403703758995668\n",
      "\n",
      "Generation:  98\n"
     ]
    },
    {
     "name": "stderr",
     "output_type": "stream",
     "text": [
      "100%|██████████| 1000/1000 [00:10<00:00, 93.08it/s]\n"
     ]
    },
    {
     "name": "stdout",
     "output_type": "stream",
     "text": [
      "Error (Train):  0.09063190850693487 COD (Train):  -0.8711841214416869\n",
      "Error (Test):  0.09353521048995424 COD (Test):  -7.403703758995668\n",
      "\n",
      "Generation:  99\n"
     ]
    },
    {
     "name": "stderr",
     "output_type": "stream",
     "text": [
      "100%|██████████| 1000/1000 [00:11<00:00, 90.52it/s]\n"
     ]
    },
    {
     "name": "stdout",
     "output_type": "stream",
     "text": [
      "Error (Train):  0.09063190850693487 COD (Train):  -0.8711841214416869\n",
      "Error (Test):  0.09353521048995424 COD (Test):  -7.403703758995668\n",
      "\n",
      "Generation:  100\n"
     ]
    },
    {
     "name": "stderr",
     "output_type": "stream",
     "text": [
      "100%|██████████| 1000/1000 [00:11<00:00, 90.60it/s]\n"
     ]
    },
    {
     "name": "stdout",
     "output_type": "stream",
     "text": [
      "Error (Train):  0.09063190850693487 COD (Train):  -0.8711841214416869\n",
      "Error (Test):  0.09353521048995424 COD (Test):  -7.403703758995668\n",
      "\n",
      "Generation:  101\n"
     ]
    },
    {
     "name": "stderr",
     "output_type": "stream",
     "text": [
      "100%|██████████| 1000/1000 [00:10<00:00, 91.38it/s]\n"
     ]
    },
    {
     "name": "stdout",
     "output_type": "stream",
     "text": [
      "Error (Train):  0.09063190850693487 COD (Train):  -0.8711841214416869\n",
      "Error (Test):  0.09353521048995424 COD (Test):  -7.403703758995668\n",
      "\n",
      "Generation:  102\n"
     ]
    },
    {
     "name": "stderr",
     "output_type": "stream",
     "text": [
      "100%|██████████| 1000/1000 [00:10<00:00, 91.36it/s]\n"
     ]
    },
    {
     "name": "stdout",
     "output_type": "stream",
     "text": [
      "Error (Train):  0.09063190850693487 COD (Train):  -0.8711841214416869\n",
      "Error (Test):  0.09353521048995424 COD (Test):  -7.403703758995668\n",
      "\n",
      "Generation:  103\n"
     ]
    },
    {
     "name": "stderr",
     "output_type": "stream",
     "text": [
      "100%|██████████| 1000/1000 [00:10<00:00, 92.01it/s]\n"
     ]
    },
    {
     "name": "stdout",
     "output_type": "stream",
     "text": [
      "Error (Train):  0.09063190850693487 COD (Train):  -0.8711841214416869\n",
      "Error (Test):  0.09353521048995424 COD (Test):  -7.403703758995668\n",
      "\n",
      "Generation:  104\n"
     ]
    },
    {
     "name": "stderr",
     "output_type": "stream",
     "text": [
      "100%|██████████| 1000/1000 [00:10<00:00, 93.43it/s]\n"
     ]
    },
    {
     "name": "stdout",
     "output_type": "stream",
     "text": [
      "Error (Train):  0.09063190850693487 COD (Train):  -0.8711841214416869\n",
      "Error (Test):  0.09353521048995424 COD (Test):  -7.403703758995668\n",
      "\n",
      "Generation:  105\n"
     ]
    },
    {
     "name": "stderr",
     "output_type": "stream",
     "text": [
      "100%|██████████| 1000/1000 [00:10<00:00, 87.44it/s]\n"
     ]
    },
    {
     "name": "stdout",
     "output_type": "stream",
     "text": [
      "Error (Train):  0.09063190850693487 COD (Train):  -0.8711841214416869\n",
      "Error (Test):  0.09353521048995424 COD (Test):  -7.403703758995668\n",
      "\n",
      "Generation:  106\n"
     ]
    },
    {
     "name": "stderr",
     "output_type": "stream",
     "text": [
      "100%|██████████| 1000/1000 [00:10<00:00, 91.57it/s]\n"
     ]
    },
    {
     "name": "stdout",
     "output_type": "stream",
     "text": [
      "Error (Train):  0.09063190850693487 COD (Train):  -0.8711841214416869\n",
      "Error (Test):  0.09353521048995424 COD (Test):  -7.403703758995668\n",
      "\n",
      "Generation:  107\n"
     ]
    },
    {
     "name": "stderr",
     "output_type": "stream",
     "text": [
      "100%|██████████| 1000/1000 [00:10<00:00, 91.88it/s]\n"
     ]
    },
    {
     "name": "stdout",
     "output_type": "stream",
     "text": [
      "Error (Train):  0.09063190850693487 COD (Train):  -0.8711841214416869\n",
      "Error (Test):  0.09353521048995424 COD (Test):  -7.403703758995668\n",
      "\n",
      "Generation:  108\n"
     ]
    },
    {
     "name": "stderr",
     "output_type": "stream",
     "text": [
      "100%|██████████| 1000/1000 [00:11<00:00, 90.32it/s]\n"
     ]
    },
    {
     "name": "stdout",
     "output_type": "stream",
     "text": [
      "Error (Train):  0.09063190850693487 COD (Train):  -0.8711841214416869\n",
      "Error (Test):  0.09353521048995424 COD (Test):  -7.403703758995668\n",
      "\n",
      "Generation:  109\n"
     ]
    },
    {
     "name": "stderr",
     "output_type": "stream",
     "text": [
      "100%|██████████| 1000/1000 [00:10<00:00, 91.87it/s]\n"
     ]
    },
    {
     "name": "stdout",
     "output_type": "stream",
     "text": [
      "Error (Train):  0.09063190850693487 COD (Train):  -0.8711841214416869\n",
      "Error (Test):  0.09353521048995424 COD (Test):  -7.403703758995668\n",
      "\n",
      "Generation:  110\n"
     ]
    },
    {
     "name": "stderr",
     "output_type": "stream",
     "text": [
      "100%|██████████| 1000/1000 [00:10<00:00, 91.28it/s]\n"
     ]
    },
    {
     "name": "stdout",
     "output_type": "stream",
     "text": [
      "Error (Train):  0.09063190850693487 COD (Train):  -0.8711841214416869\n",
      "Error (Test):  0.09353521048995424 COD (Test):  -7.403703758995668\n",
      "\n",
      "Generation:  111\n"
     ]
    },
    {
     "name": "stderr",
     "output_type": "stream",
     "text": [
      "100%|██████████| 1000/1000 [00:11<00:00, 90.80it/s]\n"
     ]
    },
    {
     "name": "stdout",
     "output_type": "stream",
     "text": [
      "Error (Train):  0.09063190850693487 COD (Train):  -0.8711841214416869\n",
      "Error (Test):  0.09353521048995424 COD (Test):  -7.403703758995668\n",
      "\n",
      "Generation:  112\n"
     ]
    },
    {
     "name": "stderr",
     "output_type": "stream",
     "text": [
      "100%|██████████| 1000/1000 [00:10<00:00, 91.42it/s]\n"
     ]
    },
    {
     "name": "stdout",
     "output_type": "stream",
     "text": [
      "Error (Train):  0.09063190850693487 COD (Train):  -0.8711841214416869\n",
      "Error (Test):  0.09353521048995424 COD (Test):  -7.403703758995668\n",
      "\n",
      "Generation:  113\n"
     ]
    },
    {
     "name": "stderr",
     "output_type": "stream",
     "text": [
      "100%|██████████| 1000/1000 [00:10<00:00, 92.94it/s]\n"
     ]
    },
    {
     "name": "stdout",
     "output_type": "stream",
     "text": [
      "Error (Train):  0.09063190850693487 COD (Train):  -0.8711841214416869\n",
      "Error (Test):  0.09353521048995424 COD (Test):  -7.403703758995668\n",
      "\n",
      "Generation:  114\n"
     ]
    },
    {
     "name": "stderr",
     "output_type": "stream",
     "text": [
      "100%|██████████| 1000/1000 [00:10<00:00, 92.00it/s]\n"
     ]
    },
    {
     "name": "stdout",
     "output_type": "stream",
     "text": [
      "Error (Train):  0.09063190850693487 COD (Train):  -0.8711841214416869\n",
      "Error (Test):  0.09353521048995424 COD (Test):  -7.403703758995668\n",
      "\n",
      "Generation:  115\n"
     ]
    },
    {
     "name": "stderr",
     "output_type": "stream",
     "text": [
      "100%|██████████| 1000/1000 [00:10<00:00, 91.81it/s]\n"
     ]
    },
    {
     "name": "stdout",
     "output_type": "stream",
     "text": [
      "Error (Train):  0.09063190850693487 COD (Train):  -0.8711841214416869\n",
      "Error (Test):  0.09353521048995424 COD (Test):  -7.403703758995668\n",
      "\n",
      "Generation:  116\n"
     ]
    },
    {
     "name": "stderr",
     "output_type": "stream",
     "text": [
      "100%|██████████| 1000/1000 [00:10<00:00, 91.85it/s]\n"
     ]
    },
    {
     "name": "stdout",
     "output_type": "stream",
     "text": [
      "Error (Train):  0.09063190850693487 COD (Train):  -0.8711841214416869\n",
      "Error (Test):  0.09353521048995424 COD (Test):  -7.403703758995668\n",
      "\n",
      "Generation:  117\n"
     ]
    },
    {
     "name": "stderr",
     "output_type": "stream",
     "text": [
      "100%|██████████| 1000/1000 [00:10<00:00, 91.56it/s]\n"
     ]
    },
    {
     "name": "stdout",
     "output_type": "stream",
     "text": [
      "Error (Train):  0.09063190850693487 COD (Train):  -0.8711841214416869\n",
      "Error (Test):  0.09353521048995424 COD (Test):  -7.403703758995668\n",
      "\n",
      "Generation:  118\n"
     ]
    },
    {
     "name": "stderr",
     "output_type": "stream",
     "text": [
      "100%|██████████| 1000/1000 [00:10<00:00, 91.66it/s]\n"
     ]
    },
    {
     "name": "stdout",
     "output_type": "stream",
     "text": [
      "Error (Train):  0.09063190850693487 COD (Train):  -0.8711841214416869\n",
      "Error (Test):  0.09353521048995424 COD (Test):  -7.403703758995668\n",
      "\n",
      "Generation:  119\n"
     ]
    },
    {
     "name": "stderr",
     "output_type": "stream",
     "text": [
      "100%|██████████| 1000/1000 [00:10<00:00, 92.96it/s]\n"
     ]
    },
    {
     "name": "stdout",
     "output_type": "stream",
     "text": [
      "Error (Train):  0.09063190850693487 COD (Train):  -0.8711841214416869\n",
      "Error (Test):  0.09353521048995424 COD (Test):  -7.403703758995668\n",
      "\n",
      "Generation:  120\n"
     ]
    },
    {
     "name": "stderr",
     "output_type": "stream",
     "text": [
      "100%|██████████| 1000/1000 [00:10<00:00, 91.69it/s]\n"
     ]
    },
    {
     "name": "stdout",
     "output_type": "stream",
     "text": [
      "Error (Train):  0.09063190850693487 COD (Train):  -0.8711841214416869\n",
      "Error (Test):  0.09353521048995424 COD (Test):  -7.403703758995668\n",
      "\n",
      "Generation:  121\n"
     ]
    },
    {
     "name": "stderr",
     "output_type": "stream",
     "text": [
      "100%|██████████| 1000/1000 [00:10<00:00, 92.03it/s]\n"
     ]
    },
    {
     "name": "stdout",
     "output_type": "stream",
     "text": [
      "Error (Train):  0.09063190850693487 COD (Train):  -0.8711841214416869\n",
      "Error (Test):  0.09353521048995424 COD (Test):  -7.403703758995668\n",
      "\n",
      "Generation:  122\n"
     ]
    },
    {
     "name": "stderr",
     "output_type": "stream",
     "text": [
      "100%|██████████| 1000/1000 [00:10<00:00, 91.23it/s]\n"
     ]
    },
    {
     "name": "stdout",
     "output_type": "stream",
     "text": [
      "Error (Train):  0.09063190850693487 COD (Train):  -0.8711841214416869\n",
      "Error (Test):  0.09353521048995424 COD (Test):  -7.403703758995668\n",
      "\n",
      "Generation:  123\n"
     ]
    },
    {
     "name": "stderr",
     "output_type": "stream",
     "text": [
      "100%|██████████| 1000/1000 [00:10<00:00, 91.45it/s]\n"
     ]
    },
    {
     "name": "stdout",
     "output_type": "stream",
     "text": [
      "Error (Train):  0.09063190850693487 COD (Train):  -0.8711841214416869\n",
      "Error (Test):  0.09353521048995424 COD (Test):  -7.403703758995668\n",
      "\n",
      "Generation:  124\n"
     ]
    },
    {
     "name": "stderr",
     "output_type": "stream",
     "text": [
      "100%|██████████| 1000/1000 [00:10<00:00, 91.05it/s]\n"
     ]
    },
    {
     "name": "stdout",
     "output_type": "stream",
     "text": [
      "Error (Train):  0.09063190850693487 COD (Train):  -0.8711841214416869\n",
      "Error (Test):  0.09353521048995424 COD (Test):  -7.403703758995668\n",
      "\n",
      "Generation:  125\n"
     ]
    },
    {
     "name": "stderr",
     "output_type": "stream",
     "text": [
      "100%|██████████| 1000/1000 [00:10<00:00, 91.76it/s]\n"
     ]
    },
    {
     "name": "stdout",
     "output_type": "stream",
     "text": [
      "Error (Train):  0.09063190850693487 COD (Train):  -0.8711841214416869\n",
      "Error (Test):  0.09353521048995424 COD (Test):  -7.403703758995668\n",
      "\n",
      "Generation:  126\n"
     ]
    },
    {
     "name": "stderr",
     "output_type": "stream",
     "text": [
      "100%|██████████| 1000/1000 [00:10<00:00, 91.06it/s]\n"
     ]
    },
    {
     "name": "stdout",
     "output_type": "stream",
     "text": [
      "Error (Train):  0.09063190850693487 COD (Train):  -0.8711841214416869\n",
      "Error (Test):  0.09353521048995424 COD (Test):  -7.403703758995668\n",
      "\n",
      "Generation:  127\n"
     ]
    },
    {
     "name": "stderr",
     "output_type": "stream",
     "text": [
      "100%|██████████| 1000/1000 [00:11<00:00, 90.54it/s]\n"
     ]
    },
    {
     "name": "stdout",
     "output_type": "stream",
     "text": [
      "Error (Train):  0.09063190850693487 COD (Train):  -0.8711841214416869\n",
      "Error (Test):  0.09353521048995424 COD (Test):  -7.403703758995668\n",
      "\n",
      "Generation:  128\n"
     ]
    },
    {
     "name": "stderr",
     "output_type": "stream",
     "text": [
      "100%|██████████| 1000/1000 [00:11<00:00, 89.73it/s]\n"
     ]
    },
    {
     "name": "stdout",
     "output_type": "stream",
     "text": [
      "Error (Train):  0.09063190850693487 COD (Train):  -0.8711841214416869\n",
      "Error (Test):  0.09353521048995424 COD (Test):  -7.403703758995668\n",
      "\n",
      "Generation:  129\n"
     ]
    },
    {
     "name": "stderr",
     "output_type": "stream",
     "text": [
      "100%|██████████| 1000/1000 [00:11<00:00, 90.62it/s]\n"
     ]
    },
    {
     "name": "stdout",
     "output_type": "stream",
     "text": [
      "Error (Train):  0.09063190850693487 COD (Train):  -0.8711841214416869\n",
      "Error (Test):  0.09353521048995424 COD (Test):  -7.403703758995668\n",
      "\n",
      "Generation:  130\n"
     ]
    },
    {
     "name": "stderr",
     "output_type": "stream",
     "text": [
      "100%|██████████| 1000/1000 [00:10<00:00, 92.73it/s]\n"
     ]
    },
    {
     "name": "stdout",
     "output_type": "stream",
     "text": [
      "Error (Train):  0.09063190850693487 COD (Train):  -0.8711841214416869\n",
      "Error (Test):  0.09353521048995424 COD (Test):  -7.403703758995668\n",
      "\n",
      "Generation:  131\n"
     ]
    },
    {
     "name": "stderr",
     "output_type": "stream",
     "text": [
      "100%|██████████| 1000/1000 [00:10<00:00, 92.13it/s]\n"
     ]
    },
    {
     "name": "stdout",
     "output_type": "stream",
     "text": [
      "Error (Train):  0.09063190850693487 COD (Train):  -0.8711841214416869\n",
      "Error (Test):  0.09353521048995424 COD (Test):  -7.403703758995668\n",
      "\n",
      "Generation:  132\n"
     ]
    },
    {
     "name": "stderr",
     "output_type": "stream",
     "text": [
      "100%|██████████| 1000/1000 [00:10<00:00, 91.97it/s]\n"
     ]
    },
    {
     "name": "stdout",
     "output_type": "stream",
     "text": [
      "Error (Train):  0.09063190850693487 COD (Train):  -0.8711841214416869\n",
      "Error (Test):  0.09353521048995424 COD (Test):  -7.403703758995668\n",
      "\n",
      "Generation:  133\n"
     ]
    },
    {
     "name": "stderr",
     "output_type": "stream",
     "text": [
      "100%|██████████| 1000/1000 [00:10<00:00, 92.24it/s]\n"
     ]
    },
    {
     "name": "stdout",
     "output_type": "stream",
     "text": [
      "Error (Train):  0.09063190850693487 COD (Train):  -0.8711841214416869\n",
      "Error (Test):  0.09353521048995424 COD (Test):  -7.403703758995668\n",
      "\n",
      "Generation:  134\n"
     ]
    },
    {
     "name": "stderr",
     "output_type": "stream",
     "text": [
      "100%|██████████| 1000/1000 [00:10<00:00, 91.69it/s]\n"
     ]
    },
    {
     "name": "stdout",
     "output_type": "stream",
     "text": [
      "Error (Train):  0.09063190850693487 COD (Train):  -0.8711841214416869\n",
      "Error (Test):  0.09353521048995424 COD (Test):  -7.403703758995668\n",
      "\n",
      "Generation:  135\n"
     ]
    },
    {
     "name": "stderr",
     "output_type": "stream",
     "text": [
      "100%|██████████| 1000/1000 [00:10<00:00, 92.59it/s]\n"
     ]
    },
    {
     "name": "stdout",
     "output_type": "stream",
     "text": [
      "Error (Train):  0.09063190850693487 COD (Train):  -0.8711841214416869\n",
      "Error (Test):  0.09353521048995424 COD (Test):  -7.403703758995668\n",
      "\n",
      "Generation:  136\n"
     ]
    },
    {
     "name": "stderr",
     "output_type": "stream",
     "text": [
      "100%|██████████| 1000/1000 [00:11<00:00, 88.93it/s]\n"
     ]
    },
    {
     "name": "stdout",
     "output_type": "stream",
     "text": [
      "Error (Train):  0.09063190850693487 COD (Train):  -0.8711841214416869\n",
      "Error (Test):  0.09353521048995424 COD (Test):  -7.403703758995668\n",
      "\n",
      "Generation:  137\n"
     ]
    },
    {
     "name": "stderr",
     "output_type": "stream",
     "text": [
      "100%|██████████| 1000/1000 [00:10<00:00, 91.70it/s]\n"
     ]
    },
    {
     "name": "stdout",
     "output_type": "stream",
     "text": [
      "Error (Train):  0.09063190850693487 COD (Train):  -0.8711841214416869\n",
      "Error (Test):  0.09353521048995424 COD (Test):  -7.403703758995668\n",
      "\n",
      "Generation:  138\n"
     ]
    },
    {
     "name": "stderr",
     "output_type": "stream",
     "text": [
      "100%|██████████| 1000/1000 [00:10<00:00, 91.18it/s]\n"
     ]
    },
    {
     "name": "stdout",
     "output_type": "stream",
     "text": [
      "Error (Train):  0.09063190850693487 COD (Train):  -0.8711841214416869\n",
      "Error (Test):  0.09353521048995424 COD (Test):  -7.403703758995668\n",
      "\n",
      "Generation:  139\n"
     ]
    },
    {
     "name": "stderr",
     "output_type": "stream",
     "text": [
      "100%|██████████| 1000/1000 [00:10<00:00, 91.55it/s]\n"
     ]
    },
    {
     "name": "stdout",
     "output_type": "stream",
     "text": [
      "Error (Train):  0.09063190850693487 COD (Train):  -0.8711841214416869\n",
      "Error (Test):  0.09353521048995424 COD (Test):  -7.403703758995668\n",
      "\n",
      "Generation:  140\n"
     ]
    },
    {
     "name": "stderr",
     "output_type": "stream",
     "text": [
      "100%|██████████| 1000/1000 [00:11<00:00, 90.36it/s]\n"
     ]
    },
    {
     "name": "stdout",
     "output_type": "stream",
     "text": [
      "Error (Train):  0.09063190850693487 COD (Train):  -0.8711841214416869\n",
      "Error (Test):  0.09353521048995424 COD (Test):  -7.403703758995668\n",
      "\n",
      "Generation:  141\n"
     ]
    },
    {
     "name": "stderr",
     "output_type": "stream",
     "text": [
      "100%|██████████| 1000/1000 [00:11<00:00, 90.40it/s]\n"
     ]
    },
    {
     "name": "stdout",
     "output_type": "stream",
     "text": [
      "Error (Train):  0.09063190850693487 COD (Train):  -0.8711841214416869\n",
      "Error (Test):  0.09353521048995424 COD (Test):  -7.403703758995668\n",
      "\n",
      "Generation:  142\n"
     ]
    },
    {
     "name": "stderr",
     "output_type": "stream",
     "text": [
      "100%|██████████| 1000/1000 [00:10<00:00, 91.42it/s]\n"
     ]
    },
    {
     "name": "stdout",
     "output_type": "stream",
     "text": [
      "Error (Train):  0.09063190850693487 COD (Train):  -0.8711841214416869\n",
      "Error (Test):  0.09353521048995424 COD (Test):  -7.403703758995668\n",
      "\n",
      "Generation:  143\n"
     ]
    },
    {
     "name": "stderr",
     "output_type": "stream",
     "text": [
      "100%|██████████| 1000/1000 [00:10<00:00, 91.33it/s]\n"
     ]
    },
    {
     "name": "stdout",
     "output_type": "stream",
     "text": [
      "Error (Train):  0.09063190850693487 COD (Train):  -0.8711841214416869\n",
      "Error (Test):  0.09353521048995424 COD (Test):  -7.403703758995668\n",
      "\n",
      "Generation:  144\n"
     ]
    },
    {
     "name": "stderr",
     "output_type": "stream",
     "text": [
      "100%|██████████| 1000/1000 [00:10<00:00, 90.95it/s]\n"
     ]
    },
    {
     "name": "stdout",
     "output_type": "stream",
     "text": [
      "Error (Train):  0.09063190850693487 COD (Train):  -0.8711841214416869\n",
      "Error (Test):  0.09353521048995424 COD (Test):  -7.403703758995668\n",
      "\n",
      "Generation:  145\n"
     ]
    },
    {
     "name": "stderr",
     "output_type": "stream",
     "text": [
      "100%|██████████| 1000/1000 [00:11<00:00, 92.23it/s]\n"
     ]
    },
    {
     "name": "stdout",
     "output_type": "stream",
     "text": [
      "Error (Train):  0.09063190850693487 COD (Train):  -0.8711841214416869\n",
      "Error (Test):  0.09353521048995424 COD (Test):  -7.403703758995668\n",
      "\n",
      "Generation:  146\n"
     ]
    },
    {
     "name": "stderr",
     "output_type": "stream",
     "text": [
      "100%|██████████| 1000/1000 [00:10<00:00, 91.76it/s]\n"
     ]
    },
    {
     "name": "stdout",
     "output_type": "stream",
     "text": [
      "Error (Train):  0.09063190850693487 COD (Train):  -0.8711841214416869\n",
      "Error (Test):  0.09353521048995424 COD (Test):  -7.403703758995668\n",
      "\n",
      "Generation:  147\n"
     ]
    },
    {
     "name": "stderr",
     "output_type": "stream",
     "text": [
      "100%|██████████| 1000/1000 [00:10<00:00, 91.65it/s]\n"
     ]
    },
    {
     "name": "stdout",
     "output_type": "stream",
     "text": [
      "Error (Train):  0.09063190850693487 COD (Train):  -0.8711841214416869\n",
      "Error (Test):  0.09353521048995424 COD (Test):  -7.403703758995668\n",
      "\n",
      "Generation:  148\n"
     ]
    },
    {
     "name": "stderr",
     "output_type": "stream",
     "text": [
      "100%|██████████| 1000/1000 [00:10<00:00, 91.48it/s]\n"
     ]
    },
    {
     "name": "stdout",
     "output_type": "stream",
     "text": [
      "Error (Train):  0.09063190850693487 COD (Train):  -0.8711841214416869\n",
      "Error (Test):  0.09353521048995424 COD (Test):  -7.403703758995668\n",
      "\n",
      "Generation:  149\n"
     ]
    },
    {
     "name": "stderr",
     "output_type": "stream",
     "text": [
      "100%|██████████| 1000/1000 [00:10<00:00, 91.75it/s]\n"
     ]
    },
    {
     "name": "stdout",
     "output_type": "stream",
     "text": [
      "Error (Train):  0.09063190850693487 COD (Train):  -0.8711841214416869\n",
      "Error (Test):  0.09353521048995424 COD (Test):  -7.403703758995668\n",
      "\n",
      "Generation:  150\n"
     ]
    },
    {
     "name": "stderr",
     "output_type": "stream",
     "text": [
      "100%|██████████| 1000/1000 [00:10<00:00, 91.72it/s]\n"
     ]
    },
    {
     "name": "stdout",
     "output_type": "stream",
     "text": [
      "Error (Train):  0.09063190850693487 COD (Train):  -0.8711841214416869\n",
      "Error (Test):  0.09353521048995424 COD (Test):  -7.403703758995668\n",
      "\n",
      "Generation:  151\n"
     ]
    },
    {
     "name": "stderr",
     "output_type": "stream",
     "text": [
      "100%|██████████| 1000/1000 [00:10<00:00, 91.49it/s]\n"
     ]
    },
    {
     "name": "stdout",
     "output_type": "stream",
     "text": [
      "Error (Train):  0.09063190850693487 COD (Train):  -0.8711841214416869\n",
      "Error (Test):  0.09353521048995424 COD (Test):  -7.403703758995668\n",
      "\n",
      "Generation:  152\n"
     ]
    },
    {
     "name": "stderr",
     "output_type": "stream",
     "text": [
      "100%|██████████| 1000/1000 [00:10<00:00, 91.48it/s]\n"
     ]
    },
    {
     "name": "stdout",
     "output_type": "stream",
     "text": [
      "Error (Train):  0.09063190850693487 COD (Train):  -0.8711841214416869\n",
      "Error (Test):  0.09353521048995424 COD (Test):  -7.403703758995668\n",
      "\n",
      "Generation:  153\n"
     ]
    },
    {
     "name": "stderr",
     "output_type": "stream",
     "text": [
      "100%|██████████| 1000/1000 [00:10<00:00, 91.38it/s]\n"
     ]
    },
    {
     "name": "stdout",
     "output_type": "stream",
     "text": [
      "Error (Train):  0.09063190850693487 COD (Train):  -0.8711841214416869\n",
      "Error (Test):  0.09353521048995424 COD (Test):  -7.403703758995668\n",
      "\n",
      "Generation:  154\n"
     ]
    },
    {
     "name": "stderr",
     "output_type": "stream",
     "text": [
      "100%|██████████| 1000/1000 [00:10<00:00, 91.83it/s]\n"
     ]
    },
    {
     "name": "stdout",
     "output_type": "stream",
     "text": [
      "Error (Train):  0.09063190850693487 COD (Train):  -0.8711841214416869\n",
      "Error (Test):  0.09353521048995424 COD (Test):  -7.403703758995668\n",
      "\n",
      "Generation:  155\n"
     ]
    },
    {
     "name": "stderr",
     "output_type": "stream",
     "text": [
      "100%|██████████| 1000/1000 [00:10<00:00, 92.76it/s]\n"
     ]
    },
    {
     "name": "stdout",
     "output_type": "stream",
     "text": [
      "Error (Train):  0.09063190850693487 COD (Train):  -0.8711841214416869\n",
      "Error (Test):  0.09353521048995424 COD (Test):  -7.403703758995668\n",
      "\n",
      "Generation:  156\n"
     ]
    },
    {
     "name": "stderr",
     "output_type": "stream",
     "text": [
      "100%|██████████| 1000/1000 [00:10<00:00, 92.51it/s]\n"
     ]
    },
    {
     "name": "stdout",
     "output_type": "stream",
     "text": [
      "Error (Train):  0.09063190850693487 COD (Train):  -0.8711841214416869\n",
      "Error (Test):  0.09353521048995424 COD (Test):  -7.403703758995668\n",
      "\n",
      "Generation:  157\n"
     ]
    },
    {
     "name": "stderr",
     "output_type": "stream",
     "text": [
      "100%|██████████| 1000/1000 [00:10<00:00, 91.69it/s]\n"
     ]
    },
    {
     "name": "stdout",
     "output_type": "stream",
     "text": [
      "Error (Train):  0.09063190850693487 COD (Train):  -0.8711841214416869\n",
      "Error (Test):  0.09353521048995424 COD (Test):  -7.403703758995668\n",
      "\n",
      "Generation:  158\n"
     ]
    },
    {
     "name": "stderr",
     "output_type": "stream",
     "text": [
      "100%|██████████| 1000/1000 [00:10<00:00, 92.84it/s]\n"
     ]
    },
    {
     "name": "stdout",
     "output_type": "stream",
     "text": [
      "Error (Train):  0.09063190850693487 COD (Train):  -0.8711841214416869\n",
      "Error (Test):  0.09353521048995424 COD (Test):  -7.403703758995668\n",
      "\n",
      "Generation:  159\n"
     ]
    },
    {
     "name": "stderr",
     "output_type": "stream",
     "text": [
      "100%|██████████| 1000/1000 [00:10<00:00, 92.43it/s]\n"
     ]
    },
    {
     "name": "stdout",
     "output_type": "stream",
     "text": [
      "Error (Train):  0.09063190850693487 COD (Train):  -0.8711841214416869\n",
      "Error (Test):  0.09353521048995424 COD (Test):  -7.403703758995668\n",
      "\n",
      "Generation:  160\n"
     ]
    },
    {
     "name": "stderr",
     "output_type": "stream",
     "text": [
      "100%|██████████| 1000/1000 [00:10<00:00, 92.16it/s]\n"
     ]
    },
    {
     "name": "stdout",
     "output_type": "stream",
     "text": [
      "Error (Train):  0.09063190850693487 COD (Train):  -0.8711841214416869\n",
      "Error (Test):  0.09353521048995424 COD (Test):  -7.403703758995668\n",
      "\n",
      "Generation:  161\n"
     ]
    },
    {
     "name": "stderr",
     "output_type": "stream",
     "text": [
      "100%|██████████| 1000/1000 [00:10<00:00, 92.76it/s]\n"
     ]
    },
    {
     "name": "stdout",
     "output_type": "stream",
     "text": [
      "Error (Train):  0.09063190850693487 COD (Train):  -0.8711841214416869\n",
      "Error (Test):  0.09353521048995424 COD (Test):  -7.403703758995668\n",
      "\n",
      "Generation:  162\n"
     ]
    },
    {
     "name": "stderr",
     "output_type": "stream",
     "text": [
      "100%|██████████| 1000/1000 [00:10<00:00, 92.65it/s]\n"
     ]
    },
    {
     "name": "stdout",
     "output_type": "stream",
     "text": [
      "Error (Train):  0.09063190850693487 COD (Train):  -0.8711841214416869\n",
      "Error (Test):  0.09353521048995424 COD (Test):  -7.403703758995668\n",
      "\n",
      "Generation:  163\n"
     ]
    },
    {
     "name": "stderr",
     "output_type": "stream",
     "text": [
      "100%|██████████| 1000/1000 [00:11<00:00, 90.60it/s]\n"
     ]
    },
    {
     "name": "stdout",
     "output_type": "stream",
     "text": [
      "Error (Train):  0.09063190850693487 COD (Train):  -0.8711841214416869\n",
      "Error (Test):  0.09353521048995424 COD (Test):  -7.403703758995668\n",
      "\n",
      "Generation:  164\n"
     ]
    },
    {
     "name": "stderr",
     "output_type": "stream",
     "text": [
      "100%|██████████| 1000/1000 [00:11<00:00, 90.67it/s]\n"
     ]
    },
    {
     "name": "stdout",
     "output_type": "stream",
     "text": [
      "Error (Train):  0.09063190850693487 COD (Train):  -0.8711841214416869\n",
      "Error (Test):  0.09353521048995424 COD (Test):  -7.403703758995668\n",
      "\n",
      "Generation:  165\n"
     ]
    },
    {
     "name": "stderr",
     "output_type": "stream",
     "text": [
      "100%|██████████| 1000/1000 [00:11<00:00, 90.62it/s]\n"
     ]
    },
    {
     "name": "stdout",
     "output_type": "stream",
     "text": [
      "Error (Train):  0.09063190850693487 COD (Train):  -0.8711841214416869\n",
      "Error (Test):  0.09353521048995424 COD (Test):  -7.403703758995668\n",
      "\n",
      "Generation:  166\n"
     ]
    },
    {
     "name": "stderr",
     "output_type": "stream",
     "text": [
      "100%|██████████| 1000/1000 [00:11<00:00, 90.43it/s]\n"
     ]
    },
    {
     "name": "stdout",
     "output_type": "stream",
     "text": [
      "Error (Train):  0.09063190850693487 COD (Train):  -0.8711841214416869\n",
      "Error (Test):  0.09353521048995424 COD (Test):  -7.403703758995668\n",
      "\n",
      "Generation:  167\n"
     ]
    },
    {
     "name": "stderr",
     "output_type": "stream",
     "text": [
      "100%|██████████| 1000/1000 [00:10<00:00, 90.92it/s]\n"
     ]
    },
    {
     "name": "stdout",
     "output_type": "stream",
     "text": [
      "Error (Train):  0.09063190850693487 COD (Train):  -0.8711841214416869\n",
      "Error (Test):  0.09353521048995424 COD (Test):  -7.403703758995668\n",
      "\n",
      "Generation:  168\n"
     ]
    },
    {
     "name": "stderr",
     "output_type": "stream",
     "text": [
      "100%|██████████| 1000/1000 [00:10<00:00, 91.00it/s]\n"
     ]
    },
    {
     "name": "stdout",
     "output_type": "stream",
     "text": [
      "Error (Train):  0.09063190850693487 COD (Train):  -0.8711841214416869\n",
      "Error (Test):  0.09353521048995424 COD (Test):  -7.403703758995668\n",
      "\n",
      "Generation:  169\n"
     ]
    },
    {
     "name": "stderr",
     "output_type": "stream",
     "text": [
      "100%|██████████| 1000/1000 [00:11<00:00, 90.71it/s]\n"
     ]
    },
    {
     "name": "stdout",
     "output_type": "stream",
     "text": [
      "Error (Train):  0.09063190850693487 COD (Train):  -0.8711841214416869\n",
      "Error (Test):  0.09353521048995424 COD (Test):  -7.403703758995668\n",
      "\n",
      "Generation:  170\n"
     ]
    },
    {
     "name": "stderr",
     "output_type": "stream",
     "text": [
      "100%|██████████| 1000/1000 [00:11<00:00, 90.20it/s]\n"
     ]
    },
    {
     "name": "stdout",
     "output_type": "stream",
     "text": [
      "Error (Train):  0.09063190850693487 COD (Train):  -0.8711841214416869\n",
      "Error (Test):  0.09353521048995424 COD (Test):  -7.403703758995668\n",
      "\n",
      "Generation:  171\n"
     ]
    },
    {
     "name": "stderr",
     "output_type": "stream",
     "text": [
      "100%|██████████| 1000/1000 [00:10<00:00, 93.19it/s]\n"
     ]
    },
    {
     "name": "stdout",
     "output_type": "stream",
     "text": [
      "Error (Train):  0.09063190850693487 COD (Train):  -0.8711841214416869\n",
      "Error (Test):  0.09353521048995424 COD (Test):  -7.403703758995668\n",
      "\n",
      "Generation:  172\n"
     ]
    },
    {
     "name": "stderr",
     "output_type": "stream",
     "text": [
      "100%|██████████| 1000/1000 [00:10<00:00, 89.77it/s]\n"
     ]
    },
    {
     "name": "stdout",
     "output_type": "stream",
     "text": [
      "Error (Train):  0.09063190850693487 COD (Train):  -0.8711841214416869\n",
      "Error (Test):  0.09353521048995424 COD (Test):  -7.403703758995668\n",
      "\n",
      "Generation:  173\n"
     ]
    },
    {
     "name": "stderr",
     "output_type": "stream",
     "text": [
      "100%|██████████| 1000/1000 [00:11<00:00, 90.06it/s]\n"
     ]
    },
    {
     "name": "stdout",
     "output_type": "stream",
     "text": [
      "Error (Train):  0.09063190850693487 COD (Train):  -0.8711841214416869\n",
      "Error (Test):  0.09353521048995424 COD (Test):  -7.403703758995668\n",
      "\n",
      "Generation:  174\n"
     ]
    },
    {
     "name": "stderr",
     "output_type": "stream",
     "text": [
      "100%|██████████| 1000/1000 [00:10<00:00, 93.18it/s]\n"
     ]
    },
    {
     "name": "stdout",
     "output_type": "stream",
     "text": [
      "Error (Train):  0.09063190850693487 COD (Train):  -0.8711841214416869\n",
      "Error (Test):  0.09353521048995424 COD (Test):  -7.403703758995668\n",
      "\n",
      "Generation:  175\n"
     ]
    },
    {
     "name": "stderr",
     "output_type": "stream",
     "text": [
      "100%|██████████| 1000/1000 [00:10<00:00, 91.86it/s]\n"
     ]
    },
    {
     "name": "stdout",
     "output_type": "stream",
     "text": [
      "Error (Train):  0.09063190850693487 COD (Train):  -0.8711841214416869\n",
      "Error (Test):  0.09353521048995424 COD (Test):  -7.403703758995668\n",
      "\n",
      "Generation:  176\n"
     ]
    },
    {
     "name": "stderr",
     "output_type": "stream",
     "text": [
      "100%|██████████| 1000/1000 [00:10<00:00, 91.21it/s]\n"
     ]
    },
    {
     "name": "stdout",
     "output_type": "stream",
     "text": [
      "Error (Train):  0.09063190850693487 COD (Train):  -0.8711841214416869\n",
      "Error (Test):  0.09353521048995424 COD (Test):  -7.403703758995668\n",
      "\n",
      "Generation:  177\n"
     ]
    },
    {
     "name": "stderr",
     "output_type": "stream",
     "text": [
      "100%|██████████| 1000/1000 [00:11<00:00, 89.98it/s]\n"
     ]
    },
    {
     "name": "stdout",
     "output_type": "stream",
     "text": [
      "Error (Train):  0.09063190850693487 COD (Train):  -0.8711841214416869\n",
      "Error (Test):  0.09353521048995424 COD (Test):  -7.403703758995668\n",
      "\n",
      "Generation:  178\n"
     ]
    },
    {
     "name": "stderr",
     "output_type": "stream",
     "text": [
      "100%|██████████| 1000/1000 [00:10<00:00, 91.40it/s]\n"
     ]
    },
    {
     "name": "stdout",
     "output_type": "stream",
     "text": [
      "Error (Train):  0.09063190850693487 COD (Train):  -0.8711841214416869\n",
      "Error (Test):  0.09353521048995424 COD (Test):  -7.403703758995668\n",
      "\n",
      "Generation:  179\n"
     ]
    },
    {
     "name": "stderr",
     "output_type": "stream",
     "text": [
      "100%|██████████| 1000/1000 [00:10<00:00, 91.79it/s]\n"
     ]
    },
    {
     "name": "stdout",
     "output_type": "stream",
     "text": [
      "Error (Train):  0.09063190850693487 COD (Train):  -0.8711841214416869\n",
      "Error (Test):  0.09353521048995424 COD (Test):  -7.403703758995668\n",
      "\n",
      "Generation:  180\n"
     ]
    },
    {
     "name": "stderr",
     "output_type": "stream",
     "text": [
      "100%|██████████| 1000/1000 [00:10<00:00, 92.78it/s]\n"
     ]
    },
    {
     "name": "stdout",
     "output_type": "stream",
     "text": [
      "Error (Train):  0.09063190850693487 COD (Train):  -0.8711841214416869\n",
      "Error (Test):  0.09353521048995424 COD (Test):  -7.403703758995668\n",
      "\n",
      "Generation:  181\n"
     ]
    },
    {
     "name": "stderr",
     "output_type": "stream",
     "text": [
      "100%|██████████| 1000/1000 [00:10<00:00, 93.46it/s]\n"
     ]
    },
    {
     "name": "stdout",
     "output_type": "stream",
     "text": [
      "Error (Train):  0.09063190850693487 COD (Train):  -0.8711841214416869\n",
      "Error (Test):  0.09353521048995424 COD (Test):  -7.403703758995668\n",
      "\n",
      "Generation:  182\n"
     ]
    },
    {
     "name": "stderr",
     "output_type": "stream",
     "text": [
      "100%|██████████| 1000/1000 [00:10<00:00, 92.67it/s]\n"
     ]
    },
    {
     "name": "stdout",
     "output_type": "stream",
     "text": [
      "Error (Train):  0.09063190850693487 COD (Train):  -0.8711841214416869\n",
      "Error (Test):  0.09353521048995424 COD (Test):  -7.403703758995668\n",
      "\n",
      "Generation:  183\n"
     ]
    },
    {
     "name": "stderr",
     "output_type": "stream",
     "text": [
      "100%|██████████| 1000/1000 [00:10<00:00, 92.68it/s]\n"
     ]
    },
    {
     "name": "stdout",
     "output_type": "stream",
     "text": [
      "Error (Train):  0.09063190850693487 COD (Train):  -0.8711841214416869\n",
      "Error (Test):  0.09353521048995424 COD (Test):  -7.403703758995668\n",
      "\n",
      "Generation:  184\n"
     ]
    },
    {
     "name": "stderr",
     "output_type": "stream",
     "text": [
      "100%|██████████| 1000/1000 [00:10<00:00, 92.04it/s]\n"
     ]
    },
    {
     "name": "stdout",
     "output_type": "stream",
     "text": [
      "Error (Train):  0.09063190850693487 COD (Train):  -0.8711841214416869\n",
      "Error (Test):  0.09353521048995424 COD (Test):  -7.403703758995668\n",
      "\n",
      "Generation:  185\n"
     ]
    },
    {
     "name": "stderr",
     "output_type": "stream",
     "text": [
      "100%|██████████| 1000/1000 [00:10<00:00, 92.75it/s]\n"
     ]
    },
    {
     "name": "stdout",
     "output_type": "stream",
     "text": [
      "Error (Train):  0.09063190850693487 COD (Train):  -0.8711841214416869\n",
      "Error (Test):  0.09353521048995424 COD (Test):  -7.403703758995668\n",
      "\n",
      "Generation:  186\n"
     ]
    },
    {
     "name": "stderr",
     "output_type": "stream",
     "text": [
      "100%|██████████| 1000/1000 [00:10<00:00, 90.99it/s]\n"
     ]
    },
    {
     "name": "stdout",
     "output_type": "stream",
     "text": [
      "Error (Train):  0.09058812258587277 COD (Train):  -0.8702801184080551\n",
      "Error (Test):  0.08204448228726273 COD (Test):  -6.371315257545433\n",
      "\n",
      "Generation:  187\n"
     ]
    },
    {
     "name": "stderr",
     "output_type": "stream",
     "text": [
      "100%|██████████| 1000/1000 [00:11<00:00, 91.53it/s]\n"
     ]
    },
    {
     "name": "stdout",
     "output_type": "stream",
     "text": [
      "Error (Train):  0.0902481231529755 COD (Train):  -0.8632604986006682\n",
      "Error (Test):  0.08357449669397876 COD (Test):  -6.508779937997699\n",
      "\n",
      "Generation:  188\n"
     ]
    },
    {
     "name": "stderr",
     "output_type": "stream",
     "text": [
      "100%|██████████| 1000/1000 [00:10<00:00, 91.26it/s]\n"
     ]
    },
    {
     "name": "stdout",
     "output_type": "stream",
     "text": [
      "Error (Train):  0.0902481231529755 COD (Train):  -0.8632604986006682\n",
      "Error (Test):  0.08357449669397876 COD (Test):  -6.508779937997699\n",
      "\n",
      "Generation:  189\n"
     ]
    },
    {
     "name": "stderr",
     "output_type": "stream",
     "text": [
      "100%|██████████| 1000/1000 [00:10<00:00, 91.45it/s]\n"
     ]
    },
    {
     "name": "stdout",
     "output_type": "stream",
     "text": [
      "Error (Train):  0.0902481231529755 COD (Train):  -0.8632604986006682\n",
      "Error (Test):  0.08357449669397876 COD (Test):  -6.508779937997699\n",
      "\n",
      "Generation:  190\n"
     ]
    },
    {
     "name": "stderr",
     "output_type": "stream",
     "text": [
      "100%|██████████| 1000/1000 [00:10<00:00, 90.83it/s]\n"
     ]
    },
    {
     "name": "stdout",
     "output_type": "stream",
     "text": [
      "Error (Train):  0.0902481231529755 COD (Train):  -0.8632604986006682\n",
      "Error (Test):  0.08357449669397876 COD (Test):  -6.508779937997699\n",
      "\n",
      "Generation:  191\n"
     ]
    },
    {
     "name": "stderr",
     "output_type": "stream",
     "text": [
      "100%|██████████| 1000/1000 [00:10<00:00, 91.83it/s]\n"
     ]
    },
    {
     "name": "stdout",
     "output_type": "stream",
     "text": [
      "Error (Train):  0.0902481231529755 COD (Train):  -0.8632604986006682\n",
      "Error (Test):  0.08357449669397876 COD (Test):  -6.508779937997699\n",
      "\n",
      "Generation:  192\n"
     ]
    },
    {
     "name": "stderr",
     "output_type": "stream",
     "text": [
      "100%|██████████| 1000/1000 [00:10<00:00, 92.32it/s]\n"
     ]
    },
    {
     "name": "stdout",
     "output_type": "stream",
     "text": [
      "Error (Train):  0.0902481231529755 COD (Train):  -0.8632604986006682\n",
      "Error (Test):  0.08357449669397876 COD (Test):  -6.508779937997699\n",
      "\n",
      "Generation:  193\n"
     ]
    },
    {
     "name": "stderr",
     "output_type": "stream",
     "text": [
      "100%|██████████| 1000/1000 [00:10<00:00, 91.03it/s]\n"
     ]
    },
    {
     "name": "stdout",
     "output_type": "stream",
     "text": [
      "Error (Train):  0.0902481231529755 COD (Train):  -0.8632604986006682\n",
      "Error (Test):  0.08357449669397876 COD (Test):  -6.508779937997699\n",
      "\n",
      "Generation:  194\n"
     ]
    },
    {
     "name": "stderr",
     "output_type": "stream",
     "text": [
      "100%|██████████| 1000/1000 [00:11<00:00, 89.31it/s]\n"
     ]
    },
    {
     "name": "stdout",
     "output_type": "stream",
     "text": [
      "Error (Train):  0.0902481231529755 COD (Train):  -0.8632604986006682\n",
      "Error (Test):  0.08357449669397876 COD (Test):  -6.508779937997699\n",
      "\n",
      "Generation:  195\n"
     ]
    },
    {
     "name": "stderr",
     "output_type": "stream",
     "text": [
      "100%|██████████| 1000/1000 [00:10<00:00, 92.13it/s]\n"
     ]
    },
    {
     "name": "stdout",
     "output_type": "stream",
     "text": [
      "Error (Train):  0.0902481231529755 COD (Train):  -0.8632604986006682\n",
      "Error (Test):  0.08357449669397876 COD (Test):  -6.508779937997699\n",
      "\n",
      "Generation:  196\n"
     ]
    },
    {
     "name": "stderr",
     "output_type": "stream",
     "text": [
      "100%|██████████| 1000/1000 [00:10<00:00, 92.13it/s]\n"
     ]
    },
    {
     "name": "stdout",
     "output_type": "stream",
     "text": [
      "Error (Train):  0.0902481231529755 COD (Train):  -0.8632604986006682\n",
      "Error (Test):  0.08357449669397876 COD (Test):  -6.508779937997699\n",
      "\n",
      "Generation:  197\n"
     ]
    },
    {
     "name": "stderr",
     "output_type": "stream",
     "text": [
      "100%|██████████| 1000/1000 [00:10<00:00, 90.99it/s]\n"
     ]
    },
    {
     "name": "stdout",
     "output_type": "stream",
     "text": [
      "Error (Train):  0.0902481231529755 COD (Train):  -0.8632604986006682\n",
      "Error (Test):  0.08357449669397876 COD (Test):  -6.508779937997699\n",
      "\n",
      "Generation:  198\n"
     ]
    },
    {
     "name": "stderr",
     "output_type": "stream",
     "text": [
      "100%|██████████| 1000/1000 [00:10<00:00, 86.87it/s]\n"
     ]
    },
    {
     "name": "stdout",
     "output_type": "stream",
     "text": [
      "Error (Train):  0.0902481231529755 COD (Train):  -0.8632604986006682\n",
      "Error (Test):  0.08357449669397876 COD (Test):  -6.508779937997699\n",
      "\n",
      "Generation:  199\n"
     ]
    },
    {
     "name": "stderr",
     "output_type": "stream",
     "text": [
      "100%|██████████| 1000/1000 [00:10<00:00, 91.52it/s]\n"
     ]
    },
    {
     "name": "stdout",
     "output_type": "stream",
     "text": [
      "Error (Train):  0.0902481231529755 COD (Train):  -0.8632604986006682\n",
      "Error (Test):  0.08357449669397876 COD (Test):  -6.508779937997699\n",
      "\n",
      "Generation:  200\n"
     ]
    },
    {
     "name": "stderr",
     "output_type": "stream",
     "text": [
      "100%|██████████| 1000/1000 [00:10<00:00, 92.73it/s]\n"
     ]
    },
    {
     "name": "stdout",
     "output_type": "stream",
     "text": [
      "Error (Train):  0.0902481231529755 COD (Train):  -0.8632604986006682\n",
      "Error (Test):  0.08357449669397876 COD (Test):  -6.508779937997699\n",
      "\n",
      "Generation:  201\n"
     ]
    },
    {
     "name": "stderr",
     "output_type": "stream",
     "text": [
      "100%|██████████| 1000/1000 [00:11<00:00, 90.37it/s]\n"
     ]
    },
    {
     "name": "stdout",
     "output_type": "stream",
     "text": [
      "Error (Train):  0.0902481231529755 COD (Train):  -0.8632604986006682\n",
      "Error (Test):  0.08357449669397876 COD (Test):  -6.508779937997699\n",
      "\n",
      "Generation:  202\n"
     ]
    },
    {
     "name": "stderr",
     "output_type": "stream",
     "text": [
      "100%|██████████| 1000/1000 [00:11<00:00, 89.35it/s]\n"
     ]
    },
    {
     "name": "stdout",
     "output_type": "stream",
     "text": [
      "Error (Train):  0.0902481231529755 COD (Train):  -0.8632604986006682\n",
      "Error (Test):  0.08357449669397876 COD (Test):  -6.508779937997699\n",
      "\n",
      "Generation:  203\n"
     ]
    },
    {
     "name": "stderr",
     "output_type": "stream",
     "text": [
      "100%|██████████| 1000/1000 [00:11<00:00, 90.49it/s]\n"
     ]
    },
    {
     "name": "stdout",
     "output_type": "stream",
     "text": [
      "Error (Train):  0.0902481231529755 COD (Train):  -0.8632604986006682\n",
      "Error (Test):  0.08357449669397876 COD (Test):  -6.508779937997699\n",
      "\n",
      "Generation:  204\n"
     ]
    },
    {
     "name": "stderr",
     "output_type": "stream",
     "text": [
      "100%|██████████| 1000/1000 [00:11<00:00, 89.40it/s]\n"
     ]
    },
    {
     "name": "stdout",
     "output_type": "stream",
     "text": [
      "Error (Train):  0.0902481231529755 COD (Train):  -0.8632604986006682\n",
      "Error (Test):  0.08357449669397876 COD (Test):  -6.508779937997699\n",
      "\n",
      "Generation:  205\n"
     ]
    },
    {
     "name": "stderr",
     "output_type": "stream",
     "text": [
      "100%|██████████| 1000/1000 [00:10<00:00, 91.52it/s]\n"
     ]
    },
    {
     "name": "stdout",
     "output_type": "stream",
     "text": [
      "Error (Train):  0.0902481231529755 COD (Train):  -0.8632604986006682\n",
      "Error (Test):  0.08357449669397876 COD (Test):  -6.508779937997699\n",
      "\n",
      "Generation:  206\n"
     ]
    },
    {
     "name": "stderr",
     "output_type": "stream",
     "text": [
      "100%|██████████| 1000/1000 [00:11<00:00, 90.07it/s]\n"
     ]
    },
    {
     "name": "stdout",
     "output_type": "stream",
     "text": [
      "Error (Train):  0.0902481231529755 COD (Train):  -0.8632604986006682\n",
      "Error (Test):  0.08357449669397876 COD (Test):  -6.508779937997699\n",
      "\n",
      "Generation:  207\n"
     ]
    },
    {
     "name": "stderr",
     "output_type": "stream",
     "text": [
      "100%|██████████| 1000/1000 [00:11<00:00, 89.85it/s]\n"
     ]
    },
    {
     "name": "stdout",
     "output_type": "stream",
     "text": [
      "Error (Train):  0.0902481231529755 COD (Train):  -0.8632604986006682\n",
      "Error (Test):  0.08357449669397876 COD (Test):  -6.508779937997699\n",
      "\n",
      "Generation:  208\n"
     ]
    },
    {
     "name": "stderr",
     "output_type": "stream",
     "text": [
      "100%|██████████| 1000/1000 [00:11<00:00, 90.81it/s]\n"
     ]
    },
    {
     "name": "stdout",
     "output_type": "stream",
     "text": [
      "Error (Train):  0.0902481231529755 COD (Train):  -0.8632604986006682\n",
      "Error (Test):  0.08357449669397876 COD (Test):  -6.508779937997699\n",
      "\n",
      "Generation:  209\n"
     ]
    },
    {
     "name": "stderr",
     "output_type": "stream",
     "text": [
      "100%|██████████| 1000/1000 [00:11<00:00, 90.75it/s]\n"
     ]
    },
    {
     "name": "stdout",
     "output_type": "stream",
     "text": [
      "Error (Train):  0.0902481231529755 COD (Train):  -0.8632604986006682\n",
      "Error (Test):  0.08357449669397876 COD (Test):  -6.508779937997699\n",
      "\n",
      "Generation:  210\n"
     ]
    },
    {
     "name": "stderr",
     "output_type": "stream",
     "text": [
      "100%|██████████| 1000/1000 [00:11<00:00, 90.38it/s]\n"
     ]
    },
    {
     "name": "stdout",
     "output_type": "stream",
     "text": [
      "Error (Train):  0.0902481231529755 COD (Train):  -0.8632604986006682\n",
      "Error (Test):  0.08357449669397876 COD (Test):  -6.508779937997699\n",
      "\n",
      "Generation:  211\n"
     ]
    },
    {
     "name": "stderr",
     "output_type": "stream",
     "text": [
      "100%|██████████| 1000/1000 [00:10<00:00, 91.23it/s]\n"
     ]
    },
    {
     "name": "stdout",
     "output_type": "stream",
     "text": [
      "Error (Train):  0.0902481231529755 COD (Train):  -0.8632604986006682\n",
      "Error (Test):  0.08357449669397876 COD (Test):  -6.508779937997699\n",
      "\n",
      "Generation:  212\n"
     ]
    },
    {
     "name": "stderr",
     "output_type": "stream",
     "text": [
      "100%|██████████| 1000/1000 [00:10<00:00, 92.09it/s]\n"
     ]
    },
    {
     "name": "stdout",
     "output_type": "stream",
     "text": [
      "Error (Train):  0.0902481231529755 COD (Train):  -0.8632604986006682\n",
      "Error (Test):  0.08357449669397876 COD (Test):  -6.508779937997699\n",
      "\n",
      "Generation:  213\n"
     ]
    },
    {
     "name": "stderr",
     "output_type": "stream",
     "text": [
      "100%|██████████| 1000/1000 [00:10<00:00, 91.63it/s]\n"
     ]
    },
    {
     "name": "stdout",
     "output_type": "stream",
     "text": [
      "Error (Train):  0.0902481231529755 COD (Train):  -0.8632604986006682\n",
      "Error (Test):  0.08357449669397876 COD (Test):  -6.508779937997699\n",
      "\n",
      "Generation:  214\n"
     ]
    },
    {
     "name": "stderr",
     "output_type": "stream",
     "text": [
      "100%|██████████| 1000/1000 [00:10<00:00, 93.29it/s]\n"
     ]
    },
    {
     "name": "stdout",
     "output_type": "stream",
     "text": [
      "Error (Train):  0.0902481231529755 COD (Train):  -0.8632604986006682\n",
      "Error (Test):  0.08357449669397876 COD (Test):  -6.508779937997699\n",
      "\n",
      "Generation:  215\n"
     ]
    },
    {
     "name": "stderr",
     "output_type": "stream",
     "text": [
      "100%|██████████| 1000/1000 [00:10<00:00, 89.62it/s]\n"
     ]
    },
    {
     "name": "stdout",
     "output_type": "stream",
     "text": [
      "Error (Train):  0.0902481231529755 COD (Train):  -0.8632604986006682\n",
      "Error (Test):  0.08357449669397876 COD (Test):  -6.508779937997699\n",
      "\n",
      "Generation:  216\n"
     ]
    },
    {
     "name": "stderr",
     "output_type": "stream",
     "text": [
      "100%|██████████| 1000/1000 [00:11<00:00, 89.48it/s]\n"
     ]
    },
    {
     "name": "stdout",
     "output_type": "stream",
     "text": [
      "Error (Train):  0.0902481231529755 COD (Train):  -0.8632604986006682\n",
      "Error (Test):  0.08357449669397876 COD (Test):  -6.508779937997699\n",
      "\n",
      "Generation:  217\n"
     ]
    },
    {
     "name": "stderr",
     "output_type": "stream",
     "text": [
      "100%|██████████| 1000/1000 [00:10<00:00, 91.32it/s]\n"
     ]
    },
    {
     "name": "stdout",
     "output_type": "stream",
     "text": [
      "Error (Train):  0.0902481231529755 COD (Train):  -0.8632604986006682\n",
      "Error (Test):  0.08357449669397876 COD (Test):  -6.508779937997699\n",
      "\n",
      "Generation:  218\n"
     ]
    },
    {
     "name": "stderr",
     "output_type": "stream",
     "text": [
      "100%|██████████| 1000/1000 [00:10<00:00, 91.76it/s]\n"
     ]
    },
    {
     "name": "stdout",
     "output_type": "stream",
     "text": [
      "Error (Train):  0.0902481231529755 COD (Train):  -0.8632604986006682\n",
      "Error (Test):  0.08357449669397876 COD (Test):  -6.508779937997699\n",
      "\n",
      "Generation:  219\n"
     ]
    },
    {
     "name": "stderr",
     "output_type": "stream",
     "text": [
      "100%|██████████| 1000/1000 [00:10<00:00, 91.34it/s]\n"
     ]
    },
    {
     "name": "stdout",
     "output_type": "stream",
     "text": [
      "Error (Train):  0.0902481231529755 COD (Train):  -0.8632604986006682\n",
      "Error (Test):  0.08357449669397876 COD (Test):  -6.508779937997699\n",
      "\n",
      "Generation:  220\n"
     ]
    },
    {
     "name": "stderr",
     "output_type": "stream",
     "text": [
      "100%|██████████| 1000/1000 [00:10<00:00, 91.67it/s]\n"
     ]
    },
    {
     "name": "stdout",
     "output_type": "stream",
     "text": [
      "Error (Train):  0.0902481231529755 COD (Train):  -0.8632604986006682\n",
      "Error (Test):  0.08357449669397876 COD (Test):  -6.508779937997699\n",
      "\n",
      "Generation:  221\n"
     ]
    },
    {
     "name": "stderr",
     "output_type": "stream",
     "text": [
      "100%|██████████| 1000/1000 [00:10<00:00, 91.59it/s]\n"
     ]
    },
    {
     "name": "stdout",
     "output_type": "stream",
     "text": [
      "Error (Train):  0.0902481231529755 COD (Train):  -0.8632604986006682\n",
      "Error (Test):  0.08357449669397876 COD (Test):  -6.508779937997699\n",
      "\n",
      "Generation:  222\n"
     ]
    },
    {
     "name": "stderr",
     "output_type": "stream",
     "text": [
      "100%|██████████| 1000/1000 [00:10<00:00, 91.44it/s]\n"
     ]
    },
    {
     "name": "stdout",
     "output_type": "stream",
     "text": [
      "Error (Train):  0.0902481231529755 COD (Train):  -0.8632604986006682\n",
      "Error (Test):  0.08357449669397876 COD (Test):  -6.508779937997699\n",
      "\n",
      "Generation:  223\n"
     ]
    },
    {
     "name": "stderr",
     "output_type": "stream",
     "text": [
      "100%|██████████| 1000/1000 [00:11<00:00, 90.10it/s]\n"
     ]
    },
    {
     "name": "stdout",
     "output_type": "stream",
     "text": [
      "Error (Train):  0.0902481231529755 COD (Train):  -0.8632604986006682\n",
      "Error (Test):  0.08357449669397876 COD (Test):  -6.508779937997699\n",
      "\n",
      "Generation:  224\n"
     ]
    },
    {
     "name": "stderr",
     "output_type": "stream",
     "text": [
      "100%|██████████| 1000/1000 [00:10<00:00, 92.10it/s]\n"
     ]
    },
    {
     "name": "stdout",
     "output_type": "stream",
     "text": [
      "Error (Train):  0.0902481231529755 COD (Train):  -0.8632604986006682\n",
      "Error (Test):  0.08357449669397876 COD (Test):  -6.508779937997699\n",
      "\n",
      "Generation:  225\n"
     ]
    },
    {
     "name": "stderr",
     "output_type": "stream",
     "text": [
      "100%|██████████| 1000/1000 [00:10<00:00, 92.76it/s]\n"
     ]
    },
    {
     "name": "stdout",
     "output_type": "stream",
     "text": [
      "Error (Train):  0.0902481231529755 COD (Train):  -0.8632604986006682\n",
      "Error (Test):  0.08357449669397876 COD (Test):  -6.508779937997699\n",
      "\n",
      "Generation:  226\n"
     ]
    },
    {
     "name": "stderr",
     "output_type": "stream",
     "text": [
      "100%|██████████| 1000/1000 [00:10<00:00, 91.03it/s]\n"
     ]
    },
    {
     "name": "stdout",
     "output_type": "stream",
     "text": [
      "Error (Train):  0.0902481231529755 COD (Train):  -0.8632604986006682\n",
      "Error (Test):  0.08357449669397876 COD (Test):  -6.508779937997699\n",
      "\n",
      "Generation:  227\n"
     ]
    },
    {
     "name": "stderr",
     "output_type": "stream",
     "text": [
      "100%|██████████| 1000/1000 [00:10<00:00, 91.77it/s]\n"
     ]
    },
    {
     "name": "stdout",
     "output_type": "stream",
     "text": [
      "Error (Train):  0.0902481231529755 COD (Train):  -0.8632604986006682\n",
      "Error (Test):  0.08357449669397876 COD (Test):  -6.508779937997699\n",
      "\n",
      "Generation:  228\n"
     ]
    },
    {
     "name": "stderr",
     "output_type": "stream",
     "text": [
      "100%|██████████| 1000/1000 [00:10<00:00, 92.74it/s]\n"
     ]
    },
    {
     "name": "stdout",
     "output_type": "stream",
     "text": [
      "Error (Train):  0.0902481231529755 COD (Train):  -0.8632604986006682\n",
      "Error (Test):  0.08357449669397876 COD (Test):  -6.508779937997699\n",
      "\n",
      "Generation:  229\n"
     ]
    },
    {
     "name": "stderr",
     "output_type": "stream",
     "text": [
      "100%|██████████| 1000/1000 [00:10<00:00, 92.49it/s]\n"
     ]
    },
    {
     "name": "stdout",
     "output_type": "stream",
     "text": [
      "Error (Train):  0.0902481231529755 COD (Train):  -0.8632604986006682\n",
      "Error (Test):  0.08357449669397876 COD (Test):  -6.508779937997699\n",
      "\n",
      "Generation:  230\n"
     ]
    },
    {
     "name": "stderr",
     "output_type": "stream",
     "text": [
      "100%|██████████| 1000/1000 [00:10<00:00, 92.39it/s]\n"
     ]
    },
    {
     "name": "stdout",
     "output_type": "stream",
     "text": [
      "Error (Train):  0.0902481231529755 COD (Train):  -0.8632604986006682\n",
      "Error (Test):  0.08357449669397876 COD (Test):  -6.508779937997699\n",
      "\n",
      "Generation:  231\n"
     ]
    },
    {
     "name": "stderr",
     "output_type": "stream",
     "text": [
      "100%|██████████| 1000/1000 [00:10<00:00, 91.98it/s]\n"
     ]
    },
    {
     "name": "stdout",
     "output_type": "stream",
     "text": [
      "Error (Train):  0.0902481231529755 COD (Train):  -0.8632604986006682\n",
      "Error (Test):  0.08357449669397876 COD (Test):  -6.508779937997699\n",
      "\n",
      "Generation:  232\n"
     ]
    },
    {
     "name": "stderr",
     "output_type": "stream",
     "text": [
      "100%|██████████| 1000/1000 [00:10<00:00, 91.36it/s]\n"
     ]
    },
    {
     "name": "stdout",
     "output_type": "stream",
     "text": [
      "Error (Train):  0.0902481231529755 COD (Train):  -0.8632604986006682\n",
      "Error (Test):  0.08357449669397876 COD (Test):  -6.508779937997699\n",
      "\n",
      "Generation:  233\n"
     ]
    },
    {
     "name": "stderr",
     "output_type": "stream",
     "text": [
      "100%|██████████| 1000/1000 [00:10<00:00, 91.06it/s]\n"
     ]
    },
    {
     "name": "stdout",
     "output_type": "stream",
     "text": [
      "Error (Train):  0.0902481231529755 COD (Train):  -0.8632604986006682\n",
      "Error (Test):  0.08357449669397876 COD (Test):  -6.508779937997699\n",
      "\n",
      "Generation:  234\n"
     ]
    },
    {
     "name": "stderr",
     "output_type": "stream",
     "text": [
      "100%|██████████| 1000/1000 [00:10<00:00, 91.03it/s]\n"
     ]
    },
    {
     "name": "stdout",
     "output_type": "stream",
     "text": [
      "Error (Train):  0.0902481231529755 COD (Train):  -0.8632604986006682\n",
      "Error (Test):  0.08357449669397876 COD (Test):  -6.508779937997699\n",
      "\n",
      "Generation:  235\n"
     ]
    },
    {
     "name": "stderr",
     "output_type": "stream",
     "text": [
      "100%|██████████| 1000/1000 [00:10<00:00, 92.05it/s]\n"
     ]
    },
    {
     "name": "stdout",
     "output_type": "stream",
     "text": [
      "Error (Train):  0.0902481231529755 COD (Train):  -0.8632604986006682\n",
      "Error (Test):  0.08357449669397876 COD (Test):  -6.508779937997699\n",
      "\n",
      "Generation:  236\n"
     ]
    },
    {
     "name": "stderr",
     "output_type": "stream",
     "text": [
      "100%|██████████| 1000/1000 [00:10<00:00, 92.35it/s]\n"
     ]
    },
    {
     "name": "stdout",
     "output_type": "stream",
     "text": [
      "Error (Train):  0.0902481231529755 COD (Train):  -0.8632604986006682\n",
      "Error (Test):  0.08357449669397876 COD (Test):  -6.508779937997699\n",
      "\n",
      "Generation:  237\n"
     ]
    },
    {
     "name": "stderr",
     "output_type": "stream",
     "text": [
      "100%|██████████| 1000/1000 [00:10<00:00, 91.89it/s]\n"
     ]
    },
    {
     "name": "stdout",
     "output_type": "stream",
     "text": [
      "Error (Train):  0.0902481231529755 COD (Train):  -0.8632604986006682\n",
      "Error (Test):  0.08357449669397876 COD (Test):  -6.508779937997699\n",
      "\n",
      "Generation:  238\n"
     ]
    },
    {
     "name": "stderr",
     "output_type": "stream",
     "text": [
      "100%|██████████| 1000/1000 [00:11<00:00, 90.14it/s]\n"
     ]
    },
    {
     "name": "stdout",
     "output_type": "stream",
     "text": [
      "Error (Train):  0.0902481231529755 COD (Train):  -0.8632604986006682\n",
      "Error (Test):  0.08357449669397876 COD (Test):  -6.508779937997699\n",
      "\n",
      "Generation:  239\n"
     ]
    },
    {
     "name": "stderr",
     "output_type": "stream",
     "text": [
      "100%|██████████| 1000/1000 [00:10<00:00, 91.81it/s]\n"
     ]
    },
    {
     "name": "stdout",
     "output_type": "stream",
     "text": [
      "Error (Train):  0.0902481231529755 COD (Train):  -0.8632604986006682\n",
      "Error (Test):  0.08357449669397876 COD (Test):  -6.508779937997699\n",
      "\n",
      "Generation:  240\n"
     ]
    },
    {
     "name": "stderr",
     "output_type": "stream",
     "text": [
      "100%|██████████| 1000/1000 [00:10<00:00, 91.78it/s]\n"
     ]
    },
    {
     "name": "stdout",
     "output_type": "stream",
     "text": [
      "Error (Train):  0.0902481231529755 COD (Train):  -0.8632604986006682\n",
      "Error (Test):  0.08357449669397876 COD (Test):  -6.508779937997699\n",
      "\n",
      "Generation:  241\n"
     ]
    },
    {
     "name": "stderr",
     "output_type": "stream",
     "text": [
      "100%|██████████| 1000/1000 [00:10<00:00, 91.78it/s]\n"
     ]
    },
    {
     "name": "stdout",
     "output_type": "stream",
     "text": [
      "Error (Train):  0.0902481231529755 COD (Train):  -0.8632604986006682\n",
      "Error (Test):  0.08357449669397876 COD (Test):  -6.508779937997699\n",
      "\n",
      "Generation:  242\n"
     ]
    },
    {
     "name": "stderr",
     "output_type": "stream",
     "text": [
      "100%|██████████| 1000/1000 [00:10<00:00, 91.92it/s]\n"
     ]
    },
    {
     "name": "stdout",
     "output_type": "stream",
     "text": [
      "Error (Train):  0.0902481231529755 COD (Train):  -0.8632604986006682\n",
      "Error (Test):  0.08357449669397876 COD (Test):  -6.508779937997699\n",
      "\n",
      "Generation:  243\n"
     ]
    },
    {
     "name": "stderr",
     "output_type": "stream",
     "text": [
      "100%|██████████| 1000/1000 [00:11<00:00, 90.75it/s]\n"
     ]
    },
    {
     "name": "stdout",
     "output_type": "stream",
     "text": [
      "Error (Train):  0.0902481231529755 COD (Train):  -0.8632604986006682\n",
      "Error (Test):  0.08357449669397876 COD (Test):  -6.508779937997699\n",
      "\n",
      "Generation:  244\n"
     ]
    },
    {
     "name": "stderr",
     "output_type": "stream",
     "text": [
      "100%|██████████| 1000/1000 [00:11<00:00, 90.31it/s]\n"
     ]
    },
    {
     "name": "stdout",
     "output_type": "stream",
     "text": [
      "Error (Train):  0.0902481231529755 COD (Train):  -0.8632604986006682\n",
      "Error (Test):  0.08357449669397876 COD (Test):  -6.508779937997699\n",
      "\n",
      "Generation:  245\n"
     ]
    },
    {
     "name": "stderr",
     "output_type": "stream",
     "text": [
      "100%|██████████| 1000/1000 [00:10<00:00, 91.90it/s]\n"
     ]
    },
    {
     "name": "stdout",
     "output_type": "stream",
     "text": [
      "Error (Train):  0.0902481231529755 COD (Train):  -0.8632604986006682\n",
      "Error (Test):  0.08357449669397876 COD (Test):  -6.508779937997699\n",
      "\n",
      "Generation:  246\n"
     ]
    },
    {
     "name": "stderr",
     "output_type": "stream",
     "text": [
      "100%|██████████| 1000/1000 [00:11<00:00, 89.90it/s]\n"
     ]
    },
    {
     "name": "stdout",
     "output_type": "stream",
     "text": [
      "Error (Train):  0.0902481231529755 COD (Train):  -0.8632604986006682\n",
      "Error (Test):  0.08357449669397876 COD (Test):  -6.508779937997699\n",
      "\n",
      "Generation:  247\n"
     ]
    },
    {
     "name": "stderr",
     "output_type": "stream",
     "text": [
      "100%|██████████| 1000/1000 [00:10<00:00, 91.51it/s]\n"
     ]
    },
    {
     "name": "stdout",
     "output_type": "stream",
     "text": [
      "Error (Train):  0.0902481231529755 COD (Train):  -0.8632604986006682\n",
      "Error (Test):  0.08357449669397876 COD (Test):  -6.508779937997699\n",
      "\n",
      "Generation:  248\n"
     ]
    },
    {
     "name": "stderr",
     "output_type": "stream",
     "text": [
      "100%|██████████| 1000/1000 [00:11<00:00, 87.10it/s]\n"
     ]
    },
    {
     "name": "stdout",
     "output_type": "stream",
     "text": [
      "Error (Train):  0.0902481231529755 COD (Train):  -0.8632604986006682\n",
      "Error (Test):  0.08357449669397876 COD (Test):  -6.508779937997699\n",
      "\n",
      "Generation:  249\n"
     ]
    },
    {
     "name": "stderr",
     "output_type": "stream",
     "text": [
      "100%|██████████| 1000/1000 [00:11<00:00, 90.62it/s]\n"
     ]
    },
    {
     "name": "stdout",
     "output_type": "stream",
     "text": [
      "Error (Train):  0.0902481231529755 COD (Train):  -0.8632604986006682\n",
      "Error (Test):  0.08357449669397876 COD (Test):  -6.508779937997699\n",
      "\n",
      "Generation:  250\n"
     ]
    },
    {
     "name": "stderr",
     "output_type": "stream",
     "text": [
      "100%|██████████| 1000/1000 [00:11<00:00, 89.06it/s]\n"
     ]
    },
    {
     "name": "stdout",
     "output_type": "stream",
     "text": [
      "Error (Train):  0.0902481231529755 COD (Train):  -0.8632604986006682\n",
      "Error (Test):  0.08357449669397876 COD (Test):  -6.508779937997699\n",
      "{'COD': -0.8632604986006682, 'error': 0.0902481231529755, 'weights': [0.02457144298940639, -0.7707222605952768, 0.0494795387198409, 0.03506916824868178, -0.6460308191866584, 0.043311211942305805, -0.0717295713649051, 0.17595300652890788, 0.02145740514592398, 0.21742514781601163, -0.12606513700808786]}\n"
     ]
    }
   ],
   "source": [
    "from GA_utils import *\n",
    "\n",
    "X_train, Y_train = df.iloc[:-24,:-1].values, df.iloc[:-24,-1].values\n",
    "X_test, Y_test = df.iloc[-24:,:-1].values, df.iloc[-24:,-1].values\n",
    "\n",
    "\n",
    "individual_size = len(X_train[0])\n",
    "population_size = 1000\n",
    "selection_size = floor(0.1*population_size)\n",
    "termination_threshold = 0.99\n",
    "max_generations = 250\n",
    "probability_of_individual_mutating = 0.2\n",
    "probability_of_gene_mutating = 0.3\n",
    "COD_threshold = 0.99\n",
    "\n",
    "best_possible = linear_regression(X_train, Y_train)\n",
    "best_individuals_stash = [create_individual(individual_size)]\n",
    "history = defaultdict(lambda: defaultdict(list))\n",
    "\n",
    "initial_population = create_population(individual_size, 100)\n",
    "current_population = initial_population\n",
    "termination = False\n",
    "generation_count = 0\n",
    "while termination is False:\n",
    "    current_best_individual_train = get_fitness(best_individuals_stash[-1], X_train, Y_train)\n",
    "    \n",
    "    print('\\nGeneration: ', generation_count)\n",
    "    best_individuals, history = evaluate_population(current_population, \n",
    "                                                    X_train, Y_train, \n",
    "                                                    selection_size,\n",
    "                                                    best_individuals_stash,\n",
    "                                                    X_test, Y_test,\n",
    "                                                    history,\n",
    "                                                    generation_count)\n",
    "    \n",
    "    current_population = get_new_generation(best_individuals, \n",
    "                                            population_size,\n",
    "                                            individual_size,\n",
    "                                            probability_of_individual_mutating,\n",
    "                                            probability_of_gene_mutating)\n",
    "    \n",
    "    termination = check_termination_condition(current_best_individual_train,\n",
    "                                              COD_threshold,\n",
    "                                              generation_count == max_generations)\n",
    "    generation_count += 1\n",
    "else:\n",
    "    print(get_fitness(best_individuals_stash[-1], X_train, Y_train))"
   ]
  },
  {
   "cell_type": "markdown",
   "metadata": {},
   "source": [
    "### Визуализация"
   ]
  },
  {
   "cell_type": "markdown",
   "metadata": {},
   "source": [
    "Построим предсказания модели:"
   ]
  },
  {
   "cell_type": "code",
   "execution_count": 22,
   "metadata": {},
   "outputs": [],
   "source": [
    "Y_pred = dot(X_test, best_individuals_stash[-1])*consamtion_range + consumption_mean\n",
    "Y_test_b = Y_test*consamtion_range + consumption_mean"
   ]
  },
  {
   "cell_type": "code",
   "execution_count": 23,
   "metadata": {},
   "outputs": [
    {
     "data": {
      "image/png": "[encoded data removed]",
      "text/plain": [
       "<Figure size 720x720 with 1 Axes>"
      ]
     },
     "metadata": {
      "needs_background": "light"
     },
     "output_type": "display_data"
    }
   ],
   "source": [
    "_plot(X_test[:,3], Y_test_b , Y_pred, title = 'Предсказанное значение потребления')"
   ]
  },
  {
   "cell_type": "markdown",
   "metadata": {},
   "source": [
    "Увы, всё мимо. Возможная причина - недообучение."
   ]
  },
  {
   "cell_type": "markdown",
   "metadata": {},
   "source": [
    "Построим зависимость лосса от эпохи:"
   ]
  },
  {
   "cell_type": "code",
   "execution_count": 24,
   "metadata": {},
   "outputs": [],
   "source": [
    "train_loss = np.array(list(history.values()))[:,0]\n",
    "test_loss = np.array(list(history.values()))[:,1]\n",
    "test_weights = np.array(list(history.values()))[:,2]"
   ]
  },
  {
   "cell_type": "code",
   "execution_count": 26,
   "metadata": {},
   "outputs": [
    {
     "name": "stderr",
     "output_type": "stream",
     "text": [
      "No handles with labels found to put in legend.\n"
     ]
    },
    {
     "data": {
      "image/png": "[encoded data removed]",
      "text/plain": [
       "<Figure size 720x720 with 1 Axes>"
      ]
     },
     "metadata": {
      "needs_background": "light"
     },
     "output_type": "display_data"
    }
   ],
   "source": [
    "_plot_loss(np.arange(0,251), train_loss, title = 'Значение функции ошибки S от итерации обучения')"
   ]
  },
  {
   "cell_type": "code",
   "execution_count": 33,
   "metadata": {},
   "outputs": [
    {
     "name": "stderr",
     "output_type": "stream",
     "text": [
      "No handles with labels found to put in legend.\n"
     ]
    },
    {
     "data": {
      "image/png": "[encoded data removed]",
      "text/plain": [
       "<Figure size 720x720 with 1 Axes>"
      ]
     },
     "metadata": {
      "needs_background": "light"
     },
     "output_type": "display_data"
    }
   ],
   "source": [
    "_plot_loss(np.arange(0,248), train_loss[3:], title = 'Значение функции ошибки S от итерации обучения (ближе)')"
   ]
  },
  {
   "cell_type": "code",
   "execution_count": 28,
   "metadata": {},
   "outputs": [
    {
     "name": "stderr",
     "output_type": "stream",
     "text": [
      "No handles with labels found to put in legend.\n"
     ]
    },
    {
     "data": {
      "image/png": "[encoded data removed]",
      "text/plain": [
       "<Figure size 720x720 with 1 Axes>"
      ]
     },
     "metadata": {
      "needs_background": "light"
     },
     "output_type": "display_data"
    }
   ],
   "source": [
    "_plot_loss(np.arange(0,251), test_loss, title = 'Значение функции ошибки S от итерации обучения')"
   ]
  },
  {
   "cell_type": "markdown",
   "metadata": {},
   "source": [
    "Из графиков видно, что ошибка стремительно падает и вскоре выходит на плато как на тренировочной выборке, так и на тестовой"
   ]
  },
  {
   "cell_type": "code",
   "execution_count": 34,
   "metadata": {},
   "outputs": [
    {
     "name": "stderr",
     "output_type": "stream",
     "text": [
      "No handles with labels found to put in legend.\n"
     ]
    },
    {
     "data": {
      "image/png": "[encoded data removed]",
      "text/plain": [
       "<Figure size 720x720 with 1 Axes>"
      ]
     },
     "metadata": {
      "needs_background": "light"
     },
     "output_type": "display_data"
    }
   ],
   "source": [
    "_plot_loss(np.arange(0,248), test_loss[3:], title = 'Значение функции ошибки S от итерации обучения (ближе)')"
   ]
  },
  {
   "cell_type": "code",
   "execution_count": null,
   "metadata": {},
   "outputs": [],
   "source": []
  }
 ],
 "metadata": {
  "kernelspec": {
   "display_name": "Python 3",
   "language": "python",
   "name": "python3"
  },
  "language_info": {
   "codemirror_mode": {
    "name": "ipython",
    "version": 3
   },
   "file_extension": ".py",
   "mimetype": "text/x-python",
   "name": "python",
   "nbconvert_exporter": "python",
   "pygments_lexer": "ipython3",
   "version": "3.6.0"
  }
 },
 "nbformat": 4,
 "nbformat_minor": 2
}
