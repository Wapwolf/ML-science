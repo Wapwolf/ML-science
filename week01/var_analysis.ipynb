{
 "cells": [
  {
   "cell_type": "code",
   "execution_count": 1,
   "metadata": {},
   "outputs": [],
   "source": [
    "import numpy as np\n",
    "import pandas as pd\n",
    "import io\n",
    "import urllib.request\n",
    "\n",
    "from matplotlib import pylab as plt\n",
    "from sklearn.utils import resample\n",
    "\n",
    "# Настройки matplotlib\n",
    "\n",
    "plt.rcParams['font.family'] = 'DejaVu Serif'\n",
    "plt.rcParams['lines.linewidth'] = 3\n",
    "plt.rcParams['lines.markersize'] = 12\n",
    "plt.rcParams['xtick.labelsize'] = 16\n",
    "plt.rcParams['ytick.labelsize'] = 16\n",
    "plt.rcParams['legend.fontsize'] = 16\n",
    "plt.rcParams['axes.titlesize'] = 36\n",
    "plt.rcParams['axes.labelsize'] = 16"
   ]
  },
  {
   "cell_type": "markdown",
   "metadata": {},
   "source": []
  },
  {
   "cell_type": "markdown",
   "metadata": {},
   "source": [
    "## Блок часто используемых функций:\n",
    "*Описание:* Здесь объявлены часто вызываемые функции, которые я часто использую в этом ноутбуке"
   ]
  },
  {
   "cell_type": "code",
   "execution_count": 2,
   "metadata": {},
   "outputs": [],
   "source": [
    "def load_data(url, name):\n",
    "    \"\"\"\n",
    "    Loading data\n",
    "\n",
    "    Parameters\n",
    "    ----------\n",
    "    url : string\n",
    "        url leading to data\n",
    "    name : string\n",
    "        name by which data will be stored in memory\n",
    "\n",
    "    Returns\n",
    "    -------\n",
    "    DataFrame\n",
    "        dataframe with loaded data\n",
    "    \"\"\"\n",
    "    try:\n",
    "        urllib.request.urlretrieve(url, name)\n",
    "    except PermissionError:\n",
    "        print('Data is already loaded')\n",
    "    df = pd.read_csv(name)\n",
    "    return df\n",
    "\n",
    "def calc_w(x, y):\n",
    "    \"\"\"\n",
    "    Calculate weights\n",
    "\n",
    "    Parameters\n",
    "    ----------\n",
    "    X : numpy array\n",
    "        matrix resulted from independent vector \n",
    "    y : numpy array\n",
    "        vector of dependent values\n",
    "\n",
    "    Returns\n",
    "    -------\n",
    "    numpy array\n",
    "        numpy array with calculated weights\n",
    "    \"\"\"\n",
    "    return np.dot(np.linalg.pinv(x), y)\n",
    "\n",
    "def _plot(x, y, y_pred = None, title = None, \n",
    "          plot_label = None, x_label = 'Время', y_label = 'Цена'):\n",
    "    \"\"\"\n",
    "    Plots data and predicted function line if there is one (Captain, where is m boat?)\n",
    "\n",
    "    Parameters\n",
    "    ----------\n",
    "    x : numpy array\n",
    "        features\n",
    "    y : numpy array\n",
    "        vector of dependent values\n",
    "    y_pred : numpy array\n",
    "        vector of predicted values\n",
    "    title : string\n",
    "        plot name\n",
    "    plot_label : string\n",
    "        name of the line that will be shown in legend\n",
    "    x_label : string\n",
    "    y_label : string\n",
    "\n",
    "    Returns\n",
    "    -------\n",
    "    None\n",
    "    \"\"\"    \n",
    "    plt.scatter(x, y, label='', s = 10)\n",
    "    \n",
    "    if y_pred is not None:\n",
    "        y_pred_std = [0,0]\n",
    "        plt.plot(x, y_pred, color='black', linewidth=2, label=plot_label)\n",
    "        for i in range(2,len(y_pred)-2):\n",
    "            y_pred_std.append(np.std(y_pred[i-2:i+2]))\n",
    "        y_pred_std.append(0)\n",
    "        y_pred_std.append(0)\n",
    "        plt.fill_between(x,y_pred - y_pred_std, y_pred + y_pred_std, label='Prediction')\n",
    "        plt.legend()\n",
    "        \n",
    "    if title:\n",
    "        plt.title(title, size = 26)\n",
    "        \n",
    "    plt.xlabel(x_label, size=16)\n",
    "    plt.ylabel(y_label, size=16)\n",
    "    plt.grid()\n",
    "    plt.show()"
   ]
  },
  {
   "cell_type": "markdown",
   "metadata": {},
   "source": [
    "## Цель вычислительного эксперимента\n",
    "\n",
    "Необходимо решить задачу регрессии с использованием криволинейной регрессии. Для этого предлагается:  \n",
    " - Написать процедуру bootstrep, которая возвращает К выборок того же объема, что и обучающая,    \n",
    " - Для каждой выборки настроить параметры, вычислить ожидание параметров, дисперсию и ковариацию параметров, ожидание ошибки, дисперсию ошибки.  \n",
    " - (Дополнительно) для фиксированного числа признаков построить график зависимости ожидания и дисперсии ошибки от объема выборки.  \n",
    "  \n",
    "**Метрика качества:** MSE - Mean Square Error, R2 - coefficient of determination"
   ]
  },
  {
   "cell_type": "markdown",
   "metadata": {},
   "source": [
    "## Описание выборок\n",
    "В эксперименте решается задача регрессии для предсказания цены на белый хлеб, использован датасет WhiteBreadPrices  \n",
    " (ссылка на датасет: https://sourceforge.net/p/mvr/code/HEAD/tree/data/WhiteBreadPrices.csv?format=raw)\n",
    " \n",
    "Данный датасет содержит всего две колонки и не требует серьёзной предобработки, поэтому идеально подходит для демонстрации метода bootstrap "
   ]
  },
  {
   "cell_type": "markdown",
   "metadata": {},
   "source": [
    "## Задача: Предсказание цены на хлеб  \n",
    "  \n",
    "*Описание задачи*: В этой задаче мы будем предсказывать цену на порезанный хлеб в зависимости от времени.  "
   ]
  },
  {
   "cell_type": "markdown",
   "metadata": {},
   "source": [
    "#### Шаг 0: Загрузка и визуализация выборки"
   ]
  },
  {
   "cell_type": "code",
   "execution_count": 3,
   "metadata": {},
   "outputs": [
    {
     "data": {
      "text/html": [
       "<div>\n",
       "<style scoped>\n",
       "    .dataframe tbody tr th:only-of-type {\n",
       "        vertical-align: middle;\n",
       "    }\n",
       "\n",
       "    .dataframe tbody tr th {\n",
       "        vertical-align: top;\n",
       "    }\n",
       "\n",
       "    .dataframe thead th {\n",
       "        text-align: right;\n",
       "    }\n",
       "</style>\n",
       "<table border=\"1\" class=\"dataframe\">\n",
       "  <thead>\n",
       "    <tr style=\"text-align: right;\">\n",
       "      <th></th>\n",
       "      <th>0.27723</th>\n",
       "      <th>0</th>\n",
       "    </tr>\n",
       "  </thead>\n",
       "  <tbody>\n",
       "    <tr>\n",
       "      <th>0</th>\n",
       "      <td>0.29703</td>\n",
       "      <td>0.005155</td>\n",
       "    </tr>\n",
       "    <tr>\n",
       "      <th>1</th>\n",
       "      <td>0.21782</td>\n",
       "      <td>0.010309</td>\n",
       "    </tr>\n",
       "    <tr>\n",
       "      <th>2</th>\n",
       "      <td>0.12871</td>\n",
       "      <td>0.015464</td>\n",
       "    </tr>\n",
       "    <tr>\n",
       "      <th>3</th>\n",
       "      <td>0.31683</td>\n",
       "      <td>0.020619</td>\n",
       "    </tr>\n",
       "    <tr>\n",
       "      <th>4</th>\n",
       "      <td>0.34653</td>\n",
       "      <td>0.025773</td>\n",
       "    </tr>\n",
       "  </tbody>\n",
       "</table>\n",
       "</div>"
      ],
      "text/plain": [
       "   0.27723         0\n",
       "0  0.29703  0.005155\n",
       "1  0.21782  0.010309\n",
       "2  0.12871  0.015464\n",
       "3  0.31683  0.020619\n",
       "4  0.34653  0.025773"
      ]
     },
     "execution_count": 3,
     "metadata": {},
     "output_type": "execute_result"
    }
   ],
   "source": [
    "url = 'https://sourceforge.net/p/mvr/code/HEAD/tree/data/WhiteBreadPrices.csv?format=raw'\n",
    "name = 'WhiteBreadPrices.csv'\n",
    "df = load_data(url, name)\n",
    "df.head()"
   ]
  },
  {
   "cell_type": "markdown",
   "metadata": {},
   "source": [
    "Видим, что у датасета нет названий столбцов. Непорядок! Заглянем на сайт-источник и обнаружим, что именно имелось ввиду:  \n",
    ">'The 1st column is the price of a loaf of bread;'  \n",
    ">'the 2nd column is the time.'  \n",
    "\n",
    "Изменим название столбцов в соответствии с полученной информацией"
   ]
  },
  {
   "cell_type": "code",
   "execution_count": 4,
   "metadata": {},
   "outputs": [
    {
     "data": {
      "text/html": [
       "<div>\n",
       "<style scoped>\n",
       "    .dataframe tbody tr th:only-of-type {\n",
       "        vertical-align: middle;\n",
       "    }\n",
       "\n",
       "    .dataframe tbody tr th {\n",
       "        vertical-align: top;\n",
       "    }\n",
       "\n",
       "    .dataframe thead th {\n",
       "        text-align: right;\n",
       "    }\n",
       "</style>\n",
       "<table border=\"1\" class=\"dataframe\">\n",
       "  <thead>\n",
       "    <tr style=\"text-align: right;\">\n",
       "      <th></th>\n",
       "      <th>Price</th>\n",
       "      <th>Time</th>\n",
       "    </tr>\n",
       "  </thead>\n",
       "  <tbody>\n",
       "    <tr>\n",
       "      <th>0</th>\n",
       "      <td>0.29703</td>\n",
       "      <td>0.005155</td>\n",
       "    </tr>\n",
       "    <tr>\n",
       "      <th>1</th>\n",
       "      <td>0.21782</td>\n",
       "      <td>0.010309</td>\n",
       "    </tr>\n",
       "    <tr>\n",
       "      <th>2</th>\n",
       "      <td>0.12871</td>\n",
       "      <td>0.015464</td>\n",
       "    </tr>\n",
       "    <tr>\n",
       "      <th>3</th>\n",
       "      <td>0.31683</td>\n",
       "      <td>0.020619</td>\n",
       "    </tr>\n",
       "    <tr>\n",
       "      <th>4</th>\n",
       "      <td>0.34653</td>\n",
       "      <td>0.025773</td>\n",
       "    </tr>\n",
       "  </tbody>\n",
       "</table>\n",
       "</div>"
      ],
      "text/plain": [
       "     Price      Time\n",
       "0  0.29703  0.005155\n",
       "1  0.21782  0.010309\n",
       "2  0.12871  0.015464\n",
       "3  0.31683  0.020619\n",
       "4  0.34653  0.025773"
      ]
     },
     "execution_count": 4,
     "metadata": {},
     "output_type": "execute_result"
    }
   ],
   "source": [
    "df.columns = [\"Price\", \"Time\"]\n",
    "df.head()"
   ]
  },
  {
   "cell_type": "markdown",
   "metadata": {},
   "source": [
    "Выведем информацию о датасете:"
   ]
  },
  {
   "cell_type": "code",
   "execution_count": 5,
   "metadata": {},
   "outputs": [
    {
     "name": "stdout",
     "output_type": "stream",
     "text": [
      "Dataset has:\n",
      "  194 rows, 1 feature\n",
      "  194 unique feature values\n",
      "\n",
      "Is there any Nan or missing values?\n",
      "Price    0\n",
      "Time     0\n",
      "dtype: int64\n"
     ]
    }
   ],
   "source": [
    "print(\"Dataset has:\")\n",
    "print(\"  %s rows, %s feature\" % (df.shape[0], int(df.shape[1] - 1)))\n",
    "print(\"  %s unique feature values\" % len(df['Time'].unique()))\n",
    "print(\"\\nIs there any Nan or missing values?\")\n",
    "print(df.isna().sum())"
   ]
  },
  {
   "cell_type": "markdown",
   "metadata": {},
   "source": [
    "Всё в порядке. Можем приступать к визуализации данных"
   ]
  },
  {
   "cell_type": "code",
   "execution_count": 6,
   "metadata": {
    "scrolled": true
   },
   "outputs": [
    {
     "data": {
      "image/png": "[encoded data removed]",
      "text/plain": [
       "<Figure size 432x288 with 1 Axes>"
      ]
     },
     "metadata": {
      "needs_background": "light"
     },
     "output_type": "display_data"
    }
   ],
   "source": [
    "x = df.iloc[:, 1]\n",
    "y = df.iloc[:, 0]\n",
    "_plot(x, y)"
   ]
  },
  {
   "cell_type": "markdown",
   "metadata": {},
   "source": [
    "#### Шаг 1: Реализация метода Bootstrap для сэмплирования выборки"
   ]
  },
  {
   "cell_type": "markdown",
   "metadata": {},
   "source": [
    "Разобъём выборку на train и test с перемешиванием:"
   ]
  },
  {
   "cell_type": "code",
   "execution_count": 7,
   "metadata": {},
   "outputs": [],
   "source": [
    "from sklearn.model_selection import train_test_split\n",
    "X_train, X_test, Y_train, Y_test = train_test_split(x, y, test_size=0.2, random_state=42)"
   ]
  },
  {
   "cell_type": "markdown",
   "metadata": {},
   "source": [
    "Для простоты работы процедуры botstrap вновь объеденим X_train и y_train в один pandas.DataFrame"
   ]
  },
  {
   "cell_type": "code",
   "execution_count": 8,
   "metadata": {},
   "outputs": [],
   "source": [
    "df_train = pd.concat([X_train, Y_train], axis=1, sort=False)"
   ]
  },
  {
   "cell_type": "markdown",
   "metadata": {},
   "source": [
    "Напишем процедуру bootstrap, которая возвращает К выборок того же объема, что и обучающая"
   ]
  },
  {
   "cell_type": "code",
   "execution_count": 9,
   "metadata": {},
   "outputs": [],
   "source": [
    "def bootstrap(df, K):\n",
    "    \"\"\"\n",
    "    Creates K samples of pairs <X,Y> with size len(X)\n",
    "\n",
    "    Parameters\n",
    "    ----------\n",
    "    df : pandas.DataFrame\n",
    "        feature matrix\n",
    "    K : int\n",
    "        number of samples\n",
    "    Returns\n",
    "    -------\n",
    "    samples: list\n",
    "        list of pandas.Dataframes (samples) with length = K\n",
    "    \"\"\"\n",
    "    return [df.sample(n=df.shape[0], replace=True) for _ in range(K)]"
   ]
  },
  {
   "cell_type": "markdown",
   "metadata": {},
   "source": [
    "И построим 10 выборок"
   ]
  },
  {
   "cell_type": "code",
   "execution_count": 10,
   "metadata": {},
   "outputs": [],
   "source": [
    "sample_list = bootstrap(df_train, 10)"
   ]
  },
  {
   "cell_type": "markdown",
   "metadata": {},
   "source": [
    "Для каждой выборки настроим параметры"
   ]
  },
  {
   "cell_type": "code",
   "execution_count": 11,
   "metadata": {},
   "outputs": [
    {
     "data": {
      "application/vnd.jupyter.widget-view+json": {
       "model_id": "3d347d81e677441f9c29398a96ac1685",
       "version_major": 2,
       "version_minor": 0
      },
      "text/plain": [
       "HBox(children=(IntProgress(value=0, max=10), HTML(value='')))"
      ]
     },
     "metadata": {},
     "output_type": "display_data"
    },
    {
     "name": "stdout",
     "output_type": "stream",
     "text": [
      "K0, MSE: 0.00887\n",
      "K1, MSE: 0.00917\n",
      "K2, MSE: 0.00891\n",
      "K3, MSE: 0.00865\n",
      "K4, MSE: 0.00875\n",
      "K5, MSE: 0.00878\n",
      "K6, MSE: 0.00905\n",
      "K7, MSE: 0.00872\n",
      "K8, MSE: 0.00864\n",
      "K9, MSE: 0.00910\n",
      "\n"
     ]
    }
   ],
   "source": [
    "from tqdm.notebook import tqdm\n",
    "\n",
    "weights_list = []\n",
    "error_list = []\n",
    "\n",
    "# a little bit of feature engineereing for better accuracy\n",
    "x_test = np.column_stack((np.ones(X_test.values.shape[0]), X_test.values, X_test.values*np.sin(10*X_test.values)))\n",
    "y_test = Y_test.values\n",
    "\n",
    "for K,sample in enumerate(tqdm(sample_list)):\n",
    "    x_train = sample['Time'].values\n",
    "    y_train = sample['Price'].values\n",
    "    \n",
    "    x_train = np.column_stack((np.ones(x_train.shape[0]), x_train, x_train*np.sin(10*x_train)))\n",
    "    \n",
    "    # calculate weights\n",
    "    w = calc_w(x_train, y_train)\n",
    "    \n",
    "    # predict independent vector for sample\n",
    "    y_pred = x_test@w\n",
    "    \n",
    "    # calculate residual\n",
    "    delta_y = y_test - y_pred\n",
    "    \n",
    "    # calculate errors\n",
    "    mse_value = np.mean(delta_y**2)\n",
    "    print('K{}, MSE: {:0.5f}'.format(K, mse_value))\n",
    "    \n",
    "    #add calculated weights and errors to corresponding arrays\n",
    "    weights_list.append(w)\n",
    "    error_list.append(mse_value)\n",
    "    \n",
    "    "
   ]
  },
  {
   "cell_type": "markdown",
   "metadata": {},
   "source": [
    "Вычислим матожидание параметров, дисперсию и ковариацию параметров "
   ]
  },
  {
   "cell_type": "code",
   "execution_count": 12,
   "metadata": {},
   "outputs": [
    {
     "name": "stdout",
     "output_type": "stream",
     "text": [
      "Матожидание параметров [0.24930651 0.21322169 0.09592032]\n",
      "Дисперсия параметров   [0.00017052 0.0008546  0.00045248]\n"
     ]
    },
    {
     "data": {
      "text/html": [
       "<div>\n",
       "<style scoped>\n",
       "    .dataframe tbody tr th:only-of-type {\n",
       "        vertical-align: middle;\n",
       "    }\n",
       "\n",
       "    .dataframe tbody tr th {\n",
       "        vertical-align: top;\n",
       "    }\n",
       "\n",
       "    .dataframe thead th {\n",
       "        text-align: right;\n",
       "    }\n",
       "</style>\n",
       "<table border=\"1\" class=\"dataframe\">\n",
       "  <thead>\n",
       "    <tr style=\"text-align: right;\">\n",
       "      <th></th>\n",
       "      <th>w1</th>\n",
       "      <th>w2</th>\n",
       "      <th>w3</th>\n",
       "    </tr>\n",
       "  </thead>\n",
       "  <tbody>\n",
       "    <tr>\n",
       "      <th>w1</th>\n",
       "      <td>0.000189</td>\n",
       "      <td>-0.000366</td>\n",
       "      <td>0.000069</td>\n",
       "    </tr>\n",
       "    <tr>\n",
       "      <th>w2</th>\n",
       "      <td>-0.000366</td>\n",
       "      <td>0.000950</td>\n",
       "      <td>0.000062</td>\n",
       "    </tr>\n",
       "    <tr>\n",
       "      <th>w3</th>\n",
       "      <td>0.000069</td>\n",
       "      <td>0.000062</td>\n",
       "      <td>0.000503</td>\n",
       "    </tr>\n",
       "  </tbody>\n",
       "</table>\n",
       "</div>"
      ],
      "text/plain": [
       "          w1        w2        w3\n",
       "w1  0.000189 -0.000366  0.000069\n",
       "w2 -0.000366  0.000950  0.000062\n",
       "w3  0.000069  0.000062  0.000503"
      ]
     },
     "execution_count": 12,
     "metadata": {},
     "output_type": "execute_result"
    }
   ],
   "source": [
    "print(f'Матожидание параметров {np.mean(weights_list, axis = 0)}')\n",
    "print(f'Дисперсия параметров   {np.var(weights_list, axis = 0)}')\n",
    "\n",
    "pd.DataFrame(np.cov(weights_list, rowvar=False), index=['w1','w2','w3'], columns=['w1','w2','w3'] )"
   ]
  },
  {
   "cell_type": "markdown",
   "metadata": {},
   "source": [
    "Вычислим матожидание ошибки и дисперсию ошибки"
   ]
  },
  {
   "cell_type": "code",
   "execution_count": 13,
   "metadata": {},
   "outputs": [
    {
     "name": "stdout",
     "output_type": "stream",
     "text": [
      "Матожидание 0.008865\n",
      "Дисперсия   3.258364767448459e-08\n"
     ]
    }
   ],
   "source": [
    "print('Матожидание {:0.6f}'.format(np.mean(error_list, axis = 0)))\n",
    "print(f'Дисперсия   {np.var(error_list, axis = 0)}')"
   ]
  },
  {
   "cell_type": "code",
   "execution_count": 14,
   "metadata": {},
   "outputs": [
    {
     "data": {
      "application/vnd.jupyter.widget-view+json": {
       "model_id": "5754b69d20e34d4ba1a0bf4ddaf286bc",
       "version_major": 2,
       "version_minor": 0
      },
      "text/plain": [
       "HBox(children=(IntProgress(value=0, max=19), HTML(value='')))"
      ]
     },
     "metadata": {},
     "output_type": "display_data"
    },
    {
     "name": "stdout",
     "output_type": "stream",
     "text": [
      "10% выборки, MSE: 0.013, дисперсия MSE: 0.000640\n",
      "15% выборки, MSE: 0.010, дисперсия MSE: 0.000432\n",
      "20% выборки, MSE: 0.009, дисперсия MSE: 0.000358\n",
      "25% выборки, MSE: 0.009, дисперсия MSE: 0.000332\n",
      "30% выборки, MSE: 0.009, дисперсия MSE: 0.000281\n",
      "35% выборки, MSE: 0.009, дисперсия MSE: 0.000248\n",
      "40% выборки, MSE: 0.010, дисперсия MSE: 0.000254\n",
      "45% выборки, MSE: 0.010, дисперсия MSE: 0.000264\n",
      "50% выборки, MSE: 0.010, дисперсия MSE: 0.000283\n",
      "55% выборки, MSE: 0.010, дисперсия MSE: 0.000287\n",
      "60% выборки, MSE: 0.009, дисперсия MSE: 0.000299\n",
      "65% выборки, MSE: 0.009, дисперсия MSE: 0.000301\n",
      "70% выборки, MSE: 0.009, дисперсия MSE: 0.000304\n",
      "75% выборки, MSE: 0.009, дисперсия MSE: 0.000305\n",
      "80% выборки, MSE: 0.009, дисперсия MSE: 0.000318\n",
      "85% выборки, MSE: 0.009, дисперсия MSE: 0.000299\n",
      "90% выборки, MSE: 0.009, дисперсия MSE: 0.000305\n",
      "95% выборки, MSE: 0.009, дисперсия MSE: 0.000283\n",
      "100% выборки, MSE: 0.009, дисперсия MSE: 0.000287\n",
      "\n"
     ]
    },
    {
     "data": {
      "image/png": "[encoded data removed]",
      "text/plain": [
       "<Figure size 432x288 with 1 Axes>"
      ]
     },
     "metadata": {
      "needs_background": "light"
     },
     "output_type": "display_data"
    },
    {
     "data": {
      "image/png": "[encoded data removed]",
      "text/plain": [
       "<Figure size 432x288 with 1 Axes>"
      ]
     },
     "metadata": {
      "needs_background": "light"
     },
     "output_type": "display_data"
    }
   ],
   "source": [
    "sample_length_list = np.arange(0.1, 1.05, 0.05)\n",
    "error_list = []\n",
    "error_vars = []\n",
    "\n",
    "for length in tqdm(sample_length_list):\n",
    "    x_train = X_train.values[:int(len(X_train)*length)]\n",
    "    y_train = Y_train.values[:int(len(Y_train)*length)]\n",
    "    \n",
    "    # a little bit of feature engineereing for better accuracy\n",
    "    x_train = np.column_stack((np.ones(x_train.shape[0]), x_train, x_train*np.sin(10*x_train)))\n",
    "    \n",
    "    # calculate weights\n",
    "    w = calc_w(x_train, y_train)\n",
    "    \n",
    "    # predict independent vector for sample\n",
    "    y_pred = x_test@w\n",
    "    \n",
    "    # calculate residual\n",
    "    delta_y = y_test - y_pred\n",
    "    \n",
    "    # calculate errors\n",
    "    mse_value = np.mean(delta_y**2)\n",
    "    mse_variance = np.mean((delta_y)**4 - mse_value**2)\n",
    "    print('{}% выборки, MSE: {:0.3f}, дисперсия MSE: {:0.6f}'.format(int(length*100),\n",
    "                                                           mse_value,\n",
    "                                                           mse_variance))\n",
    "    \n",
    "    #add calculated errors and variances to corresponding arrays\n",
    "    error_list.append(mse_value)\n",
    "    error_vars.append(mse_variance)\n",
    "\n",
    "plt.xlabel('Размер выборки')\n",
    "plt.ylabel('Матожидание ошибки')\n",
    "plt.plot(sample_length_list, error_list)\n",
    "plt.grid()\n",
    "plt.show()\n",
    "\n",
    "plt.xlabel('Размер выборки')\n",
    "plt.ylabel('Дисперсия ошибки')\n",
    "plt.plot(sample_length_list, error_vars)\n",
    "plt.grid()\n",
    "plt.show()\n"
   ]
  },
  {
   "cell_type": "markdown",
   "metadata": {},
   "source": [
    "Исходя из графиков мы видим, что при увеличении размера выборки как матожидание, так и дисперсия ошибки убывает (что несколько неожиданно)."
   ]
  }
 ],
 "metadata": {
  "kernelspec": {
   "display_name": "Python (MLsandbox)",
   "language": "python",
   "name": "mlsandbox"
  },
  "language_info": {
   "codemirror_mode": {
    "name": "ipython",
    "version": 3
   },
   "file_extension": ".py",
   "mimetype": "text/x-python",
   "name": "python",
   "nbconvert_exporter": "python",
   "pygments_lexer": "ipython3",
   "version": "3.6.0"
  }
 },
 "nbformat": 4,
 "nbformat_minor": 2
}
